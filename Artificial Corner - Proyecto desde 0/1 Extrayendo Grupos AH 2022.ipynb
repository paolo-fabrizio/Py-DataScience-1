{
 "cells": [
  {
   "cell_type": "markdown",
   "id": "415034b5",
   "metadata": {},
   "source": [
    "# 1 Demostración de Importación de tablas"
   ]
  },
  {
   "cell_type": "code",
   "execution_count": 1,
   "id": "2ae22dd7",
   "metadata": {},
   "outputs": [],
   "source": [
    "import pandas as pd\n",
    "from string import ascii_uppercase as alphabet #se importa el alfabeto en mayúsculas\n",
    "import pickle"
   ]
  },
  {
   "cell_type": "code",
   "execution_count": 2,
   "id": "998c41ca",
   "metadata": {},
   "outputs": [],
   "source": [
    "todas_tablas = pd.read_html('https://en.wikipedia.org/wiki/2022_FIFA_World_Cup')"
   ]
  },
  {
   "cell_type": "code",
   "execution_count": 3,
   "id": "8b77b036",
   "metadata": {},
   "outputs": [
    {
     "data": {
      "text/html": [
       "<div>\n",
       "<style scoped>\n",
       "    .dataframe tbody tr th:only-of-type {\n",
       "        vertical-align: middle;\n",
       "    }\n",
       "\n",
       "    .dataframe tbody tr th {\n",
       "        vertical-align: top;\n",
       "    }\n",
       "\n",
       "    .dataframe thead th {\n",
       "        text-align: right;\n",
       "    }\n",
       "</style>\n",
       "<table border=\"1\" class=\"dataframe\">\n",
       "  <thead>\n",
       "    <tr style=\"text-align: right;\">\n",
       "      <th></th>\n",
       "      <th>Pos</th>\n",
       "      <th>Teamvte</th>\n",
       "      <th>Pld</th>\n",
       "      <th>W</th>\n",
       "      <th>D</th>\n",
       "      <th>L</th>\n",
       "      <th>GF</th>\n",
       "      <th>GA</th>\n",
       "      <th>GD</th>\n",
       "      <th>Pts</th>\n",
       "      <th>Qualification</th>\n",
       "    </tr>\n",
       "  </thead>\n",
       "  <tbody>\n",
       "    <tr>\n",
       "      <th>0</th>\n",
       "      <td>1</td>\n",
       "      <td>Argentina</td>\n",
       "      <td>3</td>\n",
       "      <td>2</td>\n",
       "      <td>0</td>\n",
       "      <td>1</td>\n",
       "      <td>5</td>\n",
       "      <td>2</td>\n",
       "      <td>+3</td>\n",
       "      <td>6</td>\n",
       "      <td>Advanced to knockout stage</td>\n",
       "    </tr>\n",
       "    <tr>\n",
       "      <th>1</th>\n",
       "      <td>2</td>\n",
       "      <td>Poland</td>\n",
       "      <td>3</td>\n",
       "      <td>1</td>\n",
       "      <td>1</td>\n",
       "      <td>1</td>\n",
       "      <td>2</td>\n",
       "      <td>2</td>\n",
       "      <td>0</td>\n",
       "      <td>4</td>\n",
       "      <td>Advanced to knockout stage</td>\n",
       "    </tr>\n",
       "    <tr>\n",
       "      <th>2</th>\n",
       "      <td>3</td>\n",
       "      <td>Mexico</td>\n",
       "      <td>3</td>\n",
       "      <td>1</td>\n",
       "      <td>1</td>\n",
       "      <td>1</td>\n",
       "      <td>2</td>\n",
       "      <td>3</td>\n",
       "      <td>−1</td>\n",
       "      <td>4</td>\n",
       "      <td>NaN</td>\n",
       "    </tr>\n",
       "    <tr>\n",
       "      <th>3</th>\n",
       "      <td>4</td>\n",
       "      <td>Saudi Arabia</td>\n",
       "      <td>3</td>\n",
       "      <td>1</td>\n",
       "      <td>0</td>\n",
       "      <td>2</td>\n",
       "      <td>3</td>\n",
       "      <td>5</td>\n",
       "      <td>−2</td>\n",
       "      <td>3</td>\n",
       "      <td>NaN</td>\n",
       "    </tr>\n",
       "  </tbody>\n",
       "</table>\n",
       "</div>"
      ],
      "text/plain": [
       "   Pos       Teamvte  Pld  W  D  L  GF  GA  GD  Pts  \\\n",
       "0    1     Argentina    3  2  0  1   5   2  +3    6   \n",
       "1    2        Poland    3  1  1  1   2   2   0    4   \n",
       "2    3        Mexico    3  1  1  1   2   3  −1    4   \n",
       "3    4  Saudi Arabia    3  1  0  2   3   5  −2    3   \n",
       "\n",
       "                Qualification  \n",
       "0  Advanced to knockout stage  \n",
       "1  Advanced to knockout stage  \n",
       "2                         NaN  \n",
       "3                         NaN  "
      ]
     },
     "execution_count": 3,
     "metadata": {},
     "output_type": "execute_result"
    }
   ],
   "source": [
    "# A -> H\n",
    "# 9 -> 7 * 8 + 9 = 65\n",
    "todas_tablas[9]\n",
    "todas_tablas[16]\n",
    "todas_tablas[23]"
   ]
  },
  {
   "cell_type": "code",
   "execution_count": 4,
   "id": "5564b433",
   "metadata": {},
   "outputs": [
    {
     "name": "stdout",
     "output_type": "stream",
     "text": [
      "A 9\n",
      "B 16\n",
      "C 23\n",
      "D 30\n",
      "E 37\n",
      "F 44\n",
      "G 51\n",
      "H 58\n"
     ]
    }
   ],
   "source": [
    "# Demostración de función zip en un bucle for\n",
    "for letter, i in zip(alphabet, range (9, 65, 7)):\n",
    "    print(letter, i)"
   ]
  },
  {
   "cell_type": "markdown",
   "id": "bf55a2c2",
   "metadata": {},
   "source": [
    "# 2 Extrayendo y limpiando grupos 2022"
   ]
  },
  {
   "cell_type": "code",
   "execution_count": 5,
   "id": "338c2dde",
   "metadata": {},
   "outputs": [],
   "source": [
    "def clear_group(df):\n",
    "    # Cambiamos el nombre de la columna 'Teamvte' a 'Team'\n",
    "    # Se utiliza df.columns[1] para ubicar la columna 'Teamvte' ya que no en todas las tablas se denomina igual\n",
    "    df.rename(columns={df.columns[1]: 'Team'}, inplace=True)\n",
    "    \n",
    "    for col in df.columns[2:]:\n",
    "        df[col].values[:] = 0\n",
    "    \n",
    "    return df\n",
    "    "
   ]
  },
  {
   "cell_type": "code",
   "execution_count": 6,
   "id": "3a7b2eca",
   "metadata": {
    "scrolled": true
   },
   "outputs": [],
   "source": [
    "dict_grupos = {} \n",
    "for letter, i in zip(alphabet, range (9, 65, 7)): #zip permite trabajar con dos parámetros a la vez, en este caso el alfabeto\n",
    "    df = todas_tablas[i]\n",
    "    df = clear_group(df)\n",
    "    \n",
    "    #La columna 'Qualification' es igual en todas las tablas, por lo que no es necesario ubicarla por su posición\n",
    "    df.pop('Qualification')\n",
    "    #Creación del diccionario con los nombre de los grupos asignados de forma dinámica\n",
    "    dict_grupos[f'Group {letter}'] = df"
   ]
  },
  {
   "cell_type": "code",
   "execution_count": 7,
   "id": "d7ebeb22",
   "metadata": {},
   "outputs": [
    {
     "data": {
      "text/html": [
       "<div>\n",
       "<style scoped>\n",
       "    .dataframe tbody tr th:only-of-type {\n",
       "        vertical-align: middle;\n",
       "    }\n",
       "\n",
       "    .dataframe tbody tr th {\n",
       "        vertical-align: top;\n",
       "    }\n",
       "\n",
       "    .dataframe thead th {\n",
       "        text-align: right;\n",
       "    }\n",
       "</style>\n",
       "<table border=\"1\" class=\"dataframe\">\n",
       "  <thead>\n",
       "    <tr style=\"text-align: right;\">\n",
       "      <th></th>\n",
       "      <th>Pos</th>\n",
       "      <th>Team</th>\n",
       "      <th>Pld</th>\n",
       "      <th>W</th>\n",
       "      <th>D</th>\n",
       "      <th>L</th>\n",
       "      <th>GF</th>\n",
       "      <th>GA</th>\n",
       "      <th>GD</th>\n",
       "      <th>Pts</th>\n",
       "    </tr>\n",
       "  </thead>\n",
       "  <tbody>\n",
       "    <tr>\n",
       "      <th>0</th>\n",
       "      <td>1</td>\n",
       "      <td>Portugal</td>\n",
       "      <td>0</td>\n",
       "      <td>0</td>\n",
       "      <td>0</td>\n",
       "      <td>0</td>\n",
       "      <td>0</td>\n",
       "      <td>0</td>\n",
       "      <td>0</td>\n",
       "      <td>0</td>\n",
       "    </tr>\n",
       "    <tr>\n",
       "      <th>1</th>\n",
       "      <td>2</td>\n",
       "      <td>South Korea</td>\n",
       "      <td>0</td>\n",
       "      <td>0</td>\n",
       "      <td>0</td>\n",
       "      <td>0</td>\n",
       "      <td>0</td>\n",
       "      <td>0</td>\n",
       "      <td>0</td>\n",
       "      <td>0</td>\n",
       "    </tr>\n",
       "    <tr>\n",
       "      <th>2</th>\n",
       "      <td>3</td>\n",
       "      <td>Uruguay</td>\n",
       "      <td>0</td>\n",
       "      <td>0</td>\n",
       "      <td>0</td>\n",
       "      <td>0</td>\n",
       "      <td>0</td>\n",
       "      <td>0</td>\n",
       "      <td>0</td>\n",
       "      <td>0</td>\n",
       "    </tr>\n",
       "    <tr>\n",
       "      <th>3</th>\n",
       "      <td>4</td>\n",
       "      <td>Ghana</td>\n",
       "      <td>0</td>\n",
       "      <td>0</td>\n",
       "      <td>0</td>\n",
       "      <td>0</td>\n",
       "      <td>0</td>\n",
       "      <td>0</td>\n",
       "      <td>0</td>\n",
       "      <td>0</td>\n",
       "    </tr>\n",
       "  </tbody>\n",
       "</table>\n",
       "</div>"
      ],
      "text/plain": [
       "   Pos         Team  Pld  W  D  L  GF  GA GD  Pts\n",
       "0    1     Portugal    0  0  0  0   0   0  0    0\n",
       "1    2  South Korea    0  0  0  0   0   0  0    0\n",
       "2    3      Uruguay    0  0  0  0   0   0  0    0\n",
       "3    4        Ghana    0  0  0  0   0   0  0    0"
      ]
     },
     "execution_count": 7,
     "metadata": {},
     "output_type": "execute_result"
    }
   ],
   "source": [
    "dict_grupos['Group H']"
   ]
  },
  {
   "cell_type": "code",
   "execution_count": 8,
   "id": "8c37a71c",
   "metadata": {},
   "outputs": [],
   "source": [
    "# Exportación del diccionario mediante la librería \"pickle\"\n",
    "with open ('DictGroups2022', 'wb') as output: #with open (name_of_export, write_mode)\n",
    "    pickle.dump(dict_grupos, output)"
   ]
  }
 ],
 "metadata": {
  "kernelspec": {
   "display_name": "Python 3 (ipykernel)",
   "language": "python",
   "name": "python3"
  },
  "language_info": {
   "codemirror_mode": {
    "name": "ipython",
    "version": 3
   },
   "file_extension": ".py",
   "mimetype": "text/x-python",
   "name": "python",
   "nbconvert_exporter": "python",
   "pygments_lexer": "ipython3",
   "version": "3.10.9"
  }
 },
 "nbformat": 4,
 "nbformat_minor": 5
}

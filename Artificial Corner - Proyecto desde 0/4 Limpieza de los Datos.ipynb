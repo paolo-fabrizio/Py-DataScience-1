{
 "cells": [
  {
   "cell_type": "code",
   "execution_count": 1,
   "id": "df048af0",
   "metadata": {},
   "outputs": [],
   "source": [
    "import pandas as pd"
   ]
  },
  {
   "cell_type": "markdown",
   "id": "92f370f7",
   "metadata": {},
   "source": [
    "# 1 Limpiando data"
   ]
  },
  {
   "cell_type": "code",
   "execution_count": 2,
   "id": "0571fffc",
   "metadata": {},
   "outputs": [],
   "source": [
    "df_historical_data = pd.read_csv('fifa_worldcup_historical_data.csv')\n",
    "df_fixture = pd.read_csv('fifa_worldcup_fixture.csv')"
   ]
  },
  {
   "cell_type": "markdown",
   "id": "75cca6e1",
   "metadata": {},
   "source": [
    "## 1.1 Limpiando df_fixture"
   ]
  },
  {
   "cell_type": "code",
   "execution_count": 3,
   "id": "812266bb",
   "metadata": {},
   "outputs": [],
   "source": [
    "# Eliminamos la columna score, renombramos homes y guardamos los cambios\n",
    "df_fixture.drop('score', axis=1, inplace=True)\n",
    "df_fixture.rename(columns={\"homes\": \"home\"}, inplace=True)\n",
    "\n",
    "#str hace referencia a la cadena, strip elimina los espacios en blanco\n",
    "df_fixture['home'] = df_fixture['home'].str.strip()\n",
    "df_fixture['away'] = df_fixture['away'].str.strip()"
   ]
  },
  {
   "cell_type": "markdown",
   "id": "084a29b4",
   "metadata": {},
   "source": [
    "## 1.2 Limpiando df_missing_data y agregandolo a df_historical_data"
   ]
  },
  {
   "cell_type": "markdown",
   "id": "b526af1f",
   "metadata": {},
   "source": [
    "En el video se usó para chequear la data faltante, pero en nuestro caso no fue necesario ya que la página cambió y los datos se rescataron limpios"
   ]
  },
  {
   "cell_type": "code",
   "execution_count": 4,
   "id": "0c8715a0",
   "metadata": {},
   "outputs": [
    {
     "data": {
      "text/html": [
       "<div>\n",
       "<style scoped>\n",
       "    .dataframe tbody tr th:only-of-type {\n",
       "        vertical-align: middle;\n",
       "    }\n",
       "\n",
       "    .dataframe tbody tr th {\n",
       "        vertical-align: top;\n",
       "    }\n",
       "\n",
       "    .dataframe thead th {\n",
       "        text-align: right;\n",
       "    }\n",
       "</style>\n",
       "<table border=\"1\" class=\"dataframe\">\n",
       "  <thead>\n",
       "    <tr style=\"text-align: right;\">\n",
       "      <th></th>\n",
       "      <th>home</th>\n",
       "      <th>away</th>\n",
       "      <th>score</th>\n",
       "      <th>year</th>\n",
       "    </tr>\n",
       "  </thead>\n",
       "  <tbody>\n",
       "  </tbody>\n",
       "</table>\n",
       "</div>"
      ],
      "text/plain": [
       "Empty DataFrame\n",
       "Columns: [home, away, score, year]\n",
       "Index: []"
      ]
     },
     "execution_count": 4,
     "metadata": {},
     "output_type": "execute_result"
    }
   ],
   "source": [
    "# df_historical_data[df_historical_data['home'].isnull()]\n",
    "# df_historical_data.dropna(inplace=True)\n",
    "df_historical_data[df_historical_data['home'].isnull()]"
   ]
  },
  {
   "cell_type": "markdown",
   "id": "06e37b7a",
   "metadata": {},
   "source": [
    "A continuación, en el video se concatenaron los df de la data faltante, con la data histórica (archivos resultantes de los archivos 2 y 3).\n",
    "\n",
    "**inplace=True** sirve para guardar los cambios en el dataframe al aplicar una función"
   ]
  },
  {
   "cell_type": "code",
   "execution_count": 5,
   "id": "01217ec7",
   "metadata": {},
   "outputs": [],
   "source": [
    "# pd.concat([df_data_faltante, df_historical_data], ignore_index=True)\n",
    "df_historical_data.drop_duplicates(inplace=True) # Elimina los duplicados\n",
    "df_historical_data.sort_values('year', inplace=True) # Ordena el dataframe por año"
   ]
  },
  {
   "cell_type": "code",
   "execution_count": 6,
   "id": "946cc4f4",
   "metadata": {},
   "outputs": [
    {
     "data": {
      "text/html": [
       "<div>\n",
       "<style scoped>\n",
       "    .dataframe tbody tr th:only-of-type {\n",
       "        vertical-align: middle;\n",
       "    }\n",
       "\n",
       "    .dataframe tbody tr th {\n",
       "        vertical-align: top;\n",
       "    }\n",
       "\n",
       "    .dataframe thead th {\n",
       "        text-align: right;\n",
       "    }\n",
       "</style>\n",
       "<table border=\"1\" class=\"dataframe\">\n",
       "  <thead>\n",
       "    <tr style=\"text-align: right;\">\n",
       "      <th></th>\n",
       "      <th>home</th>\n",
       "      <th>away</th>\n",
       "      <th>score</th>\n",
       "      <th>year</th>\n",
       "    </tr>\n",
       "  </thead>\n",
       "  <tbody>\n",
       "    <tr>\n",
       "      <th>326</th>\n",
       "      <td>West Germany</td>\n",
       "      <td>France</td>\n",
       "      <td>3-3</td>\n",
       "      <td>1982</td>\n",
       "    </tr>\n",
       "  </tbody>\n",
       "</table>\n",
       "</div>"
      ],
      "text/plain": [
       "              home     away score  year\n",
       "326  West Germany    France   3-3  1982"
      ]
     },
     "execution_count": 6,
     "metadata": {},
     "output_type": "execute_result"
    }
   ],
   "source": [
    "# Test de regex de python\n",
    "aux = df_historical_data.copy()\n",
    "aux['score'] = df_historical_data['score'].str.replace('[^\\d–-]', '', regex=True)\n",
    "aux[aux['home'].str.contains('West Germany') &\n",
    "    aux['away'].str.contains('France')]"
   ]
  },
  {
   "cell_type": "markdown",
   "id": "0b0a7ce1",
   "metadata": {},
   "source": [
    "## 1.3 Limpiando df_historical_data"
   ]
  },
  {
   "cell_type": "markdown",
   "id": "4c78fa95",
   "metadata": {},
   "source": [
    "Ahora falta limpiar un partido donde hubo un \"walkover\", es decir, el partido no tuvo un resultado.\n",
    "Esta data no ayuda al análisis por lo que es preferible eliminarla, en este caso le corresponde al partido entre Suecia y Austria"
   ]
  },
  {
   "cell_type": "code",
   "execution_count": 7,
   "id": "760c6e23",
   "metadata": {},
   "outputs": [],
   "source": [
    "#str hace referencia a la cadena, strip elimina los espacios en blanco\n",
    "df_historical_data['home'] = df_historical_data['home'].str.strip()\n",
    "df_historical_data['away'] = df_historical_data['away'].str.strip()"
   ]
  },
  {
   "cell_type": "code",
   "execution_count": 8,
   "id": "1da31801",
   "metadata": {},
   "outputs": [],
   "source": [
    "# Las siguientes dos formas son válidas para obtener los partidos resultantes en walkover\n",
    "# df_historical_data[df_historical_data['home'].str.contains('Sweden') & \n",
    "#                    df_historical_data['away'].str.contains('Austria')]\n",
    "\n",
    "delete_index = df_historical_data[df_historical_data['score'].str.contains('w/o')].index"
   ]
  },
  {
   "cell_type": "code",
   "execution_count": 9,
   "id": "3d646c26",
   "metadata": {},
   "outputs": [],
   "source": [
    "# Eliminamos y guardamos los cambios\n",
    "df_historical_data.drop(delete_index, inplace=True)"
   ]
  },
  {
   "cell_type": "code",
   "execution_count": 10,
   "id": "b58474ca",
   "metadata": {},
   "outputs": [
    {
     "data": {
      "text/html": [
       "<div>\n",
       "<style scoped>\n",
       "    .dataframe tbody tr th:only-of-type {\n",
       "        vertical-align: middle;\n",
       "    }\n",
       "\n",
       "    .dataframe tbody tr th {\n",
       "        vertical-align: top;\n",
       "    }\n",
       "\n",
       "    .dataframe thead th {\n",
       "        text-align: right;\n",
       "    }\n",
       "</style>\n",
       "<table border=\"1\" class=\"dataframe\">\n",
       "  <thead>\n",
       "    <tr style=\"text-align: right;\">\n",
       "      <th></th>\n",
       "      <th>home</th>\n",
       "      <th>away</th>\n",
       "      <th>score</th>\n",
       "      <th>year</th>\n",
       "    </tr>\n",
       "  </thead>\n",
       "  <tbody>\n",
       "  </tbody>\n",
       "</table>\n",
       "</div>"
      ],
      "text/plain": [
       "Empty DataFrame\n",
       "Columns: [home, away, score, year]\n",
       "Index: []"
      ]
     },
     "execution_count": 10,
     "metadata": {},
     "output_type": "execute_result"
    }
   ],
   "source": [
    "# Comprobamos que se haya eliminado\n",
    "df_historical_data[df_historical_data['score'].str.contains('w/o')]"
   ]
  },
  {
   "cell_type": "markdown",
   "id": "272afab9",
   "metadata": {},
   "source": [
    "Ahora procedemos a limpiar el score buscando los caracteres que no son dígitos mediante la expresión \"[^\\d–]\" y los reemplazamos con un espacio vacío"
   ]
  },
  {
   "cell_type": "code",
   "execution_count": 11,
   "id": "d6010298",
   "metadata": {},
   "outputs": [
    {
     "data": {
      "text/html": [
       "<div>\n",
       "<style scoped>\n",
       "    .dataframe tbody tr th:only-of-type {\n",
       "        vertical-align: middle;\n",
       "    }\n",
       "\n",
       "    .dataframe tbody tr th {\n",
       "        vertical-align: top;\n",
       "    }\n",
       "\n",
       "    .dataframe thead th {\n",
       "        text-align: right;\n",
       "    }\n",
       "</style>\n",
       "<table border=\"1\" class=\"dataframe\">\n",
       "  <thead>\n",
       "    <tr style=\"text-align: right;\">\n",
       "      <th></th>\n",
       "      <th>home</th>\n",
       "      <th>away</th>\n",
       "      <th>score</th>\n",
       "      <th>year</th>\n",
       "    </tr>\n",
       "  </thead>\n",
       "  <tbody>\n",
       "    <tr>\n",
       "      <th>27</th>\n",
       "      <td>Italy</td>\n",
       "      <td>Spain</td>\n",
       "      <td>1–1 (a.e.t.)</td>\n",
       "      <td>1934</td>\n",
       "    </tr>\n",
       "    <tr>\n",
       "      <th>34</th>\n",
       "      <td>Italy</td>\n",
       "      <td>Czechoslovakia</td>\n",
       "      <td>2–1 (a.e.t.)</td>\n",
       "      <td>1934</td>\n",
       "    </tr>\n",
       "    <tr>\n",
       "      <th>24</th>\n",
       "      <td>Austria</td>\n",
       "      <td>France</td>\n",
       "      <td>3–2 (a.e.t.)</td>\n",
       "      <td>1934</td>\n",
       "    </tr>\n",
       "    <tr>\n",
       "      <th>48</th>\n",
       "      <td>Brazil</td>\n",
       "      <td>Czechoslovakia</td>\n",
       "      <td>1–1 (a.e.t.)</td>\n",
       "      <td>1938</td>\n",
       "    </tr>\n",
       "    <tr>\n",
       "      <th>42</th>\n",
       "      <td>Czechoslovakia</td>\n",
       "      <td>Netherlands</td>\n",
       "      <td>3–0 (a.e.t.)</td>\n",
       "      <td>1938</td>\n",
       "    </tr>\n",
       "    <tr>\n",
       "      <th>...</th>\n",
       "      <td>...</td>\n",
       "      <td>...</td>\n",
       "      <td>...</td>\n",
       "      <td>...</td>\n",
       "    </tr>\n",
       "    <tr>\n",
       "      <th>866</th>\n",
       "      <td>Croatia</td>\n",
       "      <td>England</td>\n",
       "      <td>2–1 (a.e.t.)</td>\n",
       "      <td>2018</td>\n",
       "    </tr>\n",
       "    <tr>\n",
       "      <th>855</th>\n",
       "      <td>Spain</td>\n",
       "      <td>Russia</td>\n",
       "      <td>1–1 (a.e.t.)</td>\n",
       "      <td>2018</td>\n",
       "    </tr>\n",
       "    <tr>\n",
       "      <th>856</th>\n",
       "      <td>Croatia</td>\n",
       "      <td>Denmark</td>\n",
       "      <td>1–1 (a.e.t.)</td>\n",
       "      <td>2018</td>\n",
       "    </tr>\n",
       "    <tr>\n",
       "      <th>860</th>\n",
       "      <td>Colombia</td>\n",
       "      <td>England</td>\n",
       "      <td>1–1 (a.e.t.)</td>\n",
       "      <td>2018</td>\n",
       "    </tr>\n",
       "    <tr>\n",
       "      <th>864</th>\n",
       "      <td>Russia</td>\n",
       "      <td>Croatia</td>\n",
       "      <td>2–2 (a.e.t.)</td>\n",
       "      <td>2018</td>\n",
       "    </tr>\n",
       "  </tbody>\n",
       "</table>\n",
       "<p>67 rows × 4 columns</p>\n",
       "</div>"
      ],
      "text/plain": [
       "               home            away         score  year\n",
       "27            Italy           Spain  1–1 (a.e.t.)  1934\n",
       "34            Italy  Czechoslovakia  2–1 (a.e.t.)  1934\n",
       "24          Austria          France  3–2 (a.e.t.)  1934\n",
       "48           Brazil  Czechoslovakia  1–1 (a.e.t.)  1938\n",
       "42   Czechoslovakia     Netherlands  3–0 (a.e.t.)  1938\n",
       "..              ...             ...           ...   ...\n",
       "866         Croatia         England  2–1 (a.e.t.)  2018\n",
       "855           Spain          Russia  1–1 (a.e.t.)  2018\n",
       "856         Croatia         Denmark  1–1 (a.e.t.)  2018\n",
       "860        Colombia         England  1–1 (a.e.t.)  2018\n",
       "864          Russia         Croatia  2–2 (a.e.t.)  2018\n",
       "\n",
       "[67 rows x 4 columns]"
      ]
     },
     "execution_count": 11,
     "metadata": {},
     "output_type": "execute_result"
    }
   ],
   "source": [
    "# [^\\d–-] encuentra caracteres que no sean dígitos o contengan los símbolos \"–\" y \"-\"\n",
    "df_historical_data[df_historical_data['score'].str.contains('[^\\d–-]')]"
   ]
  },
  {
   "cell_type": "code",
   "execution_count": 12,
   "id": "be405100",
   "metadata": {},
   "outputs": [],
   "source": [
    "# reemplazamos los caracteres residuales de la columna score\n",
    "# regex=True hace referencia a la secuencia del tipo [^\\d–-] para encontrar caracteres \n",
    "df_historical_data['score'] = df_historical_data['score'].str.replace('[^\\d–-]', '', regex=True)"
   ]
  },
  {
   "cell_type": "markdown",
   "id": "cf24b2ba",
   "metadata": {},
   "source": [
    "El siguiente paso es separar el score en \"HomeScore\" y \"AwayScore\" mediante la función str.split()"
   ]
  },
  {
   "cell_type": "code",
   "execution_count": 32,
   "id": "e0d90e4a",
   "metadata": {},
   "outputs": [],
   "source": [
    "df_historical_data[[\"HomeScore\", \"AwayScore\"]] = df_historical_data['score'].str.split('–|-', expand=True)"
   ]
  },
  {
   "cell_type": "code",
   "execution_count": 33,
   "id": "3f713039",
   "metadata": {},
   "outputs": [],
   "source": [
    "df_historical_data.drop('score', axis=1, inplace=True)"
   ]
  },
  {
   "cell_type": "code",
   "execution_count": 34,
   "id": "4c2b03a7",
   "metadata": {},
   "outputs": [],
   "source": [
    "df_historical_data.rename(columns={'home':'HomeTeam', 'away':'AwayTeam', 'year':'Year'}, inplace=True)"
   ]
  },
  {
   "cell_type": "markdown",
   "id": "e4a47d43",
   "metadata": {},
   "source": [
    "Finalmente vamos a asignar los tipos de datos correctos a cada columna para evitar inconsistencias en los datos, como por ejemplo tratar como \"object\" los datos de las columnas \"HomeScore\" y \"AwayScore\""
   ]
  },
  {
   "cell_type": "code",
   "execution_count": 43,
   "id": "54429ede",
   "metadata": {},
   "outputs": [
    {
     "data": {
      "text/plain": [
       "HomeTeam     object\n",
       "AwayTeam     object\n",
       "Year          int32\n",
       "HomeScore     int32\n",
       "AwayScore     int32\n",
       "dtype: object"
      ]
     },
     "execution_count": 43,
     "metadata": {},
     "output_type": "execute_result"
    }
   ],
   "source": [
    "df_historical_data.dtypes\n",
    "# df_historical_data[df_historical_data['AwayScore'].isnull()]"
   ]
  },
  {
   "cell_type": "code",
   "execution_count": 42,
   "id": "f4b0887d",
   "metadata": {},
   "outputs": [],
   "source": [
    "df_historical_data = df_historical_data.astype({'HomeScore': int, 'AwayScore': int, 'Year': int})"
   ]
  },
  {
   "cell_type": "markdown",
   "id": "0747575a",
   "metadata": {},
   "source": [
    "Creamos una nueva columna sumando los goles totales del partido. Destacar que el paso previo fue necesario debido a que no se pueden sumar datos de distintos tipos."
   ]
  },
  {
   "cell_type": "code",
   "execution_count": 44,
   "id": "df53306c",
   "metadata": {},
   "outputs": [],
   "source": [
    "df_historical_data['TotalScore'] = df_historical_data['HomeScore'] + df_historical_data['AwayScore']"
   ]
  },
  {
   "cell_type": "code",
   "execution_count": 45,
   "id": "ae285112",
   "metadata": {},
   "outputs": [
    {
     "data": {
      "text/html": [
       "<div>\n",
       "<style scoped>\n",
       "    .dataframe tbody tr th:only-of-type {\n",
       "        vertical-align: middle;\n",
       "    }\n",
       "\n",
       "    .dataframe tbody tr th {\n",
       "        vertical-align: top;\n",
       "    }\n",
       "\n",
       "    .dataframe thead th {\n",
       "        text-align: right;\n",
       "    }\n",
       "</style>\n",
       "<table border=\"1\" class=\"dataframe\">\n",
       "  <thead>\n",
       "    <tr style=\"text-align: right;\">\n",
       "      <th></th>\n",
       "      <th>HomeTeam</th>\n",
       "      <th>AwayTeam</th>\n",
       "      <th>Year</th>\n",
       "      <th>HomeScore</th>\n",
       "      <th>AwayScore</th>\n",
       "      <th>TotalScore</th>\n",
       "    </tr>\n",
       "  </thead>\n",
       "  <tbody>\n",
       "    <tr>\n",
       "      <th>0</th>\n",
       "      <td>France</td>\n",
       "      <td>Mexico</td>\n",
       "      <td>1930</td>\n",
       "      <td>4</td>\n",
       "      <td>1</td>\n",
       "      <td>5</td>\n",
       "    </tr>\n",
       "    <tr>\n",
       "      <th>17</th>\n",
       "      <td>Uruguay</td>\n",
       "      <td>Argentina</td>\n",
       "      <td>1930</td>\n",
       "      <td>4</td>\n",
       "      <td>2</td>\n",
       "      <td>6</td>\n",
       "    </tr>\n",
       "    <tr>\n",
       "      <th>16</th>\n",
       "      <td>Uruguay</td>\n",
       "      <td>Yugoslavia</td>\n",
       "      <td>1930</td>\n",
       "      <td>6</td>\n",
       "      <td>1</td>\n",
       "      <td>7</td>\n",
       "    </tr>\n",
       "    <tr>\n",
       "      <th>15</th>\n",
       "      <td>Argentina</td>\n",
       "      <td>United States</td>\n",
       "      <td>1930</td>\n",
       "      <td>6</td>\n",
       "      <td>1</td>\n",
       "      <td>7</td>\n",
       "    </tr>\n",
       "    <tr>\n",
       "      <th>14</th>\n",
       "      <td>Paraguay</td>\n",
       "      <td>Belgium</td>\n",
       "      <td>1930</td>\n",
       "      <td>1</td>\n",
       "      <td>0</td>\n",
       "      <td>1</td>\n",
       "    </tr>\n",
       "    <tr>\n",
       "      <th>...</th>\n",
       "      <td>...</td>\n",
       "      <td>...</td>\n",
       "      <td>...</td>\n",
       "      <td>...</td>\n",
       "      <td>...</td>\n",
       "      <td>...</td>\n",
       "    </tr>\n",
       "    <tr>\n",
       "      <th>831</th>\n",
       "      <td>Brazil</td>\n",
       "      <td>Costa Rica</td>\n",
       "      <td>2018</td>\n",
       "      <td>2</td>\n",
       "      <td>0</td>\n",
       "      <td>2</td>\n",
       "    </tr>\n",
       "    <tr>\n",
       "      <th>832</th>\n",
       "      <td>Serbia</td>\n",
       "      <td>Switzerland</td>\n",
       "      <td>2018</td>\n",
       "      <td>1</td>\n",
       "      <td>2</td>\n",
       "      <td>3</td>\n",
       "    </tr>\n",
       "    <tr>\n",
       "      <th>833</th>\n",
       "      <td>Serbia</td>\n",
       "      <td>Brazil</td>\n",
       "      <td>2018</td>\n",
       "      <td>0</td>\n",
       "      <td>2</td>\n",
       "      <td>2</td>\n",
       "    </tr>\n",
       "    <tr>\n",
       "      <th>835</th>\n",
       "      <td>Germany</td>\n",
       "      <td>Mexico</td>\n",
       "      <td>2018</td>\n",
       "      <td>0</td>\n",
       "      <td>1</td>\n",
       "      <td>1</td>\n",
       "    </tr>\n",
       "    <tr>\n",
       "      <th>868</th>\n",
       "      <td>France</td>\n",
       "      <td>Croatia</td>\n",
       "      <td>2018</td>\n",
       "      <td>4</td>\n",
       "      <td>2</td>\n",
       "      <td>6</td>\n",
       "    </tr>\n",
       "  </tbody>\n",
       "</table>\n",
       "<p>868 rows × 6 columns</p>\n",
       "</div>"
      ],
      "text/plain": [
       "      HomeTeam       AwayTeam  Year  HomeScore  AwayScore  TotalScore\n",
       "0       France         Mexico  1930          4          1           5\n",
       "17     Uruguay      Argentina  1930          4          2           6\n",
       "16     Uruguay     Yugoslavia  1930          6          1           7\n",
       "15   Argentina  United States  1930          6          1           7\n",
       "14    Paraguay        Belgium  1930          1          0           1\n",
       "..         ...            ...   ...        ...        ...         ...\n",
       "831     Brazil     Costa Rica  2018          2          0           2\n",
       "832     Serbia    Switzerland  2018          1          2           3\n",
       "833     Serbia         Brazil  2018          0          2           2\n",
       "835    Germany         Mexico  2018          0          1           1\n",
       "868     France        Croatia  2018          4          2           6\n",
       "\n",
       "[868 rows x 6 columns]"
      ]
     },
     "execution_count": 45,
     "metadata": {},
     "output_type": "execute_result"
    }
   ],
   "source": [
    "df_historical_data"
   ]
  },
  {
   "cell_type": "markdown",
   "id": "a6465abe",
   "metadata": {},
   "source": [
    "# 2 Exportar dataframes limpios"
   ]
  },
  {
   "cell_type": "code",
   "execution_count": 46,
   "id": "f662832f",
   "metadata": {},
   "outputs": [],
   "source": [
    "df_historical_data.to_csv('clean_fifa_worldcup_historical_data.csv', index=False)\n",
    "df_fixture.to_csv('clean_fifa_worldcup_fixture.csv', index=False)"
   ]
  },
  {
   "cell_type": "markdown",
   "id": "9a8d4414",
   "metadata": {},
   "source": [
    "Algo que se suele hacer es comprobar la cantidad de elementos del dataframe, para verficar si se aún requieren ser limpiados.\n",
    "\n",
    "En este caso vamos a mostrar la cantidad de partidos jugados por cada año."
   ]
  },
  {
   "cell_type": "code",
   "execution_count": 55,
   "id": "b08238f7",
   "metadata": {},
   "outputs": [
    {
     "name": "stdout",
     "output_type": "stream",
     "text": [
      "1930 18\n",
      "1934 17\n",
      "1938 18\n",
      "1950 22\n",
      "1954 26\n",
      "1958 35\n",
      "1962 32\n",
      "1970 32\n",
      "1974 38\n",
      "1978 38\n",
      "1982 52\n",
      "1986 52\n",
      "1990 52\n",
      "1994 52\n",
      "1998 64\n",
      "2002 64\n",
      "2006 64\n",
      "2010 64\n",
      "2014 64\n",
      "2018 64\n"
     ]
    }
   ],
   "source": [
    "years = [1930, 1934, 1938, 1950, 1954, 1958, 1962, 1970, 1974, 1978, 1982, 1986, 1990, 1994, 1998, 2002, 2006, 2010, 2014, 2018]\n",
    "\n",
    "for year in years:\n",
    "    print(year, len(df_historical_data[df_historical_data['Year']==year]))"
   ]
  }
 ],
 "metadata": {
  "kernelspec": {
   "display_name": "Python 3 (ipykernel)",
   "language": "python",
   "name": "python3"
  },
  "language_info": {
   "codemirror_mode": {
    "name": "ipython",
    "version": 3
   },
   "file_extension": ".py",
   "mimetype": "text/x-python",
   "name": "python",
   "nbconvert_exporter": "python",
   "pygments_lexer": "ipython3",
   "version": "3.10.9"
  }
 },
 "nbformat": 4,
 "nbformat_minor": 5
}

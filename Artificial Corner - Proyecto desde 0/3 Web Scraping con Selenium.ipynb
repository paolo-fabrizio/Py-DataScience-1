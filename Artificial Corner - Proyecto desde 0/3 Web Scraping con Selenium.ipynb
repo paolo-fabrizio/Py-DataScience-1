{
 "cells": [
  {
   "cell_type": "code",
   "execution_count": 6,
   "id": "4107ef96",
   "metadata": {},
   "outputs": [],
   "source": [
    "from selenium import webdriver\n",
    "from selenium.webdriver.chrome.service import Service\n",
    "import pandas as pd\n",
    "import time"
   ]
  },
  {
   "cell_type": "code",
   "execution_count": 2,
   "id": "b36c6669",
   "metadata": {},
   "outputs": [
    {
     "name": "stderr",
     "output_type": "stream",
     "text": [
      "The version of chrome cannot be detected. Trying with latest driver version\n"
     ]
    }
   ],
   "source": [
    "path = '/chromedriver'\n",
    "service = Service(executable_path=path)\n",
    "\n",
    "# Configuración del driver para Google Chrome\n",
    "# driver = webdriver.Chrome(service=service)\n",
    "\n",
    "# Configuración del driver para Brave\n",
    "option = webdriver.ChromeOptions()\n",
    "option.binary_location = 'C:/Program Files/BraveSoftware/Brave-Browser/Application/brave.exe'\n",
    "driver = webdriver.Chrome(service=service, options=option)"
   ]
  },
  {
   "cell_type": "code",
   "execution_count": 3,
   "id": "5b14086b",
   "metadata": {},
   "outputs": [],
   "source": [
    "def get_matches(year):\n",
    "    # Eligiendo la página para leer mediante el driver\n",
    "    web = f'https://en.wikipedia.org/wiki/{year}_FIFA_World_Cup'\n",
    "    driver.get(web)\n",
    "    \n",
    "    matches = driver.find_elements(by='xpath', value='//table[@class=\"fevent\"]')\n",
    "\n",
    "    home = []\n",
    "    away = []\n",
    "    score = []\n",
    "    for match in matches:\n",
    "        # En la funcion find_element, el value='.' indica que estamos buscando un elemento en un nodo ya creado\n",
    "        # home = match.find_element(by='xpath', value='.//th[@class=\"fhome\"]') A modo de ejemplo, esta vez usaremos [1] para hacer referencia al equipo local\n",
    "        home.append(match.find_element(by='xpath', value='.//th[1]').text)\n",
    "        away.append(match.find_element(by='xpath', value='.//th[3]').text)\n",
    "        score.append(match.find_element(by='xpath', value='.//th[2]').text)\n",
    "\n",
    "    dict_football = {'home': home, 'away': away, 'score': score}\n",
    "    df_football = pd.DataFrame(dict_football)\n",
    "    df_football['year'] = year\n",
    "    time.sleep(2) # se agrega un tiempo de pausa para que no detecten que hacemos web scraping\n",
    "    \n",
    "    return df_football"
   ]
  },
  {
   "cell_type": "code",
   "execution_count": 4,
   "id": "bcb8c2d8",
   "metadata": {},
   "outputs": [],
   "source": [
    "# Todos los años en los que hubo mundial\n",
    "years = [1930, 1934, 1938, 1950, 1954, 1958, 1962, 1970, 1974, 1978, 1982, 1986, 1990, 1994, 1998, 2002, 2006, 2010, 2014, 2018]"
   ]
  },
  {
   "cell_type": "code",
   "execution_count": 5,
   "id": "305daae9",
   "metadata": {},
   "outputs": [],
   "source": [
    "fifa = [get_matches(year) for year in years] # Lista de comprensión\n",
    "df_fifa = pd.concat(fifa, ignore_index=True)\n",
    "df_fifa.to_csv('fifa_worldcup_historical_data.csv', index=False)\n",
    "\n",
    "driver.quit()"
   ]
  },
  {
   "cell_type": "markdown",
   "id": "587cede5",
   "metadata": {},
   "source": [
    "**Nota:** Podemos buscar los elementos mediante su \"XPath\" en el código html de una página si presionamos \"ctrl+F\" al abrir la ventana de inspeccionar elemento.\n",
    "\n",
    "Para el caso de las tablas de resultados de los grupo de mundial el XPath actual es: //th[@class=\"fhome\"]\n",
    "donde podemos reemplazar la clase \"fhome\" por \"faway\" y \"fscore\" para el equipo local, el equipo visitante y el puntaje del partido.\n",
    "\n",
    "Adicionalmente, para encontrar el elemento padre de cualquier XPath utilizamos \"/..\", por ejemplo: //th[@class=\"fhome\"]/..\n",
    "\n",
    "**En la función find_element de Selenium**, para buscar un elemento dentro de un nodo ya creado, en este caso dentro del bucle \"for matches\", es necesario poner value='.' antes del XPath del elemento"
   ]
  }
 ],
 "metadata": {
  "kernelspec": {
   "display_name": "Python 3 (ipykernel)",
   "language": "python",
   "name": "python3"
  },
  "language_info": {
   "codemirror_mode": {
    "name": "ipython",
    "version": 3
   },
   "file_extension": ".py",
   "mimetype": "text/x-python",
   "name": "python",
   "nbconvert_exporter": "python",
   "pygments_lexer": "ipython3",
   "version": "3.10.9"
  }
 },
 "nbformat": 4,
 "nbformat_minor": 5
}

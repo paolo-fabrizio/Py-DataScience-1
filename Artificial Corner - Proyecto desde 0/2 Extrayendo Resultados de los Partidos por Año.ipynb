{
 "cells": [
  {
   "cell_type": "code",
   "execution_count": 32,
   "id": "31345f54",
   "metadata": {},
   "outputs": [],
   "source": [
    "from bs4 import BeautifulSoup\n",
    "import requests\n",
    "\n",
    "import pandas as pd"
   ]
  },
  {
   "cell_type": "code",
   "execution_count": 33,
   "id": "e5669c77",
   "metadata": {},
   "outputs": [],
   "source": [
    "# Todos los años en los que hubo mundial\n",
    "years = [1930, 1934, 1938, 1950, 1954, 1958, 1962, 1970, 1974, 1978, 1982, 1986, 1990, 1994, 1998, 2002, 2006, 2010, 2014, 2018]"
   ]
  },
  {
   "cell_type": "code",
   "execution_count": 59,
   "id": "d11e1862",
   "metadata": {},
   "outputs": [],
   "source": [
    "def get_matches(year):\n",
    "    # Indicando el sitio web, el año del mundial y el modo de lectura lxml para el web scraping\n",
    "    web = f'https://en.wikipedia.org/wiki/{year}_FIFA_World_Cup'\n",
    "    response = requests.get(web)\n",
    "    content = response.text\n",
    "    soup = BeautifulSoup(content, 'lxml')\n",
    "    \n",
    "    # Extrayendo datos de cada partido por año\n",
    "    matches = soup.find_all('div', class_='footballbox')\n",
    "    home = []\n",
    "    away = []\n",
    "    score = []\n",
    "    for match in matches:\n",
    "        home.append(match.find('th', class_='fhome').get_text())\n",
    "        away.append(match.find('th', class_='faway').get_text())\n",
    "        score.append(match.find('th', class_='fscore').get_text())\n",
    "    \n",
    "    dict_football = {'home': home, 'away': away, 'score': score}\n",
    "    df_football = pd.DataFrame(dict_football)\n",
    "    df_football['year'] = year\n",
    "    \n",
    "    # Retornamos el dataframe\n",
    "    return df_football"
   ]
  },
  {
   "cell_type": "code",
   "execution_count": 61,
   "id": "1b6953b2",
   "metadata": {},
   "outputs": [],
   "source": [
    "# Llamamos a la función, creamos una lista con cada dataframes y los concatenamos en uno sólo\n",
    "\n",
    "fifa = [get_matches(year) for year in years] # Lista de comprensión, se resume el proceso a una sola línea\n",
    "df_fifa = pd.concat(fifa, ignore_index=True) # Concatenamos los dataframes, es igual a decir pd.concat([df1, df2...])\n",
    "\n",
    "df_fifa.to_csv('fifa_worldcup_historical_data.csv', index=False) # index=False no muestra los índices de cada registro"
   ]
  },
  {
   "cell_type": "code",
   "execution_count": 62,
   "id": "264d37fa",
   "metadata": {},
   "outputs": [],
   "source": [
    "# Extraemos el fixture del año 2022 (sin los resultados)\n",
    "df_fixture = get_matches(2022)\n",
    "df_fixture.to_csv('fifa_worldcup_fixture.csv', index=False)"
   ]
  }
 ],
 "metadata": {
  "kernelspec": {
   "display_name": "Python 3 (ipykernel)",
   "language": "python",
   "name": "python3"
  },
  "language_info": {
   "codemirror_mode": {
    "name": "ipython",
    "version": 3
   },
   "file_extension": ".py",
   "mimetype": "text/x-python",
   "name": "python",
   "nbconvert_exporter": "python",
   "pygments_lexer": "ipython3",
   "version": "3.10.9"
  }
 },
 "nbformat": 4,
 "nbformat_minor": 5
}

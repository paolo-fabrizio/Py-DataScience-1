{
 "cells": [
  {
   "cell_type": "markdown",
   "id": "8981ca43",
   "metadata": {},
   "source": [
    "# 1 Ejercicios con Pandas"
   ]
  },
  {
   "cell_type": "code",
   "execution_count": 2,
   "id": "872776ff",
   "metadata": {},
   "outputs": [],
   "source": [
    "import pandas as pd"
   ]
  },
  {
   "cell_type": "markdown",
   "id": "97bfbde3",
   "metadata": {},
   "source": [
    "**Ejercicio 1:** Crear una serie de pandas con el siguiente arreglo"
   ]
  },
  {
   "cell_type": "code",
   "execution_count": 4,
   "id": "03806b9e",
   "metadata": {},
   "outputs": [],
   "source": [
    "edades=[22, 13, 8, 33, 25, 44, 38, 22]"
   ]
  },
  {
   "cell_type": "code",
   "execution_count": 6,
   "id": "a210910c",
   "metadata": {},
   "outputs": [
    {
     "data": {
      "text/plain": [
       "0    22\n",
       "1    13\n",
       "2     8\n",
       "3    33\n",
       "4    25\n",
       "5    44\n",
       "6    38\n",
       "7    22\n",
       "dtype: int64"
      ]
     },
     "execution_count": 6,
     "metadata": {},
     "output_type": "execute_result"
    }
   ],
   "source": [
    "serie = pd.Series(edades)\n",
    "serie"
   ]
  },
  {
   "cell_type": "markdown",
   "id": "7479fcdc",
   "metadata": {},
   "source": [
    "**Ejercicio 2:** Obtener los primeros 5 registros utilizando head, y los últimos 3 utilizando tail"
   ]
  },
  {
   "cell_type": "code",
   "execution_count": 9,
   "id": "df78fce8",
   "metadata": {},
   "outputs": [
    {
     "data": {
      "text/plain": [
       "0    22\n",
       "1    13\n",
       "2     8\n",
       "3    33\n",
       "4    25\n",
       "dtype: int64"
      ]
     },
     "execution_count": 9,
     "metadata": {},
     "output_type": "execute_result"
    }
   ],
   "source": [
    "serie.head()"
   ]
  },
  {
   "cell_type": "code",
   "execution_count": 10,
   "id": "670e9ebd",
   "metadata": {},
   "outputs": [
    {
     "data": {
      "text/plain": [
       "3    33\n",
       "4    25\n",
       "5    44\n",
       "6    38\n",
       "7    22\n",
       "dtype: int64"
      ]
     },
     "execution_count": 10,
     "metadata": {},
     "output_type": "execute_result"
    }
   ],
   "source": [
    "serie.tail()"
   ]
  },
  {
   "cell_type": "markdown",
   "id": "ecdce8b4",
   "metadata": {},
   "source": [
    "**EJercicio 3:** Obtener el valor mínimo, el máximo y el promedio en la serie."
   ]
  },
  {
   "cell_type": "code",
   "execution_count": 11,
   "id": "7263c7f5",
   "metadata": {},
   "outputs": [
    {
     "data": {
      "text/plain": [
       "44"
      ]
     },
     "execution_count": 11,
     "metadata": {},
     "output_type": "execute_result"
    }
   ],
   "source": [
    "serie.max()"
   ]
  },
  {
   "cell_type": "code",
   "execution_count": 12,
   "id": "f80292bf",
   "metadata": {},
   "outputs": [
    {
     "data": {
      "text/plain": [
       "8"
      ]
     },
     "execution_count": 12,
     "metadata": {},
     "output_type": "execute_result"
    }
   ],
   "source": [
    "serie.min()"
   ]
  },
  {
   "cell_type": "code",
   "execution_count": 13,
   "id": "79f5f61d",
   "metadata": {},
   "outputs": [
    {
     "data": {
      "text/plain": [
       "25.625"
      ]
     },
     "execution_count": 13,
     "metadata": {},
     "output_type": "execute_result"
    }
   ],
   "source": [
    "serie.mean()"
   ]
  },
  {
   "cell_type": "markdown",
   "id": "908038ed",
   "metadata": {},
   "source": [
    "**Ejercicio 4:** Obtener el valor en la segunda posición de la serie"
   ]
  },
  {
   "cell_type": "code",
   "execution_count": 17,
   "id": "88404f3a",
   "metadata": {},
   "outputs": [
    {
     "data": {
      "text/plain": [
       "13"
      ]
     },
     "execution_count": 17,
     "metadata": {},
     "output_type": "execute_result"
    }
   ],
   "source": [
    "# Ambas formas son válidas\n",
    "serie[1]\n",
    "serie.get(1) #es recomendable usar esta función propia de pandas"
   ]
  },
  {
   "cell_type": "markdown",
   "id": "f3c2af3b",
   "metadata": {},
   "source": [
    "**Ejercicio 5:** Obtener registros con valor igual a 22"
   ]
  },
  {
   "cell_type": "code",
   "execution_count": 25,
   "id": "95c2f2fb",
   "metadata": {},
   "outputs": [
    {
     "name": "stdout",
     "output_type": "stream",
     "text": [
      "0     True\n",
      "1    False\n",
      "2    False\n",
      "3    False\n",
      "4    False\n",
      "5    False\n",
      "6    False\n",
      "7     True\n",
      "dtype: bool\n"
     ]
    },
    {
     "data": {
      "text/plain": [
       "0    22\n",
       "7    22\n",
       "dtype: int64"
      ]
     },
     "execution_count": 25,
     "metadata": {},
     "output_type": "execute_result"
    }
   ],
   "source": [
    "#Se aplica un filtro\n",
    "print(serie==22)\n",
    "serie[serie==22]"
   ]
  },
  {
   "cell_type": "markdown",
   "id": "7ffc76a0",
   "metadata": {},
   "source": [
    "**Ejercicio 6:** Crear una segunda sertie utilizando los siguientes datos:"
   ]
  },
  {
   "cell_type": "code",
   "execution_count": 29,
   "id": "23876b02",
   "metadata": {},
   "outputs": [
    {
     "data": {
      "text/plain": [
       "0    23\n",
       "1    15\n",
       "2    12\n",
       "3    25\n",
       "4    20\n",
       "5    50\n",
       "6    31\n",
       "7     2\n",
       "dtype: int64"
      ]
     },
     "execution_count": 29,
     "metadata": {},
     "output_type": "execute_result"
    }
   ],
   "source": [
    "edades2 = [23,15,12,25,20,50,31,2]\n",
    "serie2 = pd.Series(edades2)\n",
    "serie2"
   ]
  },
  {
   "cell_type": "code",
   "execution_count": 30,
   "id": "f6653d1e",
   "metadata": {},
   "outputs": [
    {
     "data": {
      "text/plain": [
       "0    45\n",
       "1    28\n",
       "2    20\n",
       "3    58\n",
       "4    45\n",
       "5    94\n",
       "6    69\n",
       "7    24\n",
       "dtype: int64"
      ]
     },
     "execution_count": 30,
     "metadata": {},
     "output_type": "execute_result"
    }
   ],
   "source": [
    "# Sumando ambas Series\n",
    "# Pandas suma los elementos de las series\n",
    "serie + serie2"
   ]
  },
  {
   "cell_type": "code",
   "execution_count": 31,
   "id": "a359f495",
   "metadata": {},
   "outputs": [
    {
     "data": {
      "text/plain": [
       "[22, 13, 8, 33, 25, 44, 38, 22, 23, 15, 12, 25, 20, 50, 31, 2]"
      ]
     },
     "execution_count": 31,
     "metadata": {},
     "output_type": "execute_result"
    }
   ],
   "source": [
    "# Python, en cambio, crea una lista mas grande con todos los elementos\n",
    "edades + edades2"
   ]
  },
  {
   "cell_type": "code",
   "execution_count": 35,
   "id": "12123cc6",
   "metadata": {},
   "outputs": [
    {
     "data": {
      "text/plain": [
       "0    40.0\n",
       "1     NaN\n",
       "2     NaN\n",
       "3     NaN\n",
       "4     NaN\n",
       "5     NaN\n",
       "6     NaN\n",
       "7     NaN\n",
       "dtype: float64"
      ]
     },
     "execution_count": 35,
     "metadata": {},
     "output_type": "execute_result"
    }
   ],
   "source": [
    "# Además Pandas puede sumar series de distintos tamaños\n",
    "# NaN(Not a Number) nos indicia que la operación no se pudo hacer\n",
    "serie3 = pd.Series([18])\n",
    "serie3 + serie"
   ]
  },
  {
   "cell_type": "markdown",
   "id": "18658bf7",
   "metadata": {},
   "source": [
    "**Ejercicio 7:** Reordenar la serie2 invirtiendo los índices con sort_index()"
   ]
  },
  {
   "cell_type": "code",
   "execution_count": 37,
   "id": "01107bba",
   "metadata": {},
   "outputs": [
    {
     "data": {
      "text/plain": [
       "7     2\n",
       "6    31\n",
       "5    50\n",
       "4    20\n",
       "3    25\n",
       "2    12\n",
       "1    15\n",
       "0    23\n",
       "dtype: int64"
      ]
     },
     "execution_count": 37,
     "metadata": {},
     "output_type": "execute_result"
    }
   ],
   "source": [
    "serie2 = serie2.sort_index(ascending=False)\n",
    "serie2"
   ]
  },
  {
   "cell_type": "code",
   "execution_count": 39,
   "id": "ccde4023",
   "metadata": {},
   "outputs": [
    {
     "data": {
      "text/plain": [
       "0    45\n",
       "1    28\n",
       "2    20\n",
       "3    58\n",
       "4    45\n",
       "5    94\n",
       "6    69\n",
       "7    24\n",
       "dtype: int64"
      ]
     },
     "execution_count": 39,
     "metadata": {},
     "output_type": "execute_result"
    }
   ],
   "source": [
    "# Pandas no suma por el orden visual de los elementos\n",
    "# Pandas suma por el orden de \"index\", por esto el resultado es el mismo que la\n",
    "# suma de series anterior\n",
    "serie + serie2"
   ]
  },
  {
   "cell_type": "markdown",
   "id": "edc2063a",
   "metadata": {},
   "source": [
    "**Ejercicio 8:** Restar a todos los elementos de la primera serie 5 unidades"
   ]
  },
  {
   "cell_type": "code",
   "execution_count": 40,
   "id": "93b17ffa",
   "metadata": {},
   "outputs": [
    {
     "data": {
      "text/plain": [
       "0    17\n",
       "1     8\n",
       "2     3\n",
       "3    28\n",
       "4    20\n",
       "5    39\n",
       "6    33\n",
       "7    17\n",
       "dtype: int64"
      ]
     },
     "execution_count": 40,
     "metadata": {},
     "output_type": "execute_result"
    }
   ],
   "source": [
    "serie-5"
   ]
  },
  {
   "cell_type": "code",
   "execution_count": 41,
   "id": "81475c05",
   "metadata": {},
   "outputs": [
    {
     "data": {
      "text/plain": [
       "0    22\n",
       "1    13\n",
       "2     8\n",
       "3    33\n",
       "4    25\n",
       "5    44\n",
       "6    38\n",
       "7    22\n",
       "dtype: int64"
      ]
     },
     "execution_count": 41,
     "metadata": {},
     "output_type": "execute_result"
    }
   ],
   "source": [
    "serie"
   ]
  },
  {
   "cell_type": "markdown",
   "id": "0cb2dabf",
   "metadata": {},
   "source": [
    "**Ejercicio 9:** Calcular el cuadrado de todos los valores utilizando map"
   ]
  },
  {
   "cell_type": "code",
   "execution_count": 42,
   "id": "445ad439",
   "metadata": {},
   "outputs": [
    {
     "data": {
      "text/plain": [
       "0     484\n",
       "1     169\n",
       "2      64\n",
       "3    1089\n",
       "4     625\n",
       "5    1936\n",
       "6    1444\n",
       "7     484\n",
       "dtype: int64"
      ]
     },
     "execution_count": 42,
     "metadata": {},
     "output_type": "execute_result"
    }
   ],
   "source": [
    "# Primero definimos una función\n",
    "def cuadrado(a):\n",
    "    return a*a\n",
    "\n",
    "# Usamos la función map para aplicar la función a todos los elementos\n",
    "serie.map(cuadrado)"
   ]
  },
  {
   "cell_type": "markdown",
   "id": "2f706412",
   "metadata": {},
   "source": [
    "# 2 Dataframes (Parte 1)"
   ]
  },
  {
   "cell_type": "code",
   "execution_count": 6,
   "id": "18951e2a",
   "metadata": {},
   "outputs": [],
   "source": [
    "import pandas as pd"
   ]
  },
  {
   "cell_type": "code",
   "execution_count": 7,
   "id": "540b160f",
   "metadata": {},
   "outputs": [],
   "source": [
    "datos = {\n",
    "    \"nombre\":       [\"Argentina\", \"Brasil\", \"Chile\", \"Colombia\", \"Ecuador\", \"Paraguay\", \"Peru\"],\n",
    "    \"capital\":      [\"Buenos Aires\", \"Brasilia\", \"Santiago de Chile\", \"Bogotá\", \"Quito\", \"Asunción\", \"Lima\"],\n",
    "    \"poblacion\":    [45380000, 212600000, 19120000, 50880000, 17640000, 7133000, 32970000],\n",
    "    \"sup. en  km2\": [2780000, 8516000, 756950, 1143000, 283560, 406752, 1285216],\n",
    "}"
   ]
  },
  {
   "cell_type": "code",
   "execution_count": 8,
   "id": "1a96dcc3",
   "metadata": {},
   "outputs": [
    {
     "data": {
      "text/html": [
       "<div>\n",
       "<style scoped>\n",
       "    .dataframe tbody tr th:only-of-type {\n",
       "        vertical-align: middle;\n",
       "    }\n",
       "\n",
       "    .dataframe tbody tr th {\n",
       "        vertical-align: top;\n",
       "    }\n",
       "\n",
       "    .dataframe thead th {\n",
       "        text-align: right;\n",
       "    }\n",
       "</style>\n",
       "<table border=\"1\" class=\"dataframe\">\n",
       "  <thead>\n",
       "    <tr style=\"text-align: right;\">\n",
       "      <th></th>\n",
       "      <th>nombre</th>\n",
       "      <th>capital</th>\n",
       "      <th>poblacion</th>\n",
       "      <th>sup. en  km2</th>\n",
       "    </tr>\n",
       "  </thead>\n",
       "  <tbody>\n",
       "    <tr>\n",
       "      <th>0</th>\n",
       "      <td>Argentina</td>\n",
       "      <td>Buenos Aires</td>\n",
       "      <td>45380000</td>\n",
       "      <td>2780000</td>\n",
       "    </tr>\n",
       "    <tr>\n",
       "      <th>1</th>\n",
       "      <td>Brasil</td>\n",
       "      <td>Brasilia</td>\n",
       "      <td>212600000</td>\n",
       "      <td>8516000</td>\n",
       "    </tr>\n",
       "    <tr>\n",
       "      <th>2</th>\n",
       "      <td>Chile</td>\n",
       "      <td>Santiago de Chile</td>\n",
       "      <td>19120000</td>\n",
       "      <td>756950</td>\n",
       "    </tr>\n",
       "    <tr>\n",
       "      <th>3</th>\n",
       "      <td>Colombia</td>\n",
       "      <td>Bogotá</td>\n",
       "      <td>50880000</td>\n",
       "      <td>1143000</td>\n",
       "    </tr>\n",
       "    <tr>\n",
       "      <th>4</th>\n",
       "      <td>Ecuador</td>\n",
       "      <td>Quito</td>\n",
       "      <td>17640000</td>\n",
       "      <td>283560</td>\n",
       "    </tr>\n",
       "    <tr>\n",
       "      <th>5</th>\n",
       "      <td>Paraguay</td>\n",
       "      <td>Asunción</td>\n",
       "      <td>7133000</td>\n",
       "      <td>406752</td>\n",
       "    </tr>\n",
       "    <tr>\n",
       "      <th>6</th>\n",
       "      <td>Peru</td>\n",
       "      <td>Lima</td>\n",
       "      <td>32970000</td>\n",
       "      <td>1285216</td>\n",
       "    </tr>\n",
       "  </tbody>\n",
       "</table>\n",
       "</div>"
      ],
      "text/plain": [
       "      nombre            capital  poblacion  sup. en  km2\n",
       "0  Argentina       Buenos Aires   45380000       2780000\n",
       "1     Brasil           Brasilia  212600000       8516000\n",
       "2      Chile  Santiago de Chile   19120000        756950\n",
       "3   Colombia             Bogotá   50880000       1143000\n",
       "4    Ecuador              Quito   17640000        283560\n",
       "5   Paraguay           Asunción    7133000        406752\n",
       "6       Peru               Lima   32970000       1285216"
      ]
     },
     "execution_count": 8,
     "metadata": {},
     "output_type": "execute_result"
    }
   ],
   "source": [
    "paises = pd.DataFrame(datos)\n",
    "paises"
   ]
  },
  {
   "cell_type": "markdown",
   "id": "59a75676",
   "metadata": {},
   "source": [
    "**Ejercicio 10:** Visualizar los primeros 5 y los últimos 3 elementos del DataFrame"
   ]
  },
  {
   "cell_type": "code",
   "execution_count": 9,
   "id": "9bd8b7cc",
   "metadata": {},
   "outputs": [
    {
     "data": {
      "text/html": [
       "<div>\n",
       "<style scoped>\n",
       "    .dataframe tbody tr th:only-of-type {\n",
       "        vertical-align: middle;\n",
       "    }\n",
       "\n",
       "    .dataframe tbody tr th {\n",
       "        vertical-align: top;\n",
       "    }\n",
       "\n",
       "    .dataframe thead th {\n",
       "        text-align: right;\n",
       "    }\n",
       "</style>\n",
       "<table border=\"1\" class=\"dataframe\">\n",
       "  <thead>\n",
       "    <tr style=\"text-align: right;\">\n",
       "      <th></th>\n",
       "      <th>nombre</th>\n",
       "      <th>capital</th>\n",
       "      <th>poblacion</th>\n",
       "      <th>sup. en  km2</th>\n",
       "    </tr>\n",
       "  </thead>\n",
       "  <tbody>\n",
       "    <tr>\n",
       "      <th>0</th>\n",
       "      <td>Argentina</td>\n",
       "      <td>Buenos Aires</td>\n",
       "      <td>45380000</td>\n",
       "      <td>2780000</td>\n",
       "    </tr>\n",
       "    <tr>\n",
       "      <th>1</th>\n",
       "      <td>Brasil</td>\n",
       "      <td>Brasilia</td>\n",
       "      <td>212600000</td>\n",
       "      <td>8516000</td>\n",
       "    </tr>\n",
       "    <tr>\n",
       "      <th>2</th>\n",
       "      <td>Chile</td>\n",
       "      <td>Santiago de Chile</td>\n",
       "      <td>19120000</td>\n",
       "      <td>756950</td>\n",
       "    </tr>\n",
       "    <tr>\n",
       "      <th>3</th>\n",
       "      <td>Colombia</td>\n",
       "      <td>Bogotá</td>\n",
       "      <td>50880000</td>\n",
       "      <td>1143000</td>\n",
       "    </tr>\n",
       "    <tr>\n",
       "      <th>4</th>\n",
       "      <td>Ecuador</td>\n",
       "      <td>Quito</td>\n",
       "      <td>17640000</td>\n",
       "      <td>283560</td>\n",
       "    </tr>\n",
       "  </tbody>\n",
       "</table>\n",
       "</div>"
      ],
      "text/plain": [
       "      nombre            capital  poblacion  sup. en  km2\n",
       "0  Argentina       Buenos Aires   45380000       2780000\n",
       "1     Brasil           Brasilia  212600000       8516000\n",
       "2      Chile  Santiago de Chile   19120000        756950\n",
       "3   Colombia             Bogotá   50880000       1143000\n",
       "4    Ecuador              Quito   17640000        283560"
      ]
     },
     "execution_count": 9,
     "metadata": {},
     "output_type": "execute_result"
    }
   ],
   "source": [
    "paises.head()"
   ]
  },
  {
   "cell_type": "code",
   "execution_count": 11,
   "id": "c115521f",
   "metadata": {},
   "outputs": [
    {
     "data": {
      "text/html": [
       "<div>\n",
       "<style scoped>\n",
       "    .dataframe tbody tr th:only-of-type {\n",
       "        vertical-align: middle;\n",
       "    }\n",
       "\n",
       "    .dataframe tbody tr th {\n",
       "        vertical-align: top;\n",
       "    }\n",
       "\n",
       "    .dataframe thead th {\n",
       "        text-align: right;\n",
       "    }\n",
       "</style>\n",
       "<table border=\"1\" class=\"dataframe\">\n",
       "  <thead>\n",
       "    <tr style=\"text-align: right;\">\n",
       "      <th></th>\n",
       "      <th>nombre</th>\n",
       "      <th>capital</th>\n",
       "      <th>poblacion</th>\n",
       "      <th>sup. en  km2</th>\n",
       "    </tr>\n",
       "  </thead>\n",
       "  <tbody>\n",
       "    <tr>\n",
       "      <th>4</th>\n",
       "      <td>Ecuador</td>\n",
       "      <td>Quito</td>\n",
       "      <td>17640000</td>\n",
       "      <td>283560</td>\n",
       "    </tr>\n",
       "    <tr>\n",
       "      <th>5</th>\n",
       "      <td>Paraguay</td>\n",
       "      <td>Asunción</td>\n",
       "      <td>7133000</td>\n",
       "      <td>406752</td>\n",
       "    </tr>\n",
       "    <tr>\n",
       "      <th>6</th>\n",
       "      <td>Peru</td>\n",
       "      <td>Lima</td>\n",
       "      <td>32970000</td>\n",
       "      <td>1285216</td>\n",
       "    </tr>\n",
       "  </tbody>\n",
       "</table>\n",
       "</div>"
      ],
      "text/plain": [
       "     nombre   capital  poblacion  sup. en  km2\n",
       "4   Ecuador     Quito   17640000        283560\n",
       "5  Paraguay  Asunción    7133000        406752\n",
       "6      Peru      Lima   32970000       1285216"
      ]
     },
     "execution_count": 11,
     "metadata": {},
     "output_type": "execute_result"
    }
   ],
   "source": [
    "paises.tail(3)"
   ]
  },
  {
   "cell_type": "code",
   "execution_count": 12,
   "id": "6f3589e4",
   "metadata": {},
   "outputs": [
    {
     "data": {
      "text/html": [
       "<div>\n",
       "<style scoped>\n",
       "    .dataframe tbody tr th:only-of-type {\n",
       "        vertical-align: middle;\n",
       "    }\n",
       "\n",
       "    .dataframe tbody tr th {\n",
       "        vertical-align: top;\n",
       "    }\n",
       "\n",
       "    .dataframe thead th {\n",
       "        text-align: right;\n",
       "    }\n",
       "</style>\n",
       "<table border=\"1\" class=\"dataframe\">\n",
       "  <thead>\n",
       "    <tr style=\"text-align: right;\">\n",
       "      <th></th>\n",
       "      <th>nombre</th>\n",
       "      <th>capital</th>\n",
       "      <th>poblacion</th>\n",
       "      <th>sup. en  km2</th>\n",
       "    </tr>\n",
       "  </thead>\n",
       "  <tbody>\n",
       "    <tr>\n",
       "      <th>0</th>\n",
       "      <td>Argentina</td>\n",
       "      <td>Buenos Aires</td>\n",
       "      <td>45380000</td>\n",
       "      <td>2780000</td>\n",
       "    </tr>\n",
       "    <tr>\n",
       "      <th>1</th>\n",
       "      <td>Brasil</td>\n",
       "      <td>Brasilia</td>\n",
       "      <td>212600000</td>\n",
       "      <td>8516000</td>\n",
       "    </tr>\n",
       "    <tr>\n",
       "      <th>2</th>\n",
       "      <td>Chile</td>\n",
       "      <td>Santiago de Chile</td>\n",
       "      <td>19120000</td>\n",
       "      <td>756950</td>\n",
       "    </tr>\n",
       "    <tr>\n",
       "      <th>3</th>\n",
       "      <td>Colombia</td>\n",
       "      <td>Bogotá</td>\n",
       "      <td>50880000</td>\n",
       "      <td>1143000</td>\n",
       "    </tr>\n",
       "    <tr>\n",
       "      <th>4</th>\n",
       "      <td>Ecuador</td>\n",
       "      <td>Quito</td>\n",
       "      <td>17640000</td>\n",
       "      <td>283560</td>\n",
       "    </tr>\n",
       "  </tbody>\n",
       "</table>\n",
       "</div>"
      ],
      "text/plain": [
       "      nombre            capital  poblacion  sup. en  km2\n",
       "0  Argentina       Buenos Aires   45380000       2780000\n",
       "1     Brasil           Brasilia  212600000       8516000\n",
       "2      Chile  Santiago de Chile   19120000        756950\n",
       "3   Colombia             Bogotá   50880000       1143000\n",
       "4    Ecuador              Quito   17640000        283560"
      ]
     },
     "execution_count": 12,
     "metadata": {},
     "output_type": "execute_result"
    }
   ],
   "source": [
    "# Forma alternativa de mostrar datos con el lenguaje estándar de python\n",
    "paises[:5]"
   ]
  },
  {
   "cell_type": "markdown",
   "id": "13996037",
   "metadata": {},
   "source": [
    "**Ejercicio 11:** Crear un Dataframe utilizando el diccionario únicamente con las columnanos nombre y población."
   ]
  },
  {
   "cell_type": "code",
   "execution_count": 15,
   "id": "7c55f9cb",
   "metadata": {},
   "outputs": [
    {
     "data": {
      "text/html": [
       "<div>\n",
       "<style scoped>\n",
       "    .dataframe tbody tr th:only-of-type {\n",
       "        vertical-align: middle;\n",
       "    }\n",
       "\n",
       "    .dataframe tbody tr th {\n",
       "        vertical-align: top;\n",
       "    }\n",
       "\n",
       "    .dataframe thead th {\n",
       "        text-align: right;\n",
       "    }\n",
       "</style>\n",
       "<table border=\"1\" class=\"dataframe\">\n",
       "  <thead>\n",
       "    <tr style=\"text-align: right;\">\n",
       "      <th></th>\n",
       "      <th>nombre</th>\n",
       "      <th>poblacion</th>\n",
       "    </tr>\n",
       "  </thead>\n",
       "  <tbody>\n",
       "    <tr>\n",
       "      <th>0</th>\n",
       "      <td>Argentina</td>\n",
       "      <td>45380000</td>\n",
       "    </tr>\n",
       "    <tr>\n",
       "      <th>1</th>\n",
       "      <td>Brasil</td>\n",
       "      <td>212600000</td>\n",
       "    </tr>\n",
       "    <tr>\n",
       "      <th>2</th>\n",
       "      <td>Chile</td>\n",
       "      <td>19120000</td>\n",
       "    </tr>\n",
       "    <tr>\n",
       "      <th>3</th>\n",
       "      <td>Colombia</td>\n",
       "      <td>50880000</td>\n",
       "    </tr>\n",
       "    <tr>\n",
       "      <th>4</th>\n",
       "      <td>Ecuador</td>\n",
       "      <td>17640000</td>\n",
       "    </tr>\n",
       "    <tr>\n",
       "      <th>5</th>\n",
       "      <td>Paraguay</td>\n",
       "      <td>7133000</td>\n",
       "    </tr>\n",
       "    <tr>\n",
       "      <th>6</th>\n",
       "      <td>Peru</td>\n",
       "      <td>32970000</td>\n",
       "    </tr>\n",
       "  </tbody>\n",
       "</table>\n",
       "</div>"
      ],
      "text/plain": [
       "      nombre  poblacion\n",
       "0  Argentina   45380000\n",
       "1     Brasil  212600000\n",
       "2      Chile   19120000\n",
       "3   Colombia   50880000\n",
       "4    Ecuador   17640000\n",
       "5   Paraguay    7133000\n",
       "6       Peru   32970000"
      ]
     },
     "execution_count": 15,
     "metadata": {},
     "output_type": "execute_result"
    }
   ],
   "source": [
    "paises2 = pd.DataFrame(datos, columns=[\"nombre\", \"poblacion\"])\n",
    "paises2"
   ]
  },
  {
   "cell_type": "markdown",
   "id": "7e867fd8",
   "metadata": {},
   "source": [
    "**Ejercicio 12:** Crear un Dataframe utilizando el diccionario con la columna \"nombre\" como índice:"
   ]
  },
  {
   "cell_type": "code",
   "execution_count": 18,
   "id": "2f405952",
   "metadata": {},
   "outputs": [
    {
     "data": {
      "text/html": [
       "<div>\n",
       "<style scoped>\n",
       "    .dataframe tbody tr th:only-of-type {\n",
       "        vertical-align: middle;\n",
       "    }\n",
       "\n",
       "    .dataframe tbody tr th {\n",
       "        vertical-align: top;\n",
       "    }\n",
       "\n",
       "    .dataframe thead th {\n",
       "        text-align: right;\n",
       "    }\n",
       "</style>\n",
       "<table border=\"1\" class=\"dataframe\">\n",
       "  <thead>\n",
       "    <tr style=\"text-align: right;\">\n",
       "      <th></th>\n",
       "      <th>capital</th>\n",
       "      <th>poblacion</th>\n",
       "      <th>sup. en  km2</th>\n",
       "    </tr>\n",
       "  </thead>\n",
       "  <tbody>\n",
       "    <tr>\n",
       "      <th>Argentina</th>\n",
       "      <td>Buenos Aires</td>\n",
       "      <td>45380000</td>\n",
       "      <td>2780000</td>\n",
       "    </tr>\n",
       "    <tr>\n",
       "      <th>Brasil</th>\n",
       "      <td>Brasilia</td>\n",
       "      <td>212600000</td>\n",
       "      <td>8516000</td>\n",
       "    </tr>\n",
       "    <tr>\n",
       "      <th>Chile</th>\n",
       "      <td>Santiago de Chile</td>\n",
       "      <td>19120000</td>\n",
       "      <td>756950</td>\n",
       "    </tr>\n",
       "    <tr>\n",
       "      <th>Colombia</th>\n",
       "      <td>Bogotá</td>\n",
       "      <td>50880000</td>\n",
       "      <td>1143000</td>\n",
       "    </tr>\n",
       "    <tr>\n",
       "      <th>Ecuador</th>\n",
       "      <td>Quito</td>\n",
       "      <td>17640000</td>\n",
       "      <td>283560</td>\n",
       "    </tr>\n",
       "    <tr>\n",
       "      <th>Paraguay</th>\n",
       "      <td>Asunción</td>\n",
       "      <td>7133000</td>\n",
       "      <td>406752</td>\n",
       "    </tr>\n",
       "    <tr>\n",
       "      <th>Peru</th>\n",
       "      <td>Lima</td>\n",
       "      <td>32970000</td>\n",
       "      <td>1285216</td>\n",
       "    </tr>\n",
       "  </tbody>\n",
       "</table>\n",
       "</div>"
      ],
      "text/plain": [
       "                     capital  poblacion  sup. en  km2\n",
       "Argentina       Buenos Aires   45380000       2780000\n",
       "Brasil              Brasilia  212600000       8516000\n",
       "Chile      Santiago de Chile   19120000        756950\n",
       "Colombia              Bogotá   50880000       1143000\n",
       "Ecuador                Quito   17640000        283560\n",
       "Paraguay            Asunción    7133000        406752\n",
       "Peru                    Lima   32970000       1285216"
      ]
     },
     "execution_count": 18,
     "metadata": {},
     "output_type": "execute_result"
    }
   ],
   "source": [
    "paises3 = pd.DataFrame(datos, index=datos[\"nombre\"], columns=[\"capital\", \"poblacion\", \"sup. en  km2\"])\n",
    "paises3"
   ]
  },
  {
   "cell_type": "markdown",
   "id": "63ca2b35",
   "metadata": {},
   "source": [
    "**Ejercicio 13:** Obtener los datos de la fila con el índice \"Argentina\""
   ]
  },
  {
   "cell_type": "code",
   "execution_count": 20,
   "id": "4c9dca37",
   "metadata": {},
   "outputs": [
    {
     "data": {
      "text/plain": [
       "capital         Buenos Aires\n",
       "poblacion           45380000\n",
       "sup. en  km2         2780000\n",
       "Name: Argentina, dtype: object"
      ]
     },
     "execution_count": 20,
     "metadata": {},
     "output_type": "execute_result"
    }
   ],
   "source": [
    "paises3.loc[\"Argentina\"]"
   ]
  },
  {
   "cell_type": "markdown",
   "id": "9af39e59",
   "metadata": {},
   "source": [
    "**Ejercicio 13:** Obtener la población y capital de Argentina y Brasil utilizando la función loc"
   ]
  },
  {
   "cell_type": "code",
   "execution_count": 21,
   "id": "a4e79a1c",
   "metadata": {},
   "outputs": [
    {
     "data": {
      "text/html": [
       "<div>\n",
       "<style scoped>\n",
       "    .dataframe tbody tr th:only-of-type {\n",
       "        vertical-align: middle;\n",
       "    }\n",
       "\n",
       "    .dataframe tbody tr th {\n",
       "        vertical-align: top;\n",
       "    }\n",
       "\n",
       "    .dataframe thead th {\n",
       "        text-align: right;\n",
       "    }\n",
       "</style>\n",
       "<table border=\"1\" class=\"dataframe\">\n",
       "  <thead>\n",
       "    <tr style=\"text-align: right;\">\n",
       "      <th></th>\n",
       "      <th>poblacion</th>\n",
       "      <th>capital</th>\n",
       "    </tr>\n",
       "  </thead>\n",
       "  <tbody>\n",
       "    <tr>\n",
       "      <th>Argentina</th>\n",
       "      <td>45380000</td>\n",
       "      <td>Buenos Aires</td>\n",
       "    </tr>\n",
       "    <tr>\n",
       "      <th>Brasil</th>\n",
       "      <td>212600000</td>\n",
       "      <td>Brasilia</td>\n",
       "    </tr>\n",
       "  </tbody>\n",
       "</table>\n",
       "</div>"
      ],
      "text/plain": [
       "           poblacion       capital\n",
       "Argentina   45380000  Buenos Aires\n",
       "Brasil     212600000      Brasilia"
      ]
     },
     "execution_count": 21,
     "metadata": {},
     "output_type": "execute_result"
    }
   ],
   "source": [
    "paises3.loc[[\"Argentina\", \"Brasil\"], [\"poblacion\", \"capital\"]]"
   ]
  },
  {
   "cell_type": "markdown",
   "id": "9615077a",
   "metadata": {},
   "source": [
    "**Ejercicio 13:** Obtener información de paises con una superficie mayor a 1M de km2 utilizando la función loc"
   ]
  },
  {
   "cell_type": "code",
   "execution_count": 22,
   "id": "3ca7d2d0",
   "metadata": {},
   "outputs": [
    {
     "data": {
      "text/html": [
       "<div>\n",
       "<style scoped>\n",
       "    .dataframe tbody tr th:only-of-type {\n",
       "        vertical-align: middle;\n",
       "    }\n",
       "\n",
       "    .dataframe tbody tr th {\n",
       "        vertical-align: top;\n",
       "    }\n",
       "\n",
       "    .dataframe thead th {\n",
       "        text-align: right;\n",
       "    }\n",
       "</style>\n",
       "<table border=\"1\" class=\"dataframe\">\n",
       "  <thead>\n",
       "    <tr style=\"text-align: right;\">\n",
       "      <th></th>\n",
       "      <th>sup. en  km2</th>\n",
       "    </tr>\n",
       "  </thead>\n",
       "  <tbody>\n",
       "    <tr>\n",
       "      <th>Argentina</th>\n",
       "      <td>2780000</td>\n",
       "    </tr>\n",
       "    <tr>\n",
       "      <th>Brasil</th>\n",
       "      <td>8516000</td>\n",
       "    </tr>\n",
       "    <tr>\n",
       "      <th>Chile</th>\n",
       "      <td>756950</td>\n",
       "    </tr>\n",
       "    <tr>\n",
       "      <th>Colombia</th>\n",
       "      <td>1143000</td>\n",
       "    </tr>\n",
       "    <tr>\n",
       "      <th>Ecuador</th>\n",
       "      <td>283560</td>\n",
       "    </tr>\n",
       "    <tr>\n",
       "      <th>Paraguay</th>\n",
       "      <td>406752</td>\n",
       "    </tr>\n",
       "    <tr>\n",
       "      <th>Peru</th>\n",
       "      <td>1285216</td>\n",
       "    </tr>\n",
       "  </tbody>\n",
       "</table>\n",
       "</div>"
      ],
      "text/plain": [
       "           sup. en  km2\n",
       "Argentina       2780000\n",
       "Brasil          8516000\n",
       "Chile            756950\n",
       "Colombia        1143000\n",
       "Ecuador          283560\n",
       "Paraguay         406752\n",
       "Peru            1285216"
      ]
     },
     "execution_count": 22,
     "metadata": {},
     "output_type": "execute_result"
    }
   ],
   "source": [
    "# El uso de \":\" indica que queremos buscar en todos los elementos\n",
    "paises3.loc[:, [\"sup. en  km2\"]]"
   ]
  },
  {
   "cell_type": "code",
   "execution_count": 26,
   "id": "fc3e86f6",
   "metadata": {},
   "outputs": [
    {
     "data": {
      "text/plain": [
       "Argentina     45380000\n",
       "Brasil       212600000\n",
       "Chile         19120000\n",
       "Colombia      50880000\n",
       "Ecuador       17640000\n",
       "Paraguay       7133000\n",
       "Peru          32970000\n",
       "Name: poblacion, dtype: int64"
      ]
     },
     "execution_count": 26,
     "metadata": {},
     "output_type": "execute_result"
    }
   ],
   "source": [
    "# Formas alternativa de mostrar una sola columna de un dataframe\n",
    "paises3.poblacion\n",
    "paises3[\"poblacion\"] #forma recomendada"
   ]
  },
  {
   "cell_type": "code",
   "execution_count": 31,
   "id": "379e0760",
   "metadata": {},
   "outputs": [
    {
     "data": {
      "text/html": [
       "<div>\n",
       "<style scoped>\n",
       "    .dataframe tbody tr th:only-of-type {\n",
       "        vertical-align: middle;\n",
       "    }\n",
       "\n",
       "    .dataframe tbody tr th {\n",
       "        vertical-align: top;\n",
       "    }\n",
       "\n",
       "    .dataframe thead th {\n",
       "        text-align: right;\n",
       "    }\n",
       "</style>\n",
       "<table border=\"1\" class=\"dataframe\">\n",
       "  <thead>\n",
       "    <tr style=\"text-align: right;\">\n",
       "      <th></th>\n",
       "      <th>capital</th>\n",
       "      <th>poblacion</th>\n",
       "      <th>sup. en  km2</th>\n",
       "    </tr>\n",
       "  </thead>\n",
       "  <tbody>\n",
       "    <tr>\n",
       "      <th>Argentina</th>\n",
       "      <td>Buenos Aires</td>\n",
       "      <td>45380000</td>\n",
       "      <td>2780000</td>\n",
       "    </tr>\n",
       "    <tr>\n",
       "      <th>Brasil</th>\n",
       "      <td>Brasilia</td>\n",
       "      <td>212600000</td>\n",
       "      <td>8516000</td>\n",
       "    </tr>\n",
       "    <tr>\n",
       "      <th>Colombia</th>\n",
       "      <td>Bogotá</td>\n",
       "      <td>50880000</td>\n",
       "      <td>1143000</td>\n",
       "    </tr>\n",
       "    <tr>\n",
       "      <th>Peru</th>\n",
       "      <td>Lima</td>\n",
       "      <td>32970000</td>\n",
       "      <td>1285216</td>\n",
       "    </tr>\n",
       "  </tbody>\n",
       "</table>\n",
       "</div>"
      ],
      "text/plain": [
       "                capital  poblacion  sup. en  km2\n",
       "Argentina  Buenos Aires   45380000       2780000\n",
       "Brasil         Brasilia  212600000       8516000\n",
       "Colombia         Bogotá   50880000       1143000\n",
       "Peru               Lima   32970000       1285216"
      ]
     },
     "execution_count": 31,
     "metadata": {},
     "output_type": "execute_result"
    }
   ],
   "source": [
    "# Mostrando paises con una superficie mayor a 1M de km2\n",
    "paises3.loc[paises3[\"sup. en  km2\"]>1000000]"
   ]
  }
 ],
 "metadata": {
  "kernelspec": {
   "display_name": "Python 3 (ipykernel)",
   "language": "python",
   "name": "python3"
  },
  "language_info": {
   "codemirror_mode": {
    "name": "ipython",
    "version": 3
   },
   "file_extension": ".py",
   "mimetype": "text/x-python",
   "name": "python",
   "nbconvert_exporter": "python",
   "pygments_lexer": "ipython3",
   "version": "3.10.9"
  }
 },
 "nbformat": 4,
 "nbformat_minor": 5
}

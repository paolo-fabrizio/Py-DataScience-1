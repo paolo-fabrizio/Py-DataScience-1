{
 "cells": [
  {
   "cell_type": "code",
   "execution_count": 1,
   "id": "7d826e9f",
   "metadata": {},
   "outputs": [],
   "source": [
    "import pandas as pd"
   ]
  },
  {
   "cell_type": "markdown",
   "id": "bdb38937",
   "metadata": {},
   "source": [
    "**Ejercicio 1:** Crear una serie con la siguiente lista, la cual contiene la altura de un grupo de personas medidas en cm"
   ]
  },
  {
   "cell_type": "code",
   "execution_count": 2,
   "id": "c909abe7",
   "metadata": {},
   "outputs": [],
   "source": [
    "altura=[166,159,168,173,162,178]"
   ]
  },
  {
   "cell_type": "code",
   "execution_count": 9,
   "id": "b5f30a3b",
   "metadata": {},
   "outputs": [
    {
     "data": {
      "text/plain": [
       "0    166\n",
       "1    159\n",
       "2    168\n",
       "3    173\n",
       "4    162\n",
       "5    178\n",
       "dtype: int64"
      ]
     },
     "execution_count": 9,
     "metadata": {},
     "output_type": "execute_result"
    }
   ],
   "source": [
    "serie_altura = pd.Series(altura)\n",
    "serie_altura"
   ]
  },
  {
   "cell_type": "markdown",
   "id": "18af330f",
   "metadata": {},
   "source": [
    "**Ejercicio 2:** Obtener la altura máxima en la serie anterior"
   ]
  },
  {
   "cell_type": "code",
   "execution_count": 10,
   "id": "4b046849",
   "metadata": {},
   "outputs": [
    {
     "data": {
      "text/plain": [
       "178"
      ]
     },
     "execution_count": 10,
     "metadata": {},
     "output_type": "execute_result"
    }
   ],
   "source": [
    "serie_altura.max()"
   ]
  },
  {
   "cell_type": "markdown",
   "id": "594e3f5e",
   "metadata": {},
   "source": [
    "**Ejercicio 3:** Obtener las alturas superiores a 165 cm"
   ]
  },
  {
   "cell_type": "code",
   "execution_count": 13,
   "id": "8ef4c90a",
   "metadata": {},
   "outputs": [
    {
     "data": {
      "text/plain": [
       "0    166\n",
       "2    168\n",
       "3    173\n",
       "5    178\n",
       "dtype: int64"
      ]
     },
     "execution_count": 13,
     "metadata": {},
     "output_type": "execute_result"
    }
   ],
   "source": [
    "serie_altura[serie_altura > 165]"
   ]
  },
  {
   "cell_type": "markdown",
   "id": "a7d2a46e",
   "metadata": {},
   "source": [
    "**Ejercicio 4:** calcular la altura en metros (dividir los valores en la columna altura entre 100)"
   ]
  },
  {
   "cell_type": "code",
   "execution_count": 15,
   "id": "c2712bad",
   "metadata": {},
   "outputs": [
    {
     "data": {
      "text/plain": [
       "0    1.66\n",
       "1    1.59\n",
       "2    1.68\n",
       "3    1.73\n",
       "4    1.62\n",
       "5    1.78\n",
       "dtype: float64"
      ]
     },
     "execution_count": 15,
     "metadata": {},
     "output_type": "execute_result"
    }
   ],
   "source": [
    "serie_altura = serie_altura / 100\n",
    "serie_altura"
   ]
  },
  {
   "cell_type": "markdown",
   "id": "570eaa5d",
   "metadata": {},
   "source": [
    "**Ejercicio 5:** Crear un DataFrame utilizando la siguiente información, utilizar la columna flor como índice"
   ]
  },
  {
   "cell_type": "code",
   "execution_count": 18,
   "id": "e7fc2a9f",
   "metadata": {},
   "outputs": [],
   "source": [
    "datos = {\n",
    "    \"flor\": [\"Rosa\", \"Tulipan\", \"Hortensia\", \"Anturio\", \"Alstroemeria\", \"Girasol\", \"Gerbera\"],\n",
    "    \"precio\": [12, 15, 9, 18, 21, 13, 18],\n",
    "    \"stock\": [2900, 2300, 1800, 1900, 1700, 2500, 2200]\n",
    "}"
   ]
  },
  {
   "cell_type": "code",
   "execution_count": 21,
   "id": "0fecc34e",
   "metadata": {},
   "outputs": [
    {
     "data": {
      "text/html": [
       "<div>\n",
       "<style scoped>\n",
       "    .dataframe tbody tr th:only-of-type {\n",
       "        vertical-align: middle;\n",
       "    }\n",
       "\n",
       "    .dataframe tbody tr th {\n",
       "        vertical-align: top;\n",
       "    }\n",
       "\n",
       "    .dataframe thead th {\n",
       "        text-align: right;\n",
       "    }\n",
       "</style>\n",
       "<table border=\"1\" class=\"dataframe\">\n",
       "  <thead>\n",
       "    <tr style=\"text-align: right;\">\n",
       "      <th></th>\n",
       "      <th>precio</th>\n",
       "      <th>stock</th>\n",
       "    </tr>\n",
       "  </thead>\n",
       "  <tbody>\n",
       "    <tr>\n",
       "      <th>Rosa</th>\n",
       "      <td>12</td>\n",
       "      <td>2900</td>\n",
       "    </tr>\n",
       "    <tr>\n",
       "      <th>Tulipan</th>\n",
       "      <td>15</td>\n",
       "      <td>2300</td>\n",
       "    </tr>\n",
       "    <tr>\n",
       "      <th>Hortensia</th>\n",
       "      <td>9</td>\n",
       "      <td>1800</td>\n",
       "    </tr>\n",
       "    <tr>\n",
       "      <th>Anturio</th>\n",
       "      <td>18</td>\n",
       "      <td>1900</td>\n",
       "    </tr>\n",
       "    <tr>\n",
       "      <th>Alstroemeria</th>\n",
       "      <td>21</td>\n",
       "      <td>1700</td>\n",
       "    </tr>\n",
       "    <tr>\n",
       "      <th>Girasol</th>\n",
       "      <td>13</td>\n",
       "      <td>2500</td>\n",
       "    </tr>\n",
       "    <tr>\n",
       "      <th>Gerbera</th>\n",
       "      <td>18</td>\n",
       "      <td>2200</td>\n",
       "    </tr>\n",
       "  </tbody>\n",
       "</table>\n",
       "</div>"
      ],
      "text/plain": [
       "              precio  stock\n",
       "Rosa              12   2900\n",
       "Tulipan           15   2300\n",
       "Hortensia          9   1800\n",
       "Anturio           18   1900\n",
       "Alstroemeria      21   1700\n",
       "Girasol           13   2500\n",
       "Gerbera           18   2200"
      ]
     },
     "execution_count": 21,
     "metadata": {},
     "output_type": "execute_result"
    }
   ],
   "source": [
    "flores = pd.DataFrame(datos, index=datos[\"flor\"], columns=[\"precio\", \"stock\"])\n",
    "flores"
   ]
  },
  {
   "cell_type": "markdown",
   "id": "85df301e",
   "metadata": {},
   "source": [
    "**Ejercicio 6:** Obtener la información de las rosas y hortencias, también obtener sólo el precio de estas"
   ]
  },
  {
   "cell_type": "code",
   "execution_count": 24,
   "id": "5a344260",
   "metadata": {},
   "outputs": [
    {
     "data": {
      "text/html": [
       "<div>\n",
       "<style scoped>\n",
       "    .dataframe tbody tr th:only-of-type {\n",
       "        vertical-align: middle;\n",
       "    }\n",
       "\n",
       "    .dataframe tbody tr th {\n",
       "        vertical-align: top;\n",
       "    }\n",
       "\n",
       "    .dataframe thead th {\n",
       "        text-align: right;\n",
       "    }\n",
       "</style>\n",
       "<table border=\"1\" class=\"dataframe\">\n",
       "  <thead>\n",
       "    <tr style=\"text-align: right;\">\n",
       "      <th></th>\n",
       "      <th>precio</th>\n",
       "      <th>stock</th>\n",
       "    </tr>\n",
       "  </thead>\n",
       "  <tbody>\n",
       "    <tr>\n",
       "      <th>Rosa</th>\n",
       "      <td>12</td>\n",
       "      <td>2900</td>\n",
       "    </tr>\n",
       "    <tr>\n",
       "      <th>Hortensia</th>\n",
       "      <td>9</td>\n",
       "      <td>1800</td>\n",
       "    </tr>\n",
       "  </tbody>\n",
       "</table>\n",
       "</div>"
      ],
      "text/plain": [
       "           precio  stock\n",
       "Rosa           12   2900\n",
       "Hortensia       9   1800"
      ]
     },
     "execution_count": 24,
     "metadata": {},
     "output_type": "execute_result"
    }
   ],
   "source": [
    "flores.loc[[\"Rosa\", \"Hortensia\"]]"
   ]
  },
  {
   "cell_type": "code",
   "execution_count": 25,
   "id": "bb975a25",
   "metadata": {},
   "outputs": [
    {
     "data": {
      "text/html": [
       "<div>\n",
       "<style scoped>\n",
       "    .dataframe tbody tr th:only-of-type {\n",
       "        vertical-align: middle;\n",
       "    }\n",
       "\n",
       "    .dataframe tbody tr th {\n",
       "        vertical-align: top;\n",
       "    }\n",
       "\n",
       "    .dataframe thead th {\n",
       "        text-align: right;\n",
       "    }\n",
       "</style>\n",
       "<table border=\"1\" class=\"dataframe\">\n",
       "  <thead>\n",
       "    <tr style=\"text-align: right;\">\n",
       "      <th></th>\n",
       "      <th>precio</th>\n",
       "    </tr>\n",
       "  </thead>\n",
       "  <tbody>\n",
       "    <tr>\n",
       "      <th>Rosa</th>\n",
       "      <td>12</td>\n",
       "    </tr>\n",
       "    <tr>\n",
       "      <th>Hortensia</th>\n",
       "      <td>9</td>\n",
       "    </tr>\n",
       "  </tbody>\n",
       "</table>\n",
       "</div>"
      ],
      "text/plain": [
       "           precio\n",
       "Rosa           12\n",
       "Hortensia       9"
      ]
     },
     "execution_count": 25,
     "metadata": {},
     "output_type": "execute_result"
    }
   ],
   "source": [
    "flores.loc[[\"Rosa\", \"Hortensia\"], [\"precio\"]]"
   ]
  },
  {
   "cell_type": "markdown",
   "id": "ac0f9e4f",
   "metadata": {},
   "source": [
    "**Ejercicio 7**: Obtener la información sobre las flores en la posición 2 y 3"
   ]
  },
  {
   "cell_type": "code",
   "execution_count": 31,
   "id": "12698f2b",
   "metadata": {},
   "outputs": [
    {
     "data": {
      "text/html": [
       "<div>\n",
       "<style scoped>\n",
       "    .dataframe tbody tr th:only-of-type {\n",
       "        vertical-align: middle;\n",
       "    }\n",
       "\n",
       "    .dataframe tbody tr th {\n",
       "        vertical-align: top;\n",
       "    }\n",
       "\n",
       "    .dataframe thead th {\n",
       "        text-align: right;\n",
       "    }\n",
       "</style>\n",
       "<table border=\"1\" class=\"dataframe\">\n",
       "  <thead>\n",
       "    <tr style=\"text-align: right;\">\n",
       "      <th></th>\n",
       "      <th>precio</th>\n",
       "      <th>stock</th>\n",
       "    </tr>\n",
       "  </thead>\n",
       "  <tbody>\n",
       "    <tr>\n",
       "      <th>Tulipan</th>\n",
       "      <td>15</td>\n",
       "      <td>2300</td>\n",
       "    </tr>\n",
       "    <tr>\n",
       "      <th>Hortensia</th>\n",
       "      <td>9</td>\n",
       "      <td>1800</td>\n",
       "    </tr>\n",
       "  </tbody>\n",
       "</table>\n",
       "</div>"
      ],
      "text/plain": [
       "           precio  stock\n",
       "Tulipan        15   2300\n",
       "Hortensia       9   1800"
      ]
     },
     "execution_count": 31,
     "metadata": {},
     "output_type": "execute_result"
    }
   ],
   "source": [
    "flores.iloc[[1, 2], :] # usar : para mostrar todas las columnas"
   ]
  },
  {
   "cell_type": "markdown",
   "id": "194f45e2",
   "metadata": {},
   "source": [
    "**Ejercicio 8:** Obtener los datos de la columna precio"
   ]
  },
  {
   "cell_type": "code",
   "execution_count": 33,
   "id": "dd348e29",
   "metadata": {},
   "outputs": [
    {
     "data": {
      "text/plain": [
       "Rosa            12\n",
       "Tulipan         15\n",
       "Hortensia        9\n",
       "Anturio         18\n",
       "Alstroemeria    21\n",
       "Girasol         13\n",
       "Gerbera         18\n",
       "Name: precio, dtype: int64"
      ]
     },
     "execution_count": 33,
     "metadata": {},
     "output_type": "execute_result"
    }
   ],
   "source": [
    "flores.precio"
   ]
  },
  {
   "cell_type": "code",
   "execution_count": 34,
   "id": "01d7a483",
   "metadata": {},
   "outputs": [
    {
     "data": {
      "text/plain": [
       "Rosa            12\n",
       "Tulipan         15\n",
       "Hortensia        9\n",
       "Anturio         18\n",
       "Alstroemeria    21\n",
       "Girasol         13\n",
       "Gerbera         18\n",
       "Name: precio, dtype: int64"
      ]
     },
     "execution_count": 34,
     "metadata": {},
     "output_type": "execute_result"
    }
   ],
   "source": [
    "flores[\"precio\"]"
   ]
  },
  {
   "cell_type": "markdown",
   "id": "6c459e0a",
   "metadata": {},
   "source": [
    "**Ejercicio 9:** Obtener el precio promedio de las flores"
   ]
  },
  {
   "cell_type": "code",
   "execution_count": 36,
   "id": "6704e693",
   "metadata": {},
   "outputs": [
    {
     "data": {
      "text/plain": [
       "15.142857142857142"
      ]
     },
     "execution_count": 36,
     "metadata": {},
     "output_type": "execute_result"
    }
   ],
   "source": [
    "flores[\"precio\"].mean()"
   ]
  },
  {
   "cell_type": "markdown",
   "id": "d6b3741d",
   "metadata": {},
   "source": [
    "**Ejercicio 10:** Obtener los registros de las flores con un stock superior a 2000"
   ]
  },
  {
   "cell_type": "code",
   "execution_count": 45,
   "id": "9fa0355c",
   "metadata": {},
   "outputs": [
    {
     "data": {
      "text/html": [
       "<div>\n",
       "<style scoped>\n",
       "    .dataframe tbody tr th:only-of-type {\n",
       "        vertical-align: middle;\n",
       "    }\n",
       "\n",
       "    .dataframe tbody tr th {\n",
       "        vertical-align: top;\n",
       "    }\n",
       "\n",
       "    .dataframe thead th {\n",
       "        text-align: right;\n",
       "    }\n",
       "</style>\n",
       "<table border=\"1\" class=\"dataframe\">\n",
       "  <thead>\n",
       "    <tr style=\"text-align: right;\">\n",
       "      <th></th>\n",
       "      <th>precio</th>\n",
       "    </tr>\n",
       "  </thead>\n",
       "  <tbody>\n",
       "    <tr>\n",
       "      <th>Rosa</th>\n",
       "      <td>12</td>\n",
       "    </tr>\n",
       "    <tr>\n",
       "      <th>Tulipan</th>\n",
       "      <td>15</td>\n",
       "    </tr>\n",
       "    <tr>\n",
       "      <th>Girasol</th>\n",
       "      <td>13</td>\n",
       "    </tr>\n",
       "    <tr>\n",
       "      <th>Gerbera</th>\n",
       "      <td>18</td>\n",
       "    </tr>\n",
       "  </tbody>\n",
       "</table>\n",
       "</div>"
      ],
      "text/plain": [
       "         precio\n",
       "Rosa         12\n",
       "Tulipan      15\n",
       "Girasol      13\n",
       "Gerbera      18"
      ]
     },
     "execution_count": 45,
     "metadata": {},
     "output_type": "execute_result"
    }
   ],
   "source": [
    "flores.loc[flores[\"stock\"]>2000, [\"precio\"]]"
   ]
  },
  {
   "cell_type": "markdown",
   "id": "27740876",
   "metadata": {},
   "source": [
    "**Ejercicio 11:** Calcular el precio de las flores por docena"
   ]
  },
  {
   "cell_type": "code",
   "execution_count": 57,
   "id": "1dee7ffe",
   "metadata": {},
   "outputs": [
    {
     "data": {
      "text/html": [
       "<div>\n",
       "<style scoped>\n",
       "    .dataframe tbody tr th:only-of-type {\n",
       "        vertical-align: middle;\n",
       "    }\n",
       "\n",
       "    .dataframe tbody tr th {\n",
       "        vertical-align: top;\n",
       "    }\n",
       "\n",
       "    .dataframe thead th {\n",
       "        text-align: right;\n",
       "    }\n",
       "</style>\n",
       "<table border=\"1\" class=\"dataframe\">\n",
       "  <thead>\n",
       "    <tr style=\"text-align: right;\">\n",
       "      <th></th>\n",
       "      <th>precio</th>\n",
       "      <th>stock</th>\n",
       "      <th>precio docena</th>\n",
       "    </tr>\n",
       "  </thead>\n",
       "  <tbody>\n",
       "    <tr>\n",
       "      <th>Rosa</th>\n",
       "      <td>12</td>\n",
       "      <td>2900</td>\n",
       "      <td>144</td>\n",
       "    </tr>\n",
       "    <tr>\n",
       "      <th>Tulipan</th>\n",
       "      <td>15</td>\n",
       "      <td>2300</td>\n",
       "      <td>180</td>\n",
       "    </tr>\n",
       "    <tr>\n",
       "      <th>Hortensia</th>\n",
       "      <td>9</td>\n",
       "      <td>1800</td>\n",
       "      <td>108</td>\n",
       "    </tr>\n",
       "    <tr>\n",
       "      <th>Anturio</th>\n",
       "      <td>18</td>\n",
       "      <td>1900</td>\n",
       "      <td>216</td>\n",
       "    </tr>\n",
       "    <tr>\n",
       "      <th>Alstroemeria</th>\n",
       "      <td>21</td>\n",
       "      <td>1700</td>\n",
       "      <td>252</td>\n",
       "    </tr>\n",
       "    <tr>\n",
       "      <th>Girasol</th>\n",
       "      <td>13</td>\n",
       "      <td>2500</td>\n",
       "      <td>156</td>\n",
       "    </tr>\n",
       "    <tr>\n",
       "      <th>Gerbera</th>\n",
       "      <td>18</td>\n",
       "      <td>2200</td>\n",
       "      <td>216</td>\n",
       "    </tr>\n",
       "  </tbody>\n",
       "</table>\n",
       "</div>"
      ],
      "text/plain": [
       "              precio  stock  precio docena\n",
       "Rosa              12   2900            144\n",
       "Tulipan           15   2300            180\n",
       "Hortensia          9   1800            108\n",
       "Anturio           18   1900            216\n",
       "Alstroemeria      21   1700            252\n",
       "Girasol           13   2500            156\n",
       "Gerbera           18   2200            216"
      ]
     },
     "execution_count": 57,
     "metadata": {},
     "output_type": "execute_result"
    }
   ],
   "source": [
    "def docena(x):\n",
    "    return x * 12\n",
    "\n",
    "flores[\"precio docena\"] = flores[\"precio\"].apply(docena)\n",
    "flores"
   ]
  },
  {
   "cell_type": "markdown",
   "id": "e7e11edd",
   "metadata": {},
   "source": [
    "**Ejercicio 12:** Guardar el anteior DataFrame en un archivo llamado \"flores.xlsx\""
   ]
  },
  {
   "cell_type": "code",
   "execution_count": 58,
   "id": "e63c3583",
   "metadata": {},
   "outputs": [],
   "source": [
    "flores.to_excel(\"./flores.xlsx\", sheet_name=\"flores\", index_label=\"Flores\")"
   ]
  },
  {
   "cell_type": "code",
   "execution_count": 59,
   "id": "c6ed4387",
   "metadata": {},
   "outputs": [
    {
     "data": {
      "text/html": [
       "<div>\n",
       "<style scoped>\n",
       "    .dataframe tbody tr th:only-of-type {\n",
       "        vertical-align: middle;\n",
       "    }\n",
       "\n",
       "    .dataframe tbody tr th {\n",
       "        vertical-align: top;\n",
       "    }\n",
       "\n",
       "    .dataframe thead th {\n",
       "        text-align: right;\n",
       "    }\n",
       "</style>\n",
       "<table border=\"1\" class=\"dataframe\">\n",
       "  <thead>\n",
       "    <tr style=\"text-align: right;\">\n",
       "      <th></th>\n",
       "      <th>precio</th>\n",
       "      <th>stock</th>\n",
       "      <th>precio docena</th>\n",
       "    </tr>\n",
       "    <tr>\n",
       "      <th>Flores</th>\n",
       "      <th></th>\n",
       "      <th></th>\n",
       "      <th></th>\n",
       "    </tr>\n",
       "  </thead>\n",
       "  <tbody>\n",
       "    <tr>\n",
       "      <th>Rosa</th>\n",
       "      <td>12</td>\n",
       "      <td>2900</td>\n",
       "      <td>144</td>\n",
       "    </tr>\n",
       "    <tr>\n",
       "      <th>Tulipan</th>\n",
       "      <td>15</td>\n",
       "      <td>2300</td>\n",
       "      <td>180</td>\n",
       "    </tr>\n",
       "    <tr>\n",
       "      <th>Hortensia</th>\n",
       "      <td>9</td>\n",
       "      <td>1800</td>\n",
       "      <td>108</td>\n",
       "    </tr>\n",
       "    <tr>\n",
       "      <th>Anturio</th>\n",
       "      <td>18</td>\n",
       "      <td>1900</td>\n",
       "      <td>216</td>\n",
       "    </tr>\n",
       "    <tr>\n",
       "      <th>Alstroemeria</th>\n",
       "      <td>21</td>\n",
       "      <td>1700</td>\n",
       "      <td>252</td>\n",
       "    </tr>\n",
       "    <tr>\n",
       "      <th>Girasol</th>\n",
       "      <td>13</td>\n",
       "      <td>2500</td>\n",
       "      <td>156</td>\n",
       "    </tr>\n",
       "    <tr>\n",
       "      <th>Gerbera</th>\n",
       "      <td>18</td>\n",
       "      <td>2200</td>\n",
       "      <td>216</td>\n",
       "    </tr>\n",
       "  </tbody>\n",
       "</table>\n",
       "</div>"
      ],
      "text/plain": [
       "              precio  stock  precio docena\n",
       "Flores                                    \n",
       "Rosa              12   2900            144\n",
       "Tulipan           15   2300            180\n",
       "Hortensia          9   1800            108\n",
       "Anturio           18   1900            216\n",
       "Alstroemeria      21   1700            252\n",
       "Girasol           13   2500            156\n",
       "Gerbera           18   2200            216"
      ]
     },
     "execution_count": 59,
     "metadata": {},
     "output_type": "execute_result"
    }
   ],
   "source": [
    "pd.read_excel(\"./flores.xlsx\", sheet_name=\"flores\", index_col=\"Flores\")"
   ]
  }
 ],
 "metadata": {
  "kernelspec": {
   "display_name": "Python 3 (ipykernel)",
   "language": "python",
   "name": "python3"
  },
  "language_info": {
   "codemirror_mode": {
    "name": "ipython",
    "version": 3
   },
   "file_extension": ".py",
   "mimetype": "text/x-python",
   "name": "python",
   "nbconvert_exporter": "python",
   "pygments_lexer": "ipython3",
   "version": "3.10.9"
  }
 },
 "nbformat": 4,
 "nbformat_minor": 5
}

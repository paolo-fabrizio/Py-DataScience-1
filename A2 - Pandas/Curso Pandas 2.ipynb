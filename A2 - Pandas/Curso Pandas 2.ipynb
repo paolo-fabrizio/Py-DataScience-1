{
 "cells": [
  {
   "cell_type": "markdown",
   "id": "701ff8c4",
   "metadata": {},
   "source": [
    "# 3 Dataframes (Parte 2)"
   ]
  },
  {
   "cell_type": "code",
   "execution_count": 51,
   "id": "b18f732d",
   "metadata": {},
   "outputs": [],
   "source": [
    "import pandas as pd"
   ]
  },
  {
   "cell_type": "code",
   "execution_count": 52,
   "id": "0ada288d",
   "metadata": {},
   "outputs": [],
   "source": [
    "datos = {\n",
    "    \"nombre\":       [\"Argentina\", \"Brasil\", \"Chile\", \"Colombia\", \"Ecuador\", \"Paraguay\", \"Peru\"],\n",
    "    \"capital\":      [\"Buenos Aireaaa\", \"Brasilia\", \"Santiago de Chile\", \"Bogotá\", \"Quito\", \"Asunción\", \"Lima\"],\n",
    "    \"poblacion\":    [45380000, 212600000, 19120000, 50880000, 17640000, 7133000, 32970000],\n",
    "    \"sup. en km2\": [2780000, 8516000, 756950, 1143000, 283560, 406752, 1285216],\n",
    "}"
   ]
  },
  {
   "cell_type": "code",
   "execution_count": 53,
   "id": "6629cc35",
   "metadata": {},
   "outputs": [
    {
     "data": {
      "text/html": [
       "<div>\n",
       "<style scoped>\n",
       "    .dataframe tbody tr th:only-of-type {\n",
       "        vertical-align: middle;\n",
       "    }\n",
       "\n",
       "    .dataframe tbody tr th {\n",
       "        vertical-align: top;\n",
       "    }\n",
       "\n",
       "    .dataframe thead th {\n",
       "        text-align: right;\n",
       "    }\n",
       "</style>\n",
       "<table border=\"1\" class=\"dataframe\">\n",
       "  <thead>\n",
       "    <tr style=\"text-align: right;\">\n",
       "      <th></th>\n",
       "      <th>capital</th>\n",
       "      <th>poblacion</th>\n",
       "      <th>sup. en km2</th>\n",
       "    </tr>\n",
       "  </thead>\n",
       "  <tbody>\n",
       "    <tr>\n",
       "      <th>Argentina</th>\n",
       "      <td>Buenos Aireaaa</td>\n",
       "      <td>45380000</td>\n",
       "      <td>2780000</td>\n",
       "    </tr>\n",
       "    <tr>\n",
       "      <th>Brasil</th>\n",
       "      <td>Brasilia</td>\n",
       "      <td>212600000</td>\n",
       "      <td>8516000</td>\n",
       "    </tr>\n",
       "    <tr>\n",
       "      <th>Chile</th>\n",
       "      <td>Santiago de Chile</td>\n",
       "      <td>19120000</td>\n",
       "      <td>756950</td>\n",
       "    </tr>\n",
       "    <tr>\n",
       "      <th>Colombia</th>\n",
       "      <td>Bogotá</td>\n",
       "      <td>50880000</td>\n",
       "      <td>1143000</td>\n",
       "    </tr>\n",
       "    <tr>\n",
       "      <th>Ecuador</th>\n",
       "      <td>Quito</td>\n",
       "      <td>17640000</td>\n",
       "      <td>283560</td>\n",
       "    </tr>\n",
       "    <tr>\n",
       "      <th>Paraguay</th>\n",
       "      <td>Asunción</td>\n",
       "      <td>7133000</td>\n",
       "      <td>406752</td>\n",
       "    </tr>\n",
       "    <tr>\n",
       "      <th>Peru</th>\n",
       "      <td>Lima</td>\n",
       "      <td>32970000</td>\n",
       "      <td>1285216</td>\n",
       "    </tr>\n",
       "  </tbody>\n",
       "</table>\n",
       "</div>"
      ],
      "text/plain": [
       "                     capital  poblacion  sup. en km2\n",
       "Argentina     Buenos Aireaaa   45380000      2780000\n",
       "Brasil              Brasilia  212600000      8516000\n",
       "Chile      Santiago de Chile   19120000       756950\n",
       "Colombia              Bogotá   50880000      1143000\n",
       "Ecuador                Quito   17640000       283560\n",
       "Paraguay            Asunción    7133000       406752\n",
       "Peru                    Lima   32970000      1285216"
      ]
     },
     "execution_count": 53,
     "metadata": {},
     "output_type": "execute_result"
    }
   ],
   "source": [
    "paises3 = pd.DataFrame(datos, index=datos[\"nombre\"], columns=[\"capital\", \"poblacion\", \"sup. en km2\"])\n",
    "paises3"
   ]
  },
  {
   "cell_type": "markdown",
   "id": "880f2bfa",
   "metadata": {},
   "source": [
    "**Ejercicio 14:** Corregir el nombre de la capital Argentina a \"Buenos Aires\" utilizando la función loc"
   ]
  },
  {
   "cell_type": "code",
   "execution_count": 54,
   "id": "8315f046",
   "metadata": {},
   "outputs": [
    {
     "data": {
      "text/plain": [
       "'Buenos Aires'"
      ]
     },
     "execution_count": 54,
     "metadata": {},
     "output_type": "execute_result"
    }
   ],
   "source": [
    "paises3.loc[\"Argentina\", \"capital\"] = \"Buenos Aires\"\n",
    "paises3.loc[\"Argentina\", \"capital\"]"
   ]
  },
  {
   "cell_type": "markdown",
   "id": "a3a1a394",
   "metadata": {},
   "source": [
    "**Ejercicio 15:** Utilizar los datos de la fila en la tercera posición utilizando la función \"iloc\""
   ]
  },
  {
   "cell_type": "code",
   "execution_count": 55,
   "id": "5051dc2b",
   "metadata": {},
   "outputs": [
    {
     "data": {
      "text/plain": [
       "capital        Santiago de Chile\n",
       "poblacion               19120000\n",
       "sup. en km2               756950\n",
       "Name: Chile, dtype: object"
      ]
     },
     "execution_count": 55,
     "metadata": {},
     "output_type": "execute_result"
    }
   ],
   "source": [
    "paises3.iloc[2]"
   ]
  },
  {
   "cell_type": "code",
   "execution_count": 56,
   "id": "94fe1f1e",
   "metadata": {},
   "outputs": [
    {
     "data": {
      "text/plain": [
       "Argentina     45380000\n",
       "Brasil       212600000\n",
       "Chile         19120000\n",
       "Colombia      50880000\n",
       "Ecuador       17640000\n",
       "Paraguay       7133000\n",
       "Peru          32970000\n",
       "Name: poblacion, dtype: int64"
      ]
     },
     "execution_count": 56,
     "metadata": {},
     "output_type": "execute_result"
    }
   ],
   "source": [
    "# Obtener los datos en la segunda posición utilizadno iloc\n",
    "paises3.iloc[:, 1]"
   ]
  },
  {
   "cell_type": "markdown",
   "id": "edc0f957",
   "metadata": {},
   "source": [
    "**Ejercicio 16:** Obtener los datos de la fila en la tercera y cuarta posición utilizando iloc"
   ]
  },
  {
   "cell_type": "code",
   "execution_count": 57,
   "id": "d9e261ae",
   "metadata": {},
   "outputs": [
    {
     "data": {
      "text/html": [
       "<div>\n",
       "<style scoped>\n",
       "    .dataframe tbody tr th:only-of-type {\n",
       "        vertical-align: middle;\n",
       "    }\n",
       "\n",
       "    .dataframe tbody tr th {\n",
       "        vertical-align: top;\n",
       "    }\n",
       "\n",
       "    .dataframe thead th {\n",
       "        text-align: right;\n",
       "    }\n",
       "</style>\n",
       "<table border=\"1\" class=\"dataframe\">\n",
       "  <thead>\n",
       "    <tr style=\"text-align: right;\">\n",
       "      <th></th>\n",
       "      <th>capital</th>\n",
       "      <th>poblacion</th>\n",
       "      <th>sup. en km2</th>\n",
       "    </tr>\n",
       "  </thead>\n",
       "  <tbody>\n",
       "    <tr>\n",
       "      <th>Chile</th>\n",
       "      <td>Santiago de Chile</td>\n",
       "      <td>19120000</td>\n",
       "      <td>756950</td>\n",
       "    </tr>\n",
       "    <tr>\n",
       "      <th>Colombia</th>\n",
       "      <td>Bogotá</td>\n",
       "      <td>50880000</td>\n",
       "      <td>1143000</td>\n",
       "    </tr>\n",
       "  </tbody>\n",
       "</table>\n",
       "</div>"
      ],
      "text/plain": [
       "                    capital  poblacion  sup. en km2\n",
       "Chile     Santiago de Chile   19120000       756950\n",
       "Colombia             Bogotá   50880000      1143000"
      ]
     },
     "execution_count": 57,
     "metadata": {},
     "output_type": "execute_result"
    }
   ],
   "source": [
    "paises3.iloc[[2,3]]"
   ]
  },
  {
   "cell_type": "markdown",
   "id": "de67480f",
   "metadata": {},
   "source": [
    "**Ejercicio 17:** Obtener el nombre de las columnas en el DataFrame"
   ]
  },
  {
   "cell_type": "code",
   "execution_count": 58,
   "id": "7af1f872",
   "metadata": {},
   "outputs": [
    {
     "data": {
      "text/plain": [
       "Index(['capital', 'poblacion', 'sup. en km2'], dtype='object')"
      ]
     },
     "execution_count": 58,
     "metadata": {},
     "output_type": "execute_result"
    }
   ],
   "source": [
    "paises3.columns"
   ]
  },
  {
   "cell_type": "markdown",
   "id": "3845baf2",
   "metadata": {},
   "source": [
    "**Ejercicio 18:** Obtener la columna \"población\" con la notación del punto"
   ]
  },
  {
   "cell_type": "code",
   "execution_count": 59,
   "id": "8807d90a",
   "metadata": {},
   "outputs": [
    {
     "data": {
      "text/plain": [
       "Argentina     45380000\n",
       "Brasil       212600000\n",
       "Chile         19120000\n",
       "Colombia      50880000\n",
       "Ecuador       17640000\n",
       "Paraguay       7133000\n",
       "Peru          32970000\n",
       "Name: poblacion, dtype: int64"
      ]
     },
     "execution_count": 59,
     "metadata": {},
     "output_type": "execute_result"
    }
   ],
   "source": [
    "paises3.poblacion"
   ]
  },
  {
   "cell_type": "code",
   "execution_count": 60,
   "id": "59d8d04c",
   "metadata": {},
   "outputs": [
    {
     "data": {
      "text/plain": [
       "array([ 45380000, 212600000,  19120000,  50880000,  17640000,   7133000,\n",
       "        32970000], dtype=int64)"
      ]
     },
     "execution_count": 60,
     "metadata": {},
     "output_type": "execute_result"
    }
   ],
   "source": [
    "# Obtener los valores de la columna \"poblacion\"\n",
    "paises3.poblacion.values"
   ]
  },
  {
   "cell_type": "code",
   "execution_count": 61,
   "id": "b8a1e63c",
   "metadata": {},
   "outputs": [
    {
     "data": {
      "text/plain": [
       "'poblacion'"
      ]
     },
     "execution_count": 61,
     "metadata": {},
     "output_type": "execute_result"
    }
   ],
   "source": [
    "# Obtener el nombre de la columna \"poblacion\"\n",
    "paises3.poblacion.name"
   ]
  },
  {
   "cell_type": "markdown",
   "id": "b22f06e3",
   "metadata": {},
   "source": [
    "**Ejercicio 19:** Obtener valor mínimo, máximo y desviación estándar de la columna \"poblacion\""
   ]
  },
  {
   "cell_type": "code",
   "execution_count": 62,
   "id": "c5019d03",
   "metadata": {},
   "outputs": [
    {
     "data": {
      "text/plain": [
       "7133000"
      ]
     },
     "execution_count": 62,
     "metadata": {},
     "output_type": "execute_result"
    }
   ],
   "source": [
    "paises3[\"poblacion\"].min()"
   ]
  },
  {
   "cell_type": "code",
   "execution_count": 63,
   "id": "d5c7d6a4",
   "metadata": {},
   "outputs": [
    {
     "data": {
      "text/plain": [
       "212600000"
      ]
     },
     "execution_count": 63,
     "metadata": {},
     "output_type": "execute_result"
    }
   ],
   "source": [
    "paises3[\"poblacion\"].max()"
   ]
  },
  {
   "cell_type": "code",
   "execution_count": 64,
   "id": "4cafd17e",
   "metadata": {},
   "outputs": [
    {
     "data": {
      "text/plain": [
       "71188621.18043464"
      ]
     },
     "execution_count": 64,
     "metadata": {},
     "output_type": "execute_result"
    }
   ],
   "source": [
    "paises3[\"poblacion\"].std()"
   ]
  },
  {
   "cell_type": "markdown",
   "id": "300a217f",
   "metadata": {},
   "source": [
    "**Ejercicio 20:** Obtener un DataFrame con las columnas población y capital"
   ]
  },
  {
   "cell_type": "code",
   "execution_count": 65,
   "id": "0ce538ba",
   "metadata": {},
   "outputs": [
    {
     "data": {
      "text/html": [
       "<div>\n",
       "<style scoped>\n",
       "    .dataframe tbody tr th:only-of-type {\n",
       "        vertical-align: middle;\n",
       "    }\n",
       "\n",
       "    .dataframe tbody tr th {\n",
       "        vertical-align: top;\n",
       "    }\n",
       "\n",
       "    .dataframe thead th {\n",
       "        text-align: right;\n",
       "    }\n",
       "</style>\n",
       "<table border=\"1\" class=\"dataframe\">\n",
       "  <thead>\n",
       "    <tr style=\"text-align: right;\">\n",
       "      <th></th>\n",
       "      <th>capital</th>\n",
       "      <th>poblacion</th>\n",
       "    </tr>\n",
       "  </thead>\n",
       "  <tbody>\n",
       "    <tr>\n",
       "      <th>Argentina</th>\n",
       "      <td>Buenos Aires</td>\n",
       "      <td>45380000</td>\n",
       "    </tr>\n",
       "    <tr>\n",
       "      <th>Brasil</th>\n",
       "      <td>Brasilia</td>\n",
       "      <td>212600000</td>\n",
       "    </tr>\n",
       "    <tr>\n",
       "      <th>Chile</th>\n",
       "      <td>Santiago de Chile</td>\n",
       "      <td>19120000</td>\n",
       "    </tr>\n",
       "    <tr>\n",
       "      <th>Colombia</th>\n",
       "      <td>Bogotá</td>\n",
       "      <td>50880000</td>\n",
       "    </tr>\n",
       "    <tr>\n",
       "      <th>Ecuador</th>\n",
       "      <td>Quito</td>\n",
       "      <td>17640000</td>\n",
       "    </tr>\n",
       "    <tr>\n",
       "      <th>Paraguay</th>\n",
       "      <td>Asunción</td>\n",
       "      <td>7133000</td>\n",
       "    </tr>\n",
       "    <tr>\n",
       "      <th>Peru</th>\n",
       "      <td>Lima</td>\n",
       "      <td>32970000</td>\n",
       "    </tr>\n",
       "  </tbody>\n",
       "</table>\n",
       "</div>"
      ],
      "text/plain": [
       "                     capital  poblacion\n",
       "Argentina       Buenos Aires   45380000\n",
       "Brasil              Brasilia  212600000\n",
       "Chile      Santiago de Chile   19120000\n",
       "Colombia              Bogotá   50880000\n",
       "Ecuador                Quito   17640000\n",
       "Paraguay            Asunción    7133000\n",
       "Peru                    Lima   32970000"
      ]
     },
     "execution_count": 65,
     "metadata": {},
     "output_type": "execute_result"
    }
   ],
   "source": [
    "paises3[[\"capital\", \"poblacion\"]]"
   ]
  },
  {
   "cell_type": "markdown",
   "id": "f5df9939",
   "metadata": {},
   "source": [
    "**Ejercicio 20:** Obtener únicamente los datos de los paises con una población mayor a 50M"
   ]
  },
  {
   "cell_type": "code",
   "execution_count": 66,
   "id": "1a7ff676",
   "metadata": {},
   "outputs": [
    {
     "data": {
      "text/html": [
       "<div>\n",
       "<style scoped>\n",
       "    .dataframe tbody tr th:only-of-type {\n",
       "        vertical-align: middle;\n",
       "    }\n",
       "\n",
       "    .dataframe tbody tr th {\n",
       "        vertical-align: top;\n",
       "    }\n",
       "\n",
       "    .dataframe thead th {\n",
       "        text-align: right;\n",
       "    }\n",
       "</style>\n",
       "<table border=\"1\" class=\"dataframe\">\n",
       "  <thead>\n",
       "    <tr style=\"text-align: right;\">\n",
       "      <th></th>\n",
       "      <th>capital</th>\n",
       "      <th>poblacion</th>\n",
       "      <th>sup. en km2</th>\n",
       "    </tr>\n",
       "  </thead>\n",
       "  <tbody>\n",
       "    <tr>\n",
       "      <th>Brasil</th>\n",
       "      <td>Brasilia</td>\n",
       "      <td>212600000</td>\n",
       "      <td>8516000</td>\n",
       "    </tr>\n",
       "    <tr>\n",
       "      <th>Colombia</th>\n",
       "      <td>Bogotá</td>\n",
       "      <td>50880000</td>\n",
       "      <td>1143000</td>\n",
       "    </tr>\n",
       "  </tbody>\n",
       "</table>\n",
       "</div>"
      ],
      "text/plain": [
       "           capital  poblacion  sup. en km2\n",
       "Brasil    Brasilia  212600000      8516000\n",
       "Colombia    Bogotá   50880000      1143000"
      ]
     },
     "execution_count": 66,
     "metadata": {},
     "output_type": "execute_result"
    }
   ],
   "source": [
    "paises3.loc[paises3[\"poblacion\"] > 50000000]"
   ]
  },
  {
   "cell_type": "markdown",
   "id": "95960074",
   "metadata": {},
   "source": [
    "**Ejercicio 21:** Agregar una columna al DataFrame \"paises\" que contenga la población en millones de habitantes"
   ]
  },
  {
   "cell_type": "code",
   "execution_count": 67,
   "id": "38cb2c0a",
   "metadata": {},
   "outputs": [
    {
     "data": {
      "text/html": [
       "<div>\n",
       "<style scoped>\n",
       "    .dataframe tbody tr th:only-of-type {\n",
       "        vertical-align: middle;\n",
       "    }\n",
       "\n",
       "    .dataframe tbody tr th {\n",
       "        vertical-align: top;\n",
       "    }\n",
       "\n",
       "    .dataframe thead th {\n",
       "        text-align: right;\n",
       "    }\n",
       "</style>\n",
       "<table border=\"1\" class=\"dataframe\">\n",
       "  <thead>\n",
       "    <tr style=\"text-align: right;\">\n",
       "      <th></th>\n",
       "      <th>capital</th>\n",
       "      <th>poblacion</th>\n",
       "      <th>sup. en km2</th>\n",
       "      <th>pob. en millones</th>\n",
       "    </tr>\n",
       "  </thead>\n",
       "  <tbody>\n",
       "    <tr>\n",
       "      <th>Argentina</th>\n",
       "      <td>Buenos Aires</td>\n",
       "      <td>45380000</td>\n",
       "      <td>2780000</td>\n",
       "      <td>45.380</td>\n",
       "    </tr>\n",
       "    <tr>\n",
       "      <th>Brasil</th>\n",
       "      <td>Brasilia</td>\n",
       "      <td>212600000</td>\n",
       "      <td>8516000</td>\n",
       "      <td>212.600</td>\n",
       "    </tr>\n",
       "    <tr>\n",
       "      <th>Chile</th>\n",
       "      <td>Santiago de Chile</td>\n",
       "      <td>19120000</td>\n",
       "      <td>756950</td>\n",
       "      <td>19.120</td>\n",
       "    </tr>\n",
       "    <tr>\n",
       "      <th>Colombia</th>\n",
       "      <td>Bogotá</td>\n",
       "      <td>50880000</td>\n",
       "      <td>1143000</td>\n",
       "      <td>50.880</td>\n",
       "    </tr>\n",
       "    <tr>\n",
       "      <th>Ecuador</th>\n",
       "      <td>Quito</td>\n",
       "      <td>17640000</td>\n",
       "      <td>283560</td>\n",
       "      <td>17.640</td>\n",
       "    </tr>\n",
       "    <tr>\n",
       "      <th>Paraguay</th>\n",
       "      <td>Asunción</td>\n",
       "      <td>7133000</td>\n",
       "      <td>406752</td>\n",
       "      <td>7.133</td>\n",
       "    </tr>\n",
       "    <tr>\n",
       "      <th>Peru</th>\n",
       "      <td>Lima</td>\n",
       "      <td>32970000</td>\n",
       "      <td>1285216</td>\n",
       "      <td>32.970</td>\n",
       "    </tr>\n",
       "  </tbody>\n",
       "</table>\n",
       "</div>"
      ],
      "text/plain": [
       "                     capital  poblacion  sup. en km2  pob. en millones\n",
       "Argentina       Buenos Aires   45380000      2780000            45.380\n",
       "Brasil              Brasilia  212600000      8516000           212.600\n",
       "Chile      Santiago de Chile   19120000       756950            19.120\n",
       "Colombia              Bogotá   50880000      1143000            50.880\n",
       "Ecuador                Quito   17640000       283560            17.640\n",
       "Paraguay            Asunción    7133000       406752             7.133\n",
       "Peru                    Lima   32970000      1285216            32.970"
      ]
     },
     "execution_count": 67,
     "metadata": {},
     "output_type": "execute_result"
    }
   ],
   "source": [
    "paises3[\"pob. en millones\"] = paises3[\"poblacion\"]/1000000\n",
    "paises3"
   ]
  },
  {
   "cell_type": "markdown",
   "id": "8695c131",
   "metadata": {},
   "source": [
    "Volver a agregar una columna al DataFrame paises que contenga la población en millones de habitantes, utilizando la función apply"
   ]
  },
  {
   "cell_type": "code",
   "execution_count": 68,
   "id": "10cf1c6d",
   "metadata": {},
   "outputs": [],
   "source": [
    "def millones(x):\n",
    "    return x / 1000000\n",
    "\n",
    "paises3[\"pob. en millones\"] = paises3[\"poblacion\"].apply(millones)"
   ]
  },
  {
   "cell_type": "markdown",
   "id": "77afba1e",
   "metadata": {},
   "source": [
    "**Ejercicio 22:** Agregar una columna al DataFrame paises que contenga la población por cada Km2 de superficie, utilizando la función apply"
   ]
  },
  {
   "cell_type": "code",
   "execution_count": 77,
   "id": "fb4de3f3",
   "metadata": {},
   "outputs": [
    {
     "data": {
      "text/html": [
       "<div>\n",
       "<style scoped>\n",
       "    .dataframe tbody tr th:only-of-type {\n",
       "        vertical-align: middle;\n",
       "    }\n",
       "\n",
       "    .dataframe tbody tr th {\n",
       "        vertical-align: top;\n",
       "    }\n",
       "\n",
       "    .dataframe thead th {\n",
       "        text-align: right;\n",
       "    }\n",
       "</style>\n",
       "<table border=\"1\" class=\"dataframe\">\n",
       "  <thead>\n",
       "    <tr style=\"text-align: right;\">\n",
       "      <th></th>\n",
       "      <th>capital</th>\n",
       "      <th>poblacion</th>\n",
       "      <th>sup. en km2</th>\n",
       "      <th>pob. en millones</th>\n",
       "      <th>densidad</th>\n",
       "      <th>densidad pob.</th>\n",
       "    </tr>\n",
       "  </thead>\n",
       "  <tbody>\n",
       "    <tr>\n",
       "      <th>Argentina</th>\n",
       "      <td>Buenos Aires</td>\n",
       "      <td>45380000</td>\n",
       "      <td>2780000</td>\n",
       "      <td>45.380</td>\n",
       "      <td>16.323741</td>\n",
       "      <td>16.323741</td>\n",
       "    </tr>\n",
       "    <tr>\n",
       "      <th>Brasil</th>\n",
       "      <td>Brasilia</td>\n",
       "      <td>212600000</td>\n",
       "      <td>8516000</td>\n",
       "      <td>212.600</td>\n",
       "      <td>24.964772</td>\n",
       "      <td>24.964772</td>\n",
       "    </tr>\n",
       "    <tr>\n",
       "      <th>Chile</th>\n",
       "      <td>Santiago de Chile</td>\n",
       "      <td>19120000</td>\n",
       "      <td>756950</td>\n",
       "      <td>19.120</td>\n",
       "      <td>25.259264</td>\n",
       "      <td>25.259264</td>\n",
       "    </tr>\n",
       "    <tr>\n",
       "      <th>Colombia</th>\n",
       "      <td>Bogotá</td>\n",
       "      <td>50880000</td>\n",
       "      <td>1143000</td>\n",
       "      <td>50.880</td>\n",
       "      <td>44.514436</td>\n",
       "      <td>44.514436</td>\n",
       "    </tr>\n",
       "    <tr>\n",
       "      <th>Ecuador</th>\n",
       "      <td>Quito</td>\n",
       "      <td>17640000</td>\n",
       "      <td>283560</td>\n",
       "      <td>17.640</td>\n",
       "      <td>62.209056</td>\n",
       "      <td>62.209056</td>\n",
       "    </tr>\n",
       "    <tr>\n",
       "      <th>Paraguay</th>\n",
       "      <td>Asunción</td>\n",
       "      <td>7133000</td>\n",
       "      <td>406752</td>\n",
       "      <td>7.133</td>\n",
       "      <td>17.536484</td>\n",
       "      <td>17.536484</td>\n",
       "    </tr>\n",
       "    <tr>\n",
       "      <th>Peru</th>\n",
       "      <td>Lima</td>\n",
       "      <td>32970000</td>\n",
       "      <td>1285216</td>\n",
       "      <td>32.970</td>\n",
       "      <td>25.653275</td>\n",
       "      <td>25.653275</td>\n",
       "    </tr>\n",
       "  </tbody>\n",
       "</table>\n",
       "</div>"
      ],
      "text/plain": [
       "                     capital  poblacion  sup. en km2  pob. en millones  \\\n",
       "Argentina       Buenos Aires   45380000      2780000            45.380   \n",
       "Brasil              Brasilia  212600000      8516000           212.600   \n",
       "Chile      Santiago de Chile   19120000       756950            19.120   \n",
       "Colombia              Bogotá   50880000      1143000            50.880   \n",
       "Ecuador                Quito   17640000       283560            17.640   \n",
       "Paraguay            Asunción    7133000       406752             7.133   \n",
       "Peru                    Lima   32970000      1285216            32.970   \n",
       "\n",
       "            densidad  densidad pob.  \n",
       "Argentina  16.323741      16.323741  \n",
       "Brasil     24.964772      24.964772  \n",
       "Chile      25.259264      25.259264  \n",
       "Colombia   44.514436      44.514436  \n",
       "Ecuador    62.209056      62.209056  \n",
       "Paraguay   17.536484      17.536484  \n",
       "Peru       25.653275      25.653275  "
      ]
     },
     "execution_count": 77,
     "metadata": {},
     "output_type": "execute_result"
    }
   ],
   "source": [
    "def densidad(df):\n",
    "    return df[\"poblacion\"] / df[\"sup. en km2\"]\n",
    "\n",
    "paises3[\"densidad pob.\"] = paises3.apply(densidad, axis=1)\n",
    "paises3"
   ]
  },
  {
   "cell_type": "code",
   "execution_count": 78,
   "id": "621757fc",
   "metadata": {},
   "outputs": [
    {
     "data": {
      "text/html": [
       "<div>\n",
       "<style scoped>\n",
       "    .dataframe tbody tr th:only-of-type {\n",
       "        vertical-align: middle;\n",
       "    }\n",
       "\n",
       "    .dataframe tbody tr th {\n",
       "        vertical-align: top;\n",
       "    }\n",
       "\n",
       "    .dataframe thead th {\n",
       "        text-align: right;\n",
       "    }\n",
       "</style>\n",
       "<table border=\"1\" class=\"dataframe\">\n",
       "  <thead>\n",
       "    <tr style=\"text-align: right;\">\n",
       "      <th></th>\n",
       "      <th>capital</th>\n",
       "      <th>poblacion</th>\n",
       "      <th>sup. en km2</th>\n",
       "      <th>pob. en millones</th>\n",
       "      <th>densidad pob.</th>\n",
       "    </tr>\n",
       "  </thead>\n",
       "  <tbody>\n",
       "    <tr>\n",
       "      <th>Argentina</th>\n",
       "      <td>Buenos Aires</td>\n",
       "      <td>45380000</td>\n",
       "      <td>2780000</td>\n",
       "      <td>45.380</td>\n",
       "      <td>16.323741</td>\n",
       "    </tr>\n",
       "    <tr>\n",
       "      <th>Brasil</th>\n",
       "      <td>Brasilia</td>\n",
       "      <td>212600000</td>\n",
       "      <td>8516000</td>\n",
       "      <td>212.600</td>\n",
       "      <td>24.964772</td>\n",
       "    </tr>\n",
       "    <tr>\n",
       "      <th>Chile</th>\n",
       "      <td>Santiago de Chile</td>\n",
       "      <td>19120000</td>\n",
       "      <td>756950</td>\n",
       "      <td>19.120</td>\n",
       "      <td>25.259264</td>\n",
       "    </tr>\n",
       "    <tr>\n",
       "      <th>Colombia</th>\n",
       "      <td>Bogotá</td>\n",
       "      <td>50880000</td>\n",
       "      <td>1143000</td>\n",
       "      <td>50.880</td>\n",
       "      <td>44.514436</td>\n",
       "    </tr>\n",
       "    <tr>\n",
       "      <th>Ecuador</th>\n",
       "      <td>Quito</td>\n",
       "      <td>17640000</td>\n",
       "      <td>283560</td>\n",
       "      <td>17.640</td>\n",
       "      <td>62.209056</td>\n",
       "    </tr>\n",
       "    <tr>\n",
       "      <th>Paraguay</th>\n",
       "      <td>Asunción</td>\n",
       "      <td>7133000</td>\n",
       "      <td>406752</td>\n",
       "      <td>7.133</td>\n",
       "      <td>17.536484</td>\n",
       "    </tr>\n",
       "    <tr>\n",
       "      <th>Peru</th>\n",
       "      <td>Lima</td>\n",
       "      <td>32970000</td>\n",
       "      <td>1285216</td>\n",
       "      <td>32.970</td>\n",
       "      <td>25.653275</td>\n",
       "    </tr>\n",
       "  </tbody>\n",
       "</table>\n",
       "</div>"
      ],
      "text/plain": [
       "                     capital  poblacion  sup. en km2  pob. en millones  \\\n",
       "Argentina       Buenos Aires   45380000      2780000            45.380   \n",
       "Brasil              Brasilia  212600000      8516000           212.600   \n",
       "Chile      Santiago de Chile   19120000       756950            19.120   \n",
       "Colombia              Bogotá   50880000      1143000            50.880   \n",
       "Ecuador                Quito   17640000       283560            17.640   \n",
       "Paraguay            Asunción    7133000       406752             7.133   \n",
       "Peru                    Lima   32970000      1285216            32.970   \n",
       "\n",
       "           densidad pob.  \n",
       "Argentina      16.323741  \n",
       "Brasil         24.964772  \n",
       "Chile          25.259264  \n",
       "Colombia       44.514436  \n",
       "Ecuador        62.209056  \n",
       "Paraguay       17.536484  \n",
       "Peru           25.653275  "
      ]
     },
     "execution_count": 78,
     "metadata": {},
     "output_type": "execute_result"
    }
   ],
   "source": [
    "# Eliminando la columna \"densidad\"\n",
    "paises3 = paises3.drop(\"densidad\", axis=1)\n",
    "paises3"
   ]
  },
  {
   "cell_type": "markdown",
   "id": "67cc62f9",
   "metadata": {},
   "source": [
    "# 4 Guardando el DataFrame en archivos"
   ]
  },
  {
   "cell_type": "markdown",
   "id": "0250fe23",
   "metadata": {},
   "source": [
    "**Ejercicio 23:** Guardar el DataFrame en formato pickle y leerlo"
   ]
  },
  {
   "cell_type": "code",
   "execution_count": 79,
   "id": "9f298a05",
   "metadata": {},
   "outputs": [],
   "source": [
    "paises3.to_pickle(\"./pickle_test\")"
   ]
  },
  {
   "cell_type": "code",
   "execution_count": 81,
   "id": "237c3ff5",
   "metadata": {},
   "outputs": [
    {
     "data": {
      "text/html": [
       "<div>\n",
       "<style scoped>\n",
       "    .dataframe tbody tr th:only-of-type {\n",
       "        vertical-align: middle;\n",
       "    }\n",
       "\n",
       "    .dataframe tbody tr th {\n",
       "        vertical-align: top;\n",
       "    }\n",
       "\n",
       "    .dataframe thead th {\n",
       "        text-align: right;\n",
       "    }\n",
       "</style>\n",
       "<table border=\"1\" class=\"dataframe\">\n",
       "  <thead>\n",
       "    <tr style=\"text-align: right;\">\n",
       "      <th></th>\n",
       "      <th>capital</th>\n",
       "      <th>poblacion</th>\n",
       "      <th>sup. en km2</th>\n",
       "      <th>pob. en millones</th>\n",
       "      <th>densidad pob.</th>\n",
       "    </tr>\n",
       "  </thead>\n",
       "  <tbody>\n",
       "    <tr>\n",
       "      <th>Argentina</th>\n",
       "      <td>Buenos Aires</td>\n",
       "      <td>45380000</td>\n",
       "      <td>2780000</td>\n",
       "      <td>45.380</td>\n",
       "      <td>16.323741</td>\n",
       "    </tr>\n",
       "    <tr>\n",
       "      <th>Brasil</th>\n",
       "      <td>Brasilia</td>\n",
       "      <td>212600000</td>\n",
       "      <td>8516000</td>\n",
       "      <td>212.600</td>\n",
       "      <td>24.964772</td>\n",
       "    </tr>\n",
       "    <tr>\n",
       "      <th>Chile</th>\n",
       "      <td>Santiago de Chile</td>\n",
       "      <td>19120000</td>\n",
       "      <td>756950</td>\n",
       "      <td>19.120</td>\n",
       "      <td>25.259264</td>\n",
       "    </tr>\n",
       "    <tr>\n",
       "      <th>Colombia</th>\n",
       "      <td>Bogotá</td>\n",
       "      <td>50880000</td>\n",
       "      <td>1143000</td>\n",
       "      <td>50.880</td>\n",
       "      <td>44.514436</td>\n",
       "    </tr>\n",
       "    <tr>\n",
       "      <th>Ecuador</th>\n",
       "      <td>Quito</td>\n",
       "      <td>17640000</td>\n",
       "      <td>283560</td>\n",
       "      <td>17.640</td>\n",
       "      <td>62.209056</td>\n",
       "    </tr>\n",
       "    <tr>\n",
       "      <th>Paraguay</th>\n",
       "      <td>Asunción</td>\n",
       "      <td>7133000</td>\n",
       "      <td>406752</td>\n",
       "      <td>7.133</td>\n",
       "      <td>17.536484</td>\n",
       "    </tr>\n",
       "    <tr>\n",
       "      <th>Peru</th>\n",
       "      <td>Lima</td>\n",
       "      <td>32970000</td>\n",
       "      <td>1285216</td>\n",
       "      <td>32.970</td>\n",
       "      <td>25.653275</td>\n",
       "    </tr>\n",
       "  </tbody>\n",
       "</table>\n",
       "</div>"
      ],
      "text/plain": [
       "                     capital  poblacion  sup. en km2  pob. en millones  \\\n",
       "Argentina       Buenos Aires   45380000      2780000            45.380   \n",
       "Brasil              Brasilia  212600000      8516000           212.600   \n",
       "Chile      Santiago de Chile   19120000       756950            19.120   \n",
       "Colombia              Bogotá   50880000      1143000            50.880   \n",
       "Ecuador                Quito   17640000       283560            17.640   \n",
       "Paraguay            Asunción    7133000       406752             7.133   \n",
       "Peru                    Lima   32970000      1285216            32.970   \n",
       "\n",
       "           densidad pob.  \n",
       "Argentina      16.323741  \n",
       "Brasil         24.964772  \n",
       "Chile          25.259264  \n",
       "Colombia       44.514436  \n",
       "Ecuador        62.209056  \n",
       "Paraguay       17.536484  \n",
       "Peru           25.653275  "
      ]
     },
     "execution_count": 81,
     "metadata": {},
     "output_type": "execute_result"
    }
   ],
   "source": [
    "pd.read_pickle(\"./pickle_test\")"
   ]
  },
  {
   "cell_type": "markdown",
   "id": "a2202a5e",
   "metadata": {},
   "source": [
    "**Ejercicio 24:** Guardar el DataFrame paises en formato .csv y leerlo"
   ]
  },
  {
   "cell_type": "code",
   "execution_count": 82,
   "id": "f3e06f13",
   "metadata": {},
   "outputs": [],
   "source": [
    "paises3.to_csv(\"./csv_test\")"
   ]
  },
  {
   "cell_type": "code",
   "execution_count": 85,
   "id": "214b3387",
   "metadata": {},
   "outputs": [
    {
     "data": {
      "text/html": [
       "<div>\n",
       "<style scoped>\n",
       "    .dataframe tbody tr th:only-of-type {\n",
       "        vertical-align: middle;\n",
       "    }\n",
       "\n",
       "    .dataframe tbody tr th {\n",
       "        vertical-align: top;\n",
       "    }\n",
       "\n",
       "    .dataframe thead th {\n",
       "        text-align: right;\n",
       "    }\n",
       "</style>\n",
       "<table border=\"1\" class=\"dataframe\">\n",
       "  <thead>\n",
       "    <tr style=\"text-align: right;\">\n",
       "      <th></th>\n",
       "      <th>Unnamed: 0</th>\n",
       "      <th>capital</th>\n",
       "      <th>poblacion</th>\n",
       "      <th>sup. en km2</th>\n",
       "      <th>pob. en millones</th>\n",
       "      <th>densidad pob.</th>\n",
       "    </tr>\n",
       "  </thead>\n",
       "  <tbody>\n",
       "    <tr>\n",
       "      <th>0</th>\n",
       "      <td>Argentina</td>\n",
       "      <td>Buenos Aires</td>\n",
       "      <td>45380000</td>\n",
       "      <td>2780000</td>\n",
       "      <td>45.380</td>\n",
       "      <td>16.323741</td>\n",
       "    </tr>\n",
       "    <tr>\n",
       "      <th>1</th>\n",
       "      <td>Brasil</td>\n",
       "      <td>Brasilia</td>\n",
       "      <td>212600000</td>\n",
       "      <td>8516000</td>\n",
       "      <td>212.600</td>\n",
       "      <td>24.964772</td>\n",
       "    </tr>\n",
       "    <tr>\n",
       "      <th>2</th>\n",
       "      <td>Chile</td>\n",
       "      <td>Santiago de Chile</td>\n",
       "      <td>19120000</td>\n",
       "      <td>756950</td>\n",
       "      <td>19.120</td>\n",
       "      <td>25.259264</td>\n",
       "    </tr>\n",
       "    <tr>\n",
       "      <th>3</th>\n",
       "      <td>Colombia</td>\n",
       "      <td>Bogotá</td>\n",
       "      <td>50880000</td>\n",
       "      <td>1143000</td>\n",
       "      <td>50.880</td>\n",
       "      <td>44.514436</td>\n",
       "    </tr>\n",
       "    <tr>\n",
       "      <th>4</th>\n",
       "      <td>Ecuador</td>\n",
       "      <td>Quito</td>\n",
       "      <td>17640000</td>\n",
       "      <td>283560</td>\n",
       "      <td>17.640</td>\n",
       "      <td>62.209056</td>\n",
       "    </tr>\n",
       "    <tr>\n",
       "      <th>5</th>\n",
       "      <td>Paraguay</td>\n",
       "      <td>Asunción</td>\n",
       "      <td>7133000</td>\n",
       "      <td>406752</td>\n",
       "      <td>7.133</td>\n",
       "      <td>17.536484</td>\n",
       "    </tr>\n",
       "    <tr>\n",
       "      <th>6</th>\n",
       "      <td>Peru</td>\n",
       "      <td>Lima</td>\n",
       "      <td>32970000</td>\n",
       "      <td>1285216</td>\n",
       "      <td>32.970</td>\n",
       "      <td>25.653275</td>\n",
       "    </tr>\n",
       "  </tbody>\n",
       "</table>\n",
       "</div>"
      ],
      "text/plain": [
       "  Unnamed: 0            capital  poblacion  sup. en km2  pob. en millones  \\\n",
       "0  Argentina       Buenos Aires   45380000      2780000            45.380   \n",
       "1     Brasil           Brasilia  212600000      8516000           212.600   \n",
       "2      Chile  Santiago de Chile   19120000       756950            19.120   \n",
       "3   Colombia             Bogotá   50880000      1143000            50.880   \n",
       "4    Ecuador              Quito   17640000       283560            17.640   \n",
       "5   Paraguay           Asunción    7133000       406752             7.133   \n",
       "6       Peru               Lima   32970000      1285216            32.970   \n",
       "\n",
       "   densidad pob.  \n",
       "0      16.323741  \n",
       "1      24.964772  \n",
       "2      25.259264  \n",
       "3      44.514436  \n",
       "4      62.209056  \n",
       "5      17.536484  \n",
       "6      25.653275  "
      ]
     },
     "execution_count": 85,
     "metadata": {},
     "output_type": "execute_result"
    }
   ],
   "source": [
    "pd.read_csv(\"./csv_test\")"
   ]
  },
  {
   "cell_type": "markdown",
   "id": "b568d492",
   "metadata": {},
   "source": [
    "**Ejercicio 25:** Guardar el DataFrame paises en formato .xlsx y leerlo"
   ]
  },
  {
   "cell_type": "code",
   "execution_count": 87,
   "id": "43053949",
   "metadata": {},
   "outputs": [],
   "source": [
    "# Al guardar en formato excel, es necesario expecificar: la extensión, el nombre\n",
    "# de la hoja y el nombre de los indices\n",
    "paises3.to_excel(\"./excel_test.xlsx\", sheet_name=\"paises\", index_label=\"Pais\")"
   ]
  },
  {
   "cell_type": "code",
   "execution_count": 88,
   "id": "5910921c",
   "metadata": {},
   "outputs": [
    {
     "data": {
      "text/html": [
       "<div>\n",
       "<style scoped>\n",
       "    .dataframe tbody tr th:only-of-type {\n",
       "        vertical-align: middle;\n",
       "    }\n",
       "\n",
       "    .dataframe tbody tr th {\n",
       "        vertical-align: top;\n",
       "    }\n",
       "\n",
       "    .dataframe thead th {\n",
       "        text-align: right;\n",
       "    }\n",
       "</style>\n",
       "<table border=\"1\" class=\"dataframe\">\n",
       "  <thead>\n",
       "    <tr style=\"text-align: right;\">\n",
       "      <th></th>\n",
       "      <th>capital</th>\n",
       "      <th>poblacion</th>\n",
       "      <th>sup. en km2</th>\n",
       "      <th>pob. en millones</th>\n",
       "      <th>densidad pob.</th>\n",
       "    </tr>\n",
       "    <tr>\n",
       "      <th>Pais</th>\n",
       "      <th></th>\n",
       "      <th></th>\n",
       "      <th></th>\n",
       "      <th></th>\n",
       "      <th></th>\n",
       "    </tr>\n",
       "  </thead>\n",
       "  <tbody>\n",
       "    <tr>\n",
       "      <th>Argentina</th>\n",
       "      <td>Buenos Aires</td>\n",
       "      <td>45380000</td>\n",
       "      <td>2780000</td>\n",
       "      <td>45.380</td>\n",
       "      <td>16.323741</td>\n",
       "    </tr>\n",
       "    <tr>\n",
       "      <th>Brasil</th>\n",
       "      <td>Brasilia</td>\n",
       "      <td>212600000</td>\n",
       "      <td>8516000</td>\n",
       "      <td>212.600</td>\n",
       "      <td>24.964772</td>\n",
       "    </tr>\n",
       "    <tr>\n",
       "      <th>Chile</th>\n",
       "      <td>Santiago de Chile</td>\n",
       "      <td>19120000</td>\n",
       "      <td>756950</td>\n",
       "      <td>19.120</td>\n",
       "      <td>25.259264</td>\n",
       "    </tr>\n",
       "    <tr>\n",
       "      <th>Colombia</th>\n",
       "      <td>Bogotá</td>\n",
       "      <td>50880000</td>\n",
       "      <td>1143000</td>\n",
       "      <td>50.880</td>\n",
       "      <td>44.514436</td>\n",
       "    </tr>\n",
       "    <tr>\n",
       "      <th>Ecuador</th>\n",
       "      <td>Quito</td>\n",
       "      <td>17640000</td>\n",
       "      <td>283560</td>\n",
       "      <td>17.640</td>\n",
       "      <td>62.209056</td>\n",
       "    </tr>\n",
       "    <tr>\n",
       "      <th>Paraguay</th>\n",
       "      <td>Asunción</td>\n",
       "      <td>7133000</td>\n",
       "      <td>406752</td>\n",
       "      <td>7.133</td>\n",
       "      <td>17.536484</td>\n",
       "    </tr>\n",
       "    <tr>\n",
       "      <th>Peru</th>\n",
       "      <td>Lima</td>\n",
       "      <td>32970000</td>\n",
       "      <td>1285216</td>\n",
       "      <td>32.970</td>\n",
       "      <td>25.653275</td>\n",
       "    </tr>\n",
       "  </tbody>\n",
       "</table>\n",
       "</div>"
      ],
      "text/plain": [
       "                     capital  poblacion  sup. en km2  pob. en millones  \\\n",
       "Pais                                                                     \n",
       "Argentina       Buenos Aires   45380000      2780000            45.380   \n",
       "Brasil              Brasilia  212600000      8516000           212.600   \n",
       "Chile      Santiago de Chile   19120000       756950            19.120   \n",
       "Colombia              Bogotá   50880000      1143000            50.880   \n",
       "Ecuador                Quito   17640000       283560            17.640   \n",
       "Paraguay            Asunción    7133000       406752             7.133   \n",
       "Peru                    Lima   32970000      1285216            32.970   \n",
       "\n",
       "           densidad pob.  \n",
       "Pais                      \n",
       "Argentina      16.323741  \n",
       "Brasil         24.964772  \n",
       "Chile          25.259264  \n",
       "Colombia       44.514436  \n",
       "Ecuador        62.209056  \n",
       "Paraguay       17.536484  \n",
       "Peru           25.653275  "
      ]
     },
     "execution_count": 88,
     "metadata": {},
     "output_type": "execute_result"
    }
   ],
   "source": [
    "pd.read_excel(\"./excel_test.xlsx\", sheet_name=\"paises\", index_col=\"Pais\")"
   ]
  }
 ],
 "metadata": {
  "kernelspec": {
   "display_name": "Python 3 (ipykernel)",
   "language": "python",
   "name": "python3"
  },
  "language_info": {
   "codemirror_mode": {
    "name": "ipython",
    "version": 3
   },
   "file_extension": ".py",
   "mimetype": "text/x-python",
   "name": "python",
   "nbconvert_exporter": "python",
   "pygments_lexer": "ipython3",
   "version": "3.10.9"
  }
 },
 "nbformat": 4,
 "nbformat_minor": 5
}

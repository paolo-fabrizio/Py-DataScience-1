{
 "cells": [
  {
   "cell_type": "code",
   "execution_count": 1,
   "id": "0f97f9b6",
   "metadata": {},
   "outputs": [],
   "source": [
    "import re"
   ]
  },
  {
   "cell_type": "markdown",
   "id": "06e5aa7b",
   "metadata": {},
   "source": [
    "## 1 Consultas Básicas"
   ]
  },
  {
   "cell_type": "markdown",
   "id": "965429f6",
   "metadata": {},
   "source": [
    "**^** is the start of the string, we want the whole string to be that pattern  \n",
    "**$** is the end of the string  \n",
    "**+** means that pattern could occur at least once but can occur as many times as we like  \n",
    "**\\s** allow spaces  \n",
    "**\\d** allow digits (similar to 0-9) and special math symbols"
   ]
  },
  {
   "cell_type": "code",
   "execution_count": 2,
   "id": "e9926160",
   "metadata": {},
   "outputs": [
    {
     "name": "stdout",
     "output_type": "stream",
     "text": [
      "None\n",
      "None\n",
      "None\n",
      "<re.Match object; span=(0, 10), match='HELLOWORLD'>\n"
     ]
    }
   ],
   "source": [
    "# Looks for a string that starts with Uppercase and ends with Uppercase\n",
    "pattern_1 = re.compile(\"^[A-Z]+$\")\n",
    "\n",
    "print(pattern_1.search(\"Hello World\"))\n",
    "print(pattern_1.search(\"HELLO WORLD\"))\n",
    "print(pattern_1.search(\"HELLO WORLDa\"))\n",
    "print(pattern_1.search(\"HELLOWORLD\"))"
   ]
  },
  {
   "cell_type": "code",
   "execution_count": 3,
   "id": "f8bad2de",
   "metadata": {},
   "outputs": [
    {
     "name": "stdout",
     "output_type": "stream",
     "text": [
      "None\n",
      "None\n",
      "<re.Match object; span=(0, 10), match='helloworld'>\n"
     ]
    }
   ],
   "source": [
    "# Looks for a string that starts wiwth Lowercase and ends withc Lowercase\n",
    "pattern_2 = re.compile(\"^[a-z]+$\")\n",
    "\n",
    "print(pattern_2.search(\"Hello World\"))\n",
    "print(pattern_2.search(\"hello world\"))\n",
    "print(pattern_2.search(\"helloworld\"))"
   ]
  },
  {
   "cell_type": "markdown",
   "id": "37dc26dc",
   "metadata": {},
   "source": [
    "**search:** find the pattern in any part of the string  \n",
    "**match:** only finds it if string starts with the pattern"
   ]
  },
  {
   "cell_type": "code",
   "execution_count": 4,
   "id": "3cb6e80a",
   "metadata": {},
   "outputs": [
    {
     "name": "stdout",
     "output_type": "stream",
     "text": [
      "None\n",
      "<re.Match object; span=(1, 5), match='ello'>\n"
     ]
    }
   ],
   "source": [
    "# Looks for a string that contains a pattern with lowercase\n",
    "pattern_3 = re.compile(\"[a-z]+\")\n",
    "\n",
    "print(pattern_3.match(\"Hello world\"))\n",
    "print(pattern_3.search(\"Hello world\"))"
   ]
  },
  {
   "cell_type": "code",
   "execution_count": 5,
   "id": "9868b336",
   "metadata": {},
   "outputs": [
    {
     "name": "stdout",
     "output_type": "stream",
     "text": [
      "<re.Match object; span=(0, 11), match='Hello world'>\n",
      "<re.Match object; span=(0, 11), match='HellO WORLd'>\n"
     ]
    }
   ],
   "source": [
    "# Looks for a string with lower or uppercase characters and allowing spaces too\n",
    "pattern_4 = re.compile(\"^[a-zA-Z\\s]+$\")\n",
    "\n",
    "print(pattern_4.match(\"Hello world\"))\n",
    "print(pattern_4.search(\"HellO WORLd\"))"
   ]
  },
  {
   "cell_type": "markdown",
   "id": "ec3e19b5",
   "metadata": {},
   "source": [
    "## 2 Ejercicios"
   ]
  },
  {
   "cell_type": "markdown",
   "id": "6bc2d3ed",
   "metadata": {},
   "source": [
    "Crear una sola sentencia que reconozca todos los siguientes patrones\n",
    "a. 3 lowercase letters  \n",
    "b. 3-5 digits  \n",
    "c. one symbol  \n",
    "d. up to two uppercase characters\n",
    "\n",
    "\n",
    "**[^]** means \"not all of this\""
   ]
  },
  {
   "cell_type": "code",
   "execution_count": 6,
   "id": "4a82a74c",
   "metadata": {},
   "outputs": [
    {
     "name": "stdout",
     "output_type": "stream",
     "text": [
      "None\n",
      "<re.Match object; span=(0, 11), match='fff44511·AK'>\n",
      "<re.Match object; span=(0, 9), match='fff44511·'>\n",
      "None\n"
     ]
    }
   ],
   "source": [
    "pattern_x = re.compile(\"^[a-z]{3}[0-9]{3,5}[^a-zA-Z0-9]{1}[A-Z]{0,2}$\")\n",
    "print(pattern_x.search(\"abc2123//AJ\")) # not match because has 2 symbols instead of one\n",
    "print(pattern_x.search(\"fff44511·AK\")) # match\n",
    "print(pattern_x.search(\"fff44511·\")) # match because has 0 to 2 uppercases at the end\n",
    "print(pattern_x.search(\"abc123456##KJJ\")) # not match because has 6 digits instead of 3 to 5 "
   ]
  },
  {
   "cell_type": "code",
   "execution_count": 7,
   "id": "2a972344",
   "metadata": {},
   "outputs": [
    {
     "name": "stdout",
     "output_type": "stream",
     "text": [
      "<re.Match object; span=(0, 10), match='abcdefghij'>\n",
      "<re.Match object; span=(0, 10), match='0123456789'>\n",
      "<re.Match object; span=(0, 10), match='01=3$·67/9'>\n",
      "None\n",
      "None\n"
     ]
    }
   ],
   "source": [
    "# . any character\n",
    "# \\. dot symbol\n",
    "\n",
    "pattern_y = re.compile(\"^.{10}$\") # pattern has any character 10 times\n",
    "print(pattern_y.search(\"abcdefghij\"))\n",
    "print(pattern_y.search(\"0123456789\"))\n",
    "print(pattern_y.search(\"01=3$·67/9\"))\n",
    "print(pattern_y.search(\"abcdefghijk\")) # not match, has 11 characters\n",
    "print(pattern_y.search(\"abcdefghi\"))  # not match, has 9 characters"
   ]
  },
  {
   "cell_type": "markdown",
   "id": "24faf480",
   "metadata": {},
   "source": [
    "## 3 Final example: email structure validation"
   ]
  },
  {
   "cell_type": "code",
   "execution_count": 8,
   "id": "3f046c56",
   "metadata": {},
   "outputs": [
    {
     "name": "stdout",
     "output_type": "stream",
     "text": [
      "<re.Match object; span=(0, 19), match='mail@neuralnine.com'>\n",
      "<re.Match object; span=(0, 15), match='mymail@test.com'>\n",
      "None\n",
      "<re.Match object; span=(0, 30), match='my_fancy.e-mail@fancyurl123.de'>\n",
      "None\n",
      "None\n"
     ]
    }
   ],
   "source": [
    "# re.compile(\"^$\") basic start of a new regex\n",
    "# 0-9 and \\d are similar, but \\d accepts special math symbols\n",
    "pattern_z = re.compile(\"^[a-zA-Z0-9\\.\\-_]+@{1}[a-zA-Z\\d]+\\.{1}[a-zA-Z]{2,3}$\")\n",
    "print(pattern_z.search(\"mail@neuralnine.com\"))\n",
    "print(pattern_z.search(\"mymail@test.com\"))\n",
    "print(pattern_z.search(\"admin@mail.travel\"))\n",
    "print(pattern_z.search(\"my_fancy.e-mail@fancyurl123.de\"))\n",
    "print(pattern_z.search(\"somehting.something.com\"))\n",
    "print(pattern_z.search(\"mail@something\"))"
   ]
  }
 ],
 "metadata": {
  "kernelspec": {
   "display_name": "Python 3 (ipykernel)",
   "language": "python",
   "name": "python3"
  },
  "language_info": {
   "codemirror_mode": {
    "name": "ipython",
    "version": 3
   },
   "file_extension": ".py",
   "mimetype": "text/x-python",
   "name": "python",
   "nbconvert_exporter": "python",
   "pygments_lexer": "ipython3",
   "version": "3.10.9"
  }
 },
 "nbformat": 4,
 "nbformat_minor": 5
}

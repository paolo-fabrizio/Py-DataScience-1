{
 "cells": [
  {
   "cell_type": "markdown",
   "id": "7551c4d3",
   "metadata": {},
   "source": [
    "## 1 Web Scraping con Selenium"
   ]
  },
  {
   "cell_type": "markdown",
   "id": "9fe64da0",
   "metadata": {},
   "source": [
    "Importamos las librerias de Selenium necesarias para este algoritmo, en este caso webdriver, Service, By y Select."
   ]
  },
  {
   "cell_type": "code",
   "execution_count": 87,
   "id": "00f7f009",
   "metadata": {},
   "outputs": [],
   "source": [
    "from selenium import webdriver\n",
    "from selenium.webdriver.chrome.service import Service\n",
    "from selenium.webdriver.common.by import By\n",
    "from selenium.webdriver.support.ui import Select\n",
    "\n",
    "import time"
   ]
  },
  {
   "cell_type": "markdown",
   "id": "094ba7ec",
   "metadata": {},
   "source": [
    "- Localizamos el chromedriver, necesario para la ejecución de Selenium en chrome.\n",
    "- Configuramos las opciones del webdriver, en este caso especificamos al ruta del navegador instalado en la pc (\"Brave\").\n",
    "- Indicamos la url del sitio y lanzamos en algoritmo"
   ]
  },
  {
   "cell_type": "code",
   "execution_count": 88,
   "id": "04ec65ee",
   "metadata": {},
   "outputs": [
    {
     "name": "stderr",
     "output_type": "stream",
     "text": [
      "The version of chrome cannot be detected. Trying with latest driver version\n"
     ]
    }
   ],
   "source": [
    "path = 'D:\\Projects\\chromedriver'\n",
    "service = Service(executable_path=path)\n",
    "\n",
    "# Configuración webdriver para Brave\n",
    "option = webdriver.ChromeOptions()\n",
    "option.binary_location = 'C:/Program Files/BraveSoftware/Brave-Browser/Application/brave.exe'\n",
    "driver = webdriver.Chrome(service=service, options=option)\n",
    "\n",
    "# Abriendo el sitio mediante el driver\n",
    "url = \"https://opm-digemid.minsa.gob.pe/#/consulta-producto\"\n",
    "driver.get(url)"
   ]
  },
  {
   "cell_type": "code",
   "execution_count": 89,
   "id": "fb6f8f7f",
   "metadata": {},
   "outputs": [],
   "source": [
    "# se cierra la ventana inicial\n",
    "modal_content = driver.find_element(By.CLASS_NAME, 'modal-content')\n",
    "close_button = modal_content.find_element(By.XPATH, './/*[@class=\"btn btn-inverse btn-sm btn-s1 margin-gap \"]')\n",
    "close_button.click()"
   ]
  },
  {
   "cell_type": "markdown",
   "id": "7f1e2b37",
   "metadata": {},
   "source": [
    "Ubicamos los elementos html mediante sus clases o XPATH, la elección del método de localización dependerá de las características de cada uno de ellos. En este caso ubicamos el input del medicamento y el botón de búsqueda."
   ]
  },
  {
   "cell_type": "code",
   "execution_count": 90,
   "id": "cbb61c91",
   "metadata": {},
   "outputs": [],
   "source": [
    "input_container = driver.find_element(By.CLASS_NAME, 'autocomplete-container')\n",
    "txt_input = input_container.find_element(By.XPATH, '//*[@class=\"ng-untouched ng-pristine ng-valid\"]')\n",
    "search_button = driver.find_element(By.XPATH, '/html/body/app-root/app-consulta-productos-listar/div[3]/div[2]/div/div[1]/div[2]/div[2]/div[3]/div[2]/div/button')"
   ]
  },
  {
   "cell_type": "markdown",
   "id": "ab4e3709",
   "metadata": {},
   "source": [
    "Limpiamos el contenido del elemento txt_input, escribimos la entrada del medicamento que queremos buscar y seleccionamos el primer registro del dropdown."
   ]
  },
  {
   "cell_type": "code",
   "execution_count": 91,
   "id": "ee0d2637",
   "metadata": {},
   "outputs": [],
   "source": [
    "txt_input.clear()\n",
    "txt_input.send_keys(\"NAPROXENO\")\n",
    "time.sleep(1)\n",
    "drop_menu = input_container.find_element(By.XPATH, '//*[@class=\"suggestions-container is-visible\"]')\n",
    "time.sleep(1)\n",
    "drop_elements = drop_menu.find_elements(By.XPATH, './/*[@class=\"ng-tns-c0-0 ng-star-inserted\"]')\n",
    "\n",
    "drop_elements[0].click()"
   ]
  },
  {
   "cell_type": "markdown",
   "id": "d01b5f53",
   "metadata": {},
   "source": [
    "Seleccionamos el elemento \"farmacias\" en el dropdown \"Categoría de Establecimiento\" y hacemos click en el botón buscar."
   ]
  },
  {
   "cell_type": "code",
   "execution_count": 92,
   "id": "266e6014",
   "metadata": {},
   "outputs": [],
   "source": [
    "select = Select(driver.find_element(By.NAME, 'catEstablecimiento'))\n",
    "select.select_by_visible_text('FARMACIAS')"
   ]
  },
  {
   "cell_type": "code",
   "execution_count": 93,
   "id": "a2d54a24",
   "metadata": {},
   "outputs": [],
   "source": [
    "search_button.click()"
   ]
  },
  {
   "cell_type": "markdown",
   "id": "50e48728",
   "metadata": {},
   "source": [
    "Localizamos la tabla e importamos los resultados encontrados a un diccionario en python."
   ]
  },
  {
   "cell_type": "code",
   "execution_count": null,
   "id": "8ed2ed3f",
   "metadata": {},
   "outputs": [],
   "source": []
  },
  {
   "cell_type": "markdown",
   "id": "0edd1018",
   "metadata": {},
   "source": [
    "Finalmente, finalizamos la ejecución del driver"
   ]
  },
  {
   "cell_type": "code",
   "execution_count": 94,
   "id": "26cb8746",
   "metadata": {},
   "outputs": [],
   "source": [
    "driver.quit()"
   ]
  }
 ],
 "metadata": {
  "kernelspec": {
   "display_name": "Python 3 (ipykernel)",
   "language": "python",
   "name": "python3"
  },
  "language_info": {
   "codemirror_mode": {
    "name": "ipython",
    "version": 3
   },
   "file_extension": ".py",
   "mimetype": "text/x-python",
   "name": "python",
   "nbconvert_exporter": "python",
   "pygments_lexer": "ipython3",
   "version": "3.10.9"
  }
 },
 "nbformat": 4,
 "nbformat_minor": 5
}

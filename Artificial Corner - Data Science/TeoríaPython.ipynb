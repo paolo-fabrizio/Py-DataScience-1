{
 "cells": [
  {
   "cell_type": "markdown",
   "id": "2502b4f6",
   "metadata": {},
   "source": [
    "# 1 Hola Mundo"
   ]
  },
  {
   "cell_type": "code",
   "execution_count": 1,
   "id": "68ee9ebf",
   "metadata": {},
   "outputs": [
    {
     "name": "stdout",
     "output_type": "stream",
     "text": [
      "Hello World\n"
     ]
    }
   ],
   "source": [
    "print(\"Hello World\")"
   ]
  },
  {
   "cell_type": "code",
   "execution_count": 5,
   "id": "3b62ef46",
   "metadata": {},
   "outputs": [
    {
     "data": {
      "text/plain": [
       "'Hello World'"
      ]
     },
     "execution_count": 5,
     "metadata": {},
     "output_type": "execute_result"
    }
   ],
   "source": [
    "# This code prints hello world\n",
    "\"Hello World\""
   ]
  },
  {
   "cell_type": "markdown",
   "id": "ec295338",
   "metadata": {},
   "source": [
    "# 2 Data Types"
   ]
  },
  {
   "cell_type": "code",
   "execution_count": 26,
   "id": "e110fb73",
   "metadata": {},
   "outputs": [
    {
     "name": "stdout",
     "output_type": "stream",
     "text": [
      "<class 'int'>\n",
      "<class 'float'>\n",
      "<class 'bool'>\n",
      "<class 'str'>\n"
     ]
    }
   ],
   "source": [
    "print(type(1))\n",
    "print(type(2.4))\n",
    "print(type(True))\n",
    "print(type(\"Hello World!\"))"
   ]
  },
  {
   "cell_type": "code",
   "execution_count": 27,
   "id": "fa8a5e4b",
   "metadata": {},
   "outputs": [
    {
     "name": "stdout",
     "output_type": "stream",
     "text": [
      "HELLO WORLD\n",
      "hello world\n",
      "Hello World\n"
     ]
    }
   ],
   "source": [
    "print(\"Hello World\".upper())\n",
    "print(\"Hello World\".lower())\n",
    "print(\"hello world\".title())"
   ]
  },
  {
   "cell_type": "code",
   "execution_count": 31,
   "id": "c02d9c31",
   "metadata": {},
   "outputs": [
    {
     "name": "stdout",
     "output_type": "stream",
     "text": [
      "3\n"
     ]
    },
    {
     "data": {
      "text/plain": [
       "'Hellu Wurld'"
      ]
     },
     "execution_count": 31,
     "metadata": {},
     "output_type": "execute_result"
    }
   ],
   "source": [
    "print(\"Hello World\".count('l'))\n",
    "\"Hello World\".replace('o', 'u')"
   ]
  },
  {
   "cell_type": "markdown",
   "id": "6447988c",
   "metadata": {},
   "source": [
    "# 3 Variables"
   ]
  },
  {
   "cell_type": "code",
   "execution_count": 35,
   "id": "9baf0241",
   "metadata": {},
   "outputs": [
    {
     "data": {
      "text/plain": [
       "'Estoy aprendiendo Python'"
      ]
     },
     "execution_count": 35,
     "metadata": {},
     "output_type": "execute_result"
    }
   ],
   "source": [
    "message_1 = \"Estoy aprendiendo Python\"\n",
    "message_1"
   ]
  },
  {
   "cell_type": "code",
   "execution_count": 37,
   "id": "ea4cfbb9",
   "metadata": {},
   "outputs": [
    {
     "data": {
      "text/plain": [
       "'y es divertido'"
      ]
     },
     "execution_count": 37,
     "metadata": {},
     "output_type": "execute_result"
    }
   ],
   "source": [
    "message_2 = \"y es divertido\"\n",
    "message_2\n",
    "\n",
    "message_1 +\" \"+ message_2"
   ]
  },
  {
   "cell_type": "code",
   "execution_count": 45,
   "id": "7f6d1340",
   "metadata": {},
   "outputs": [
    {
     "data": {
      "text/plain": [
       "'Estoy aprendiendo Python y es divertido'"
      ]
     },
     "execution_count": 45,
     "metadata": {},
     "output_type": "execute_result"
    }
   ],
   "source": [
    "#las cadenas de texto f permiten agregar variables\n",
    "message = f'Estoy aprendiendo Python {message_2}'\n",
    "message"
   ]
  },
  {
   "cell_type": "markdown",
   "id": "b344bccd",
   "metadata": {},
   "source": [
    "# 4 Listas"
   ]
  },
  {
   "cell_type": "code",
   "execution_count": 2,
   "id": "02961aa1",
   "metadata": {},
   "outputs": [
    {
     "name": "stdout",
     "output_type": "stream",
     "text": [
      "['United States', 'India', 'China', 'Brazil']\n",
      "United States\n",
      "Brazil\n",
      "India\n",
      "United States\n"
     ]
    }
   ],
   "source": [
    "countries = ['United States', 'India', 'China', 'Brazil']\n",
    "print(countries)\n",
    "print(countries[0])\n",
    "print(countries[3])\n",
    "\n",
    "print(countries[-3])\n",
    "print(countries[-4])"
   ]
  },
  {
   "cell_type": "markdown",
   "id": "858ab653",
   "metadata": {},
   "source": [
    "## 4.1 Slicing"
   ]
  },
  {
   "cell_type": "code",
   "execution_count": 3,
   "id": "cf8d54ac",
   "metadata": {},
   "outputs": [
    {
     "data": {
      "text/plain": [
       "['United States', 'India', 'China']"
      ]
     },
     "execution_count": 3,
     "metadata": {},
     "output_type": "execute_result"
    }
   ],
   "source": [
    "#nombre_lista[start:stop], stop es excluyente por lo tanto el ultimo elemento no se contará\n",
    "countries[0:3]"
   ]
  },
  {
   "cell_type": "code",
   "execution_count": 63,
   "id": "b160454c",
   "metadata": {},
   "outputs": [
    {
     "name": "stdout",
     "output_type": "stream",
     "text": [
      "['India', 'China', 'Brazil']\n",
      "['United States', 'India']\n"
     ]
    }
   ],
   "source": [
    "#countries[1:4] es igual a countries[1:]\n",
    "print(countries[1:])\n",
    "print(countries[:2])"
   ]
  },
  {
   "cell_type": "markdown",
   "id": "9c593731",
   "metadata": {},
   "source": [
    "## 4.2 Operaciones y Métodos"
   ]
  },
  {
   "cell_type": "code",
   "execution_count": 93,
   "id": "b58b033a",
   "metadata": {},
   "outputs": [],
   "source": [
    "countries.append('Canada')"
   ]
  },
  {
   "cell_type": "code",
   "execution_count": 94,
   "id": "37af5f30",
   "metadata": {},
   "outputs": [],
   "source": [
    "countries.insert(1, 'Peru')"
   ]
  },
  {
   "cell_type": "code",
   "execution_count": 79,
   "id": "e5844a35",
   "metadata": {},
   "outputs": [
    {
     "data": {
      "text/plain": [
       "['United States', 'Peru', 'India', 'China', 'Brazil', 'Canada']"
      ]
     },
     "execution_count": 79,
     "metadata": {},
     "output_type": "execute_result"
    }
   ],
   "source": [
    "countries"
   ]
  },
  {
   "cell_type": "code",
   "execution_count": 81,
   "id": "625b3a09",
   "metadata": {},
   "outputs": [
    {
     "data": {
      "text/plain": [
       "['United States',\n",
       " 'Peru',\n",
       " 'India',\n",
       " 'China',\n",
       " 'Brazil',\n",
       " 'Canada',\n",
       " 'UK',\n",
       " 'Alemania',\n",
       " 'Australia']"
      ]
     },
     "execution_count": 81,
     "metadata": {},
     "output_type": "execute_result"
    }
   ],
   "source": [
    "countries_2 = ['UK', 'Alemania', 'Australia']\n",
    "countries + countries_2"
   ]
  },
  {
   "cell_type": "code",
   "execution_count": 85,
   "id": "fb2fd301",
   "metadata": {},
   "outputs": [
    {
     "data": {
      "text/plain": [
       "[['United States', 'Peru', 'India', 'China', 'Brazil', 'Canada'],\n",
       " ['UK', 'Alemania', 'Australia']]"
      ]
     },
     "execution_count": 85,
     "metadata": {},
     "output_type": "execute_result"
    }
   ],
   "source": [
    "listas_anidadas = [countries, countries_2]\n",
    "listas_anidadas"
   ]
  },
  {
   "cell_type": "markdown",
   "id": "e62b07eb",
   "metadata": {},
   "source": [
    "### 4.2.1 Eliminar elementos"
   ]
  },
  {
   "cell_type": "code",
   "execution_count": 95,
   "id": "cf8ad7f6",
   "metadata": {},
   "outputs": [],
   "source": [
    "countries.remove('Canada') #elimina un elemento específico"
   ]
  },
  {
   "cell_type": "code",
   "execution_count": 96,
   "id": "3ad96634",
   "metadata": {},
   "outputs": [
    {
     "data": {
      "text/plain": [
       "'Peru'"
      ]
     },
     "execution_count": 96,
     "metadata": {},
     "output_type": "execute_result"
    }
   ],
   "source": [
    "countries.pop(1) #elimina un elemento, sólo admite index"
   ]
  },
  {
   "cell_type": "code",
   "execution_count": 98,
   "id": "91fb260e",
   "metadata": {},
   "outputs": [
    {
     "data": {
      "text/plain": [
       "['United States', 'India', 'China', 'Brazil']"
      ]
     },
     "execution_count": 98,
     "metadata": {},
     "output_type": "execute_result"
    }
   ],
   "source": [
    "countries"
   ]
  },
  {
   "cell_type": "code",
   "execution_count": 100,
   "id": "5c81ea5c",
   "metadata": {},
   "outputs": [
    {
     "data": {
      "text/plain": [
       "['United States', 'Brazil']"
      ]
     },
     "execution_count": 100,
     "metadata": {},
     "output_type": "execute_result"
    }
   ],
   "source": [
    "#función del, sólo admite index\n",
    "del countries[1]\n",
    "countries"
   ]
  },
  {
   "cell_type": "markdown",
   "id": "49f25795",
   "metadata": {},
   "source": [
    "### 4.2.2 Ordenar Lista"
   ]
  },
  {
   "cell_type": "code",
   "execution_count": 103,
   "id": "835d93e9",
   "metadata": {},
   "outputs": [
    {
     "data": {
      "text/plain": [
       "[4, 7, 10, 6, 2, 4]"
      ]
     },
     "execution_count": 103,
     "metadata": {},
     "output_type": "execute_result"
    }
   ],
   "source": [
    "numbers = [4,7,10,6,2,4]\n",
    "numbers"
   ]
  },
  {
   "cell_type": "code",
   "execution_count": 106,
   "id": "2cdfcc24",
   "metadata": {},
   "outputs": [
    {
     "data": {
      "text/plain": [
       "[2, 4, 4, 6, 7, 10]"
      ]
     },
     "execution_count": 106,
     "metadata": {},
     "output_type": "execute_result"
    }
   ],
   "source": [
    "numbers.sort()\n",
    "numbers"
   ]
  },
  {
   "cell_type": "code",
   "execution_count": 108,
   "id": "9c7d50cc",
   "metadata": {},
   "outputs": [
    {
     "data": {
      "text/plain": [
       "[10, 7, 6, 4, 4, 2]"
      ]
     },
     "execution_count": 108,
     "metadata": {},
     "output_type": "execute_result"
    }
   ],
   "source": [
    "numbers.sort(reverse=True)\n",
    "numbers"
   ]
  },
  {
   "cell_type": "code",
   "execution_count": 112,
   "id": "5ecf3ad9",
   "metadata": {},
   "outputs": [
    {
     "data": {
      "text/plain": [
       "[1000, 7, 6, 4, 4, 2]"
      ]
     },
     "execution_count": 112,
     "metadata": {},
     "output_type": "execute_result"
    }
   ],
   "source": [
    "numbers[0] = 1000\n",
    "numbers"
   ]
  },
  {
   "cell_type": "markdown",
   "id": "df3b6502",
   "metadata": {},
   "source": [
    "### 4.2.3 Copiar una Lista"
   ]
  },
  {
   "cell_type": "code",
   "execution_count": 116,
   "id": "22638269",
   "metadata": {},
   "outputs": [
    {
     "data": {
      "text/plain": [
       "['United States', 'Brazil', 'Argentina']"
      ]
     },
     "execution_count": 116,
     "metadata": {},
     "output_type": "execute_result"
    }
   ],
   "source": [
    "countries.append(\"Argentina\")\n",
    "copied_countries = countries.copy()\n",
    "copied_countries"
   ]
  },
  {
   "cell_type": "code",
   "execution_count": 119,
   "id": "dcbb51a1",
   "metadata": {},
   "outputs": [
    {
     "data": {
      "text/plain": [
       "['United States', 'Brazil']"
      ]
     },
     "execution_count": 119,
     "metadata": {},
     "output_type": "execute_result"
    }
   ],
   "source": [
    "copied_countries2 = countries[:2]\n",
    "copied_countries2"
   ]
  },
  {
   "cell_type": "markdown",
   "id": "26ca0cb1",
   "metadata": {},
   "source": [
    "# 5 Diccionarios"
   ]
  },
  {
   "cell_type": "code",
   "execution_count": 4,
   "id": "da7d3593",
   "metadata": {},
   "outputs": [
    {
     "data": {
      "text/plain": [
       "{'nombre': 'Paolo', 'edad': 24}"
      ]
     },
     "execution_count": 4,
     "metadata": {},
     "output_type": "execute_result"
    }
   ],
   "source": [
    "# mi_diccionario = {'key1':'value1', 'key2':'value2'}\n",
    "my_data = {'nombre':'Paolo', 'edad':24}\n",
    "my_data"
   ]
  },
  {
   "cell_type": "code",
   "execution_count": 12,
   "id": "04cf174a",
   "metadata": {},
   "outputs": [
    {
     "name": "stdout",
     "output_type": "stream",
     "text": [
      "Paolo\n",
      "dict_keys(['nombre', 'edad'])\n",
      "dict_values(['Paolo', 24])\n"
     ]
    },
    {
     "data": {
      "text/plain": [
       "dict_items([('nombre', 'Paolo'), ('edad', 24)])"
      ]
     },
     "execution_count": 12,
     "metadata": {},
     "output_type": "execute_result"
    }
   ],
   "source": [
    "print(my_data['nombre'])\n",
    "print(my_data.keys())\n",
    "print(my_data.values())\n",
    "my_data.items()"
   ]
  },
  {
   "cell_type": "markdown",
   "id": "ffe1104f",
   "metadata": {},
   "source": [
    "## 5.1 Actualizar elementos"
   ]
  },
  {
   "cell_type": "code",
   "execution_count": 18,
   "id": "76afebe0",
   "metadata": {},
   "outputs": [
    {
     "data": {
      "text/plain": [
       "{'nombre': 'Paolo', 'edad': 24, 'estatura': 1.8}"
      ]
     },
     "execution_count": 18,
     "metadata": {},
     "output_type": "execute_result"
    }
   ],
   "source": [
    "#agregar un elemento\n",
    "my_data = {'nombre':'Paolo', 'edad':24}\n",
    "my_data['estatura'] = 1.8\n",
    "my_data"
   ]
  },
  {
   "cell_type": "code",
   "execution_count": 34,
   "id": "1732d475",
   "metadata": {},
   "outputs": [
    {
     "data": {
      "text/plain": [
       "{'nombre': 'Paolo',\n",
       " 'edad': 24,\n",
       " 'estatura': 1.7,\n",
       " 'lenguajes': ['Inglés', 'Español', 'Portugués']}"
      ]
     },
     "execution_count": 34,
     "metadata": {},
     "output_type": "execute_result"
    }
   ],
   "source": [
    "#actualizar y agregar elementos con update()\n",
    "my_data.update({'estatura':1.7, 'lenguajes':['Inglés','Español','Portugués']})\n",
    "my_data"
   ]
  },
  {
   "cell_type": "markdown",
   "id": "fe3259c5",
   "metadata": {},
   "source": [
    "## 5.2 Copiar diccionario"
   ]
  },
  {
   "cell_type": "code",
   "execution_count": 32,
   "id": "79cd381f",
   "metadata": {},
   "outputs": [
    {
     "data": {
      "text/plain": [
       "{'nombre': 'Paolo',\n",
       " 'edad': 24,\n",
       " 'estatura': 1.7,\n",
       " 'lenguajes': ['Inglés', 'Español', 'Portugués']}"
      ]
     },
     "execution_count": 32,
     "metadata": {},
     "output_type": "execute_result"
    }
   ],
   "source": [
    "new_dictionary = my_data.copy()\n",
    "new_dictionary"
   ]
  },
  {
   "cell_type": "markdown",
   "id": "c0f62f8a",
   "metadata": {},
   "source": [
    "## 5.3 Eliminar elementos"
   ]
  },
  {
   "cell_type": "code",
   "execution_count": 36,
   "id": "d6573b3e",
   "metadata": {},
   "outputs": [
    {
     "data": {
      "text/plain": [
       "{'nombre': 'Paolo',\n",
       " 'edad': 24,\n",
       " 'estatura': 1.7,\n",
       " 'lenguajes': ['Inglés', 'Español', 'Portugués']}"
      ]
     },
     "execution_count": 36,
     "metadata": {},
     "output_type": "execute_result"
    }
   ],
   "source": [
    "my_data"
   ]
  },
  {
   "cell_type": "code",
   "execution_count": 38,
   "id": "4e00adc1",
   "metadata": {},
   "outputs": [
    {
     "ename": "KeyError",
     "evalue": "'estatura'",
     "output_type": "error",
     "traceback": [
      "\u001b[1;31m---------------------------------------------------------------------------\u001b[0m",
      "\u001b[1;31mKeyError\u001b[0m                                  Traceback (most recent call last)",
      "Cell \u001b[1;32mIn[38], line 1\u001b[0m\n\u001b[1;32m----> 1\u001b[0m \u001b[43mmy_data\u001b[49m\u001b[38;5;241;43m.\u001b[39;49m\u001b[43mpop\u001b[49m\u001b[43m(\u001b[49m\u001b[38;5;124;43m'\u001b[39;49m\u001b[38;5;124;43mestatura\u001b[39;49m\u001b[38;5;124;43m'\u001b[39;49m\u001b[43m)\u001b[49m\n\u001b[0;32m      2\u001b[0m my_data\n",
      "\u001b[1;31mKeyError\u001b[0m: 'estatura'"
     ]
    }
   ],
   "source": [
    "my_data.pop('estatura')\n",
    "my_data"
   ]
  },
  {
   "cell_type": "code",
   "execution_count": 39,
   "id": "14dc51d6",
   "metadata": {},
   "outputs": [
    {
     "data": {
      "text/plain": [
       "{'nombre': 'Paolo', 'edad': 24}"
      ]
     },
     "execution_count": 39,
     "metadata": {},
     "output_type": "execute_result"
    }
   ],
   "source": [
    "del my_data['lenguajes']\n",
    "my_data"
   ]
  },
  {
   "cell_type": "code",
   "execution_count": 44,
   "id": "21508397",
   "metadata": {},
   "outputs": [
    {
     "data": {
      "text/plain": [
       "{}"
      ]
     },
     "execution_count": 44,
     "metadata": {},
     "output_type": "execute_result"
    }
   ],
   "source": [
    "#eliminar todo dentro del diccionario\n",
    "my_data.clear()\n",
    "my_data"
   ]
  },
  {
   "cell_type": "markdown",
   "id": "1447929a",
   "metadata": {},
   "source": [
    "# 6 Condicional If"
   ]
  },
  {
   "cell_type": "code",
   "execution_count": 51,
   "id": "ac455c8e",
   "metadata": {},
   "outputs": [
    {
     "name": "stdout",
     "output_type": "stream",
     "text": [
      "Eres mayor de edad\n"
     ]
    }
   ],
   "source": [
    "edad = 24\n",
    "\n",
    "if edad >= 18:\n",
    "    print(\"Eres mayor de edad\")\n",
    "    \n",
    "elif edad>=13:\n",
    "    print(\"Eres un adolescente\")\n",
    "\n",
    "else:\n",
    "    print(\"Eres un niño\")"
   ]
  },
  {
   "cell_type": "code",
   "execution_count": 53,
   "id": "6ef470cc",
   "metadata": {},
   "outputs": [],
   "source": [
    "countries = ['United States', 'India', 'China', 'Brazil']"
   ]
  },
  {
   "cell_type": "code",
   "execution_count": 57,
   "id": "56646f90",
   "metadata": {},
   "outputs": [
    {
     "name": "stdout",
     "output_type": "stream",
     "text": [
      "País no está en la lista\n"
     ]
    }
   ],
   "source": [
    "if \"Peru\" in countries:\n",
    "    print(\"País está en la lista\")\n",
    "    \n",
    "else:\n",
    "    print(\"País no está en la lista\")"
   ]
  },
  {
   "cell_type": "markdown",
   "id": "378b448b",
   "metadata": {},
   "source": [
    "# 7 For loop (bucle for)"
   ]
  },
  {
   "cell_type": "code",
   "execution_count": 62,
   "id": "29d6fbcd",
   "metadata": {},
   "outputs": [
    {
     "name": "stdout",
     "output_type": "stream",
     "text": [
      "United States\n"
     ]
    }
   ],
   "source": [
    "for item in countries:\n",
    "    if item == \"United States\":\n",
    "        print(item)"
   ]
  },
  {
   "cell_type": "code",
   "execution_count": 64,
   "id": "2fa1447a",
   "metadata": {},
   "outputs": [
    {
     "name": "stdout",
     "output_type": "stream",
     "text": [
      "0\n",
      "United States\n",
      "1\n",
      "India\n",
      "2\n",
      "China\n",
      "3\n",
      "Brazil\n"
     ]
    }
   ],
   "source": [
    "for num, item in enumerate(countries):\n",
    "    print(num)\n",
    "    print(item)"
   ]
  },
  {
   "cell_type": "code",
   "execution_count": 66,
   "id": "c15f4633",
   "metadata": {},
   "outputs": [
    {
     "data": {
      "text/plain": [
       "{'nombre': 'Paolo', 'edad': 24}"
      ]
     },
     "execution_count": 66,
     "metadata": {},
     "output_type": "execute_result"
    }
   ],
   "source": [
    "my_data = {'nombre':'Paolo', 'edad':24}\n",
    "my_data"
   ]
  },
  {
   "cell_type": "code",
   "execution_count": 68,
   "id": "5c24924d",
   "metadata": {},
   "outputs": [
    {
     "name": "stdout",
     "output_type": "stream",
     "text": [
      "nombre\n",
      "Paolo\n",
      "edad\n",
      "24\n"
     ]
    }
   ],
   "source": [
    "for key, value in my_data.items():\n",
    "    print(key)\n",
    "    print(value)"
   ]
  },
  {
   "cell_type": "markdown",
   "id": "9584352a",
   "metadata": {},
   "source": [
    "# 8 Funciones"
   ]
  },
  {
   "cell_type": "markdown",
   "id": "dc29128e",
   "metadata": {},
   "source": [
    "## 8.1 Funciones pre-fabricadas"
   ]
  },
  {
   "cell_type": "code",
   "execution_count": 74,
   "id": "60e2cf5b",
   "metadata": {},
   "outputs": [
    {
     "data": {
      "text/plain": [
       "['Unit', 'India', 'China', 'Brazil']"
      ]
     },
     "execution_count": 74,
     "metadata": {},
     "output_type": "execute_result"
    }
   ],
   "source": [
    "countries = ['United States', 'India', 'China', 'Brazil']\n",
    "countries"
   ]
  },
  {
   "cell_type": "code",
   "execution_count": 77,
   "id": "e6f46e58",
   "metadata": {},
   "outputs": [
    {
     "data": {
      "text/plain": [
       "4"
      ]
     },
     "execution_count": 77,
     "metadata": {},
     "output_type": "execute_result"
    }
   ],
   "source": [
    "len(countries) #longitud de objeto"
   ]
  },
  {
   "cell_type": "code",
   "execution_count": 79,
   "id": "93f8e9a8",
   "metadata": {},
   "outputs": [
    {
     "data": {
      "text/plain": [
       "83"
      ]
     },
     "execution_count": 79,
     "metadata": {},
     "output_type": "execute_result"
    }
   ],
   "source": [
    "max([16, 83, 32, 1, 10])"
   ]
  },
  {
   "cell_type": "code",
   "execution_count": 81,
   "id": "a8116ae8",
   "metadata": {},
   "outputs": [
    {
     "data": {
      "text/plain": [
       "1"
      ]
     },
     "execution_count": 81,
     "metadata": {},
     "output_type": "execute_result"
    }
   ],
   "source": [
    "min([16, 83, 32, 1, 10])"
   ]
  },
  {
   "cell_type": "code",
   "execution_count": 82,
   "id": "c1be09a2",
   "metadata": {},
   "outputs": [
    {
     "data": {
      "text/plain": [
       "list"
      ]
     },
     "execution_count": 82,
     "metadata": {},
     "output_type": "execute_result"
    }
   ],
   "source": [
    "type(countries)"
   ]
  },
  {
   "cell_type": "code",
   "execution_count": 83,
   "id": "2439b4ab",
   "metadata": {},
   "outputs": [
    {
     "data": {
      "text/plain": [
       "dict"
      ]
     },
     "execution_count": 83,
     "metadata": {},
     "output_type": "execute_result"
    }
   ],
   "source": [
    "type(my_data)"
   ]
  },
  {
   "cell_type": "code",
   "execution_count": 85,
   "id": "978dce60",
   "metadata": {},
   "outputs": [
    {
     "data": {
      "text/plain": [
       "2.33"
      ]
     },
     "execution_count": 85,
     "metadata": {},
     "output_type": "execute_result"
    }
   ],
   "source": [
    "round(2.3333, 2)"
   ]
  },
  {
   "cell_type": "code",
   "execution_count": 89,
   "id": "bb11a783",
   "metadata": {},
   "outputs": [
    {
     "name": "stdout",
     "output_type": "stream",
     "text": [
      "1\n",
      "3\n",
      "5\n",
      "7\n",
      "9\n",
      "11\n"
     ]
    }
   ],
   "source": [
    "for i in range(1, 12, 2):\n",
    "    print(i)"
   ]
  },
  {
   "cell_type": "markdown",
   "id": "f84e3011",
   "metadata": {},
   "source": [
    "## 8.2 Crear una función"
   ]
  },
  {
   "cell_type": "code",
   "execution_count": 91,
   "id": "126c287a",
   "metadata": {},
   "outputs": [],
   "source": [
    "def sumar_numeros(a, b):\n",
    "    suma = a + b\n",
    "    return suma"
   ]
  },
  {
   "cell_type": "code",
   "execution_count": 95,
   "id": "e86774b0",
   "metadata": {},
   "outputs": [
    {
     "data": {
      "text/plain": [
       "12"
      ]
     },
     "execution_count": 95,
     "metadata": {},
     "output_type": "execute_result"
    }
   ],
   "source": [
    "sumar_numeros(5, 7)"
   ]
  },
  {
   "cell_type": "markdown",
   "id": "11522a6c",
   "metadata": {},
   "source": [
    "# 9 Módulos"
   ]
  },
  {
   "cell_type": "code",
   "execution_count": 1,
   "id": "480e6fae",
   "metadata": {},
   "outputs": [],
   "source": [
    "# Los módulos son código de python e incluyen clases, funciones, variables, etc.\n",
    "# Son similares a las librerías"
   ]
  },
  {
   "cell_type": "markdown",
   "id": "17c6bc42",
   "metadata": {},
   "source": [
    "## 9.1 Módulo OS"
   ]
  },
  {
   "cell_type": "code",
   "execution_count": 2,
   "id": "849f48ec",
   "metadata": {},
   "outputs": [],
   "source": [
    "import os"
   ]
  },
  {
   "cell_type": "code",
   "execution_count": 3,
   "id": "506e024d",
   "metadata": {},
   "outputs": [
    {
     "data": {
      "text/plain": [
       "'D:\\\\Projects\\\\Anaconda'"
      ]
     },
     "execution_count": 3,
     "metadata": {},
     "output_type": "execute_result"
    }
   ],
   "source": [
    "os.getcwd() #muestra la ruta del presente archivo"
   ]
  },
  {
   "cell_type": "code",
   "execution_count": 5,
   "id": "a614589e",
   "metadata": {},
   "outputs": [
    {
     "data": {
      "text/plain": [
       "['.ipynb_checkpoints', 'Test.ipynb']"
      ]
     },
     "execution_count": 5,
     "metadata": {},
     "output_type": "execute_result"
    }
   ],
   "source": [
    "os.listdir() #lista todos los archivos en la ruta"
   ]
  },
  {
   "cell_type": "code",
   "execution_count": 9,
   "id": "eac48576",
   "metadata": {},
   "outputs": [],
   "source": [
    "os.makedirs(\"Nueva Carpeta\")"
   ]
  },
  {
   "cell_type": "code",
   "execution_count": 10,
   "id": "a23020c5",
   "metadata": {},
   "outputs": [
    {
     "data": {
      "text/plain": [
       "['.ipynb_checkpoints', 'Nueva Carpeta', 'Test.ipynb']"
      ]
     },
     "execution_count": 10,
     "metadata": {},
     "output_type": "execute_result"
    }
   ],
   "source": [
    "os.listdir()"
   ]
  }
 ],
 "metadata": {
  "kernelspec": {
   "display_name": "Python 3 (ipykernel)",
   "language": "python",
   "name": "python3"
  },
  "language_info": {
   "codemirror_mode": {
    "name": "ipython",
    "version": 3
   },
   "file_extension": ".py",
   "mimetype": "text/x-python",
   "name": "python",
   "nbconvert_exporter": "python",
   "pygments_lexer": "ipython3",
   "version": "3.10.9"
  }
 },
 "nbformat": 4,
 "nbformat_minor": 5
}
